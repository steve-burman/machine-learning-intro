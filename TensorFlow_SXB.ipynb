{
  "nbformat": 4,
  "nbformat_minor": 0,
  "metadata": {
    "colab": {
      "name": "TensorFlow-SXB.ipynb",
      "provenance": [],
      "collapsed_sections": [],
      "include_colab_link": true
    },
    "kernelspec": {
      "name": "python3",
      "display_name": "Python 3"
    }
  },
  "cells": [
    {
      "cell_type": "markdown",
      "metadata": {
        "id": "view-in-github",
        "colab_type": "text"
      },
      "source": [
        "<a href=\"https://colab.research.google.com/github/steve-burman/machine-learning-intro/blob/master/TensorFlow_SXB.ipynb\" target=\"_parent\"><img src=\"https://colab.research.google.com/assets/colab-badge.svg\" alt=\"Open In Colab\"/></a>"
      ]
    },
    {
      "cell_type": "markdown",
      "metadata": {
        "id": "idb4wKK5JNH0",
        "colab_type": "text"
      },
      "source": [
        "# Machine Learning / AI Workbench\n",
        "* Steve Burman\n",
        "* architect & developer at Jeppesen, Inc\n",
        "* 303-249-1177\n",
        "* steve.burman@jeppesen.com\n",
        "\n",
        "---\n",
        "\n",
        "**Run this section to setup:**"
      ]
    },
    {
      "cell_type": "code",
      "metadata": {
        "id": "AriwKzLQPDKc",
        "colab_type": "code",
        "colab": {
          "base_uri": "https://localhost:8080/",
          "height": 67
        },
        "outputId": "6224fa7a-f3bc-49af-aaab-a165dc4e2f04"
      },
      "source": [
        "# Define common functions\n",
        "message = \"Welcome to Steve's Machine Learning / AI Workbench\"\n",
        "print( message )\n",
        "\n",
        "from urllib.request import urlretrieve\n",
        "import numpy as np\n",
        "from numpy import loadtxt\n",
        "from sklearn.utils import Bunch\n",
        "from sklearn.model_selection import train_test_split\n",
        "import graphviz\n",
        "\n",
        "%tensorflow_version  2.x\n",
        "import  tensorflow  as  tf\n",
        "print( \"tf.__version__:\", tf.__version__ )\n",
        "\n",
        "# analyze dataset\n",
        "def analyze_dataset(bunch):\n",
        "  print( \"Dataset details::\" )\n",
        "  print( \"feature_names = \", bunch.feature_names )\n",
        "  print( \"target_names = \", bunch.target_names )\n",
        "  # print( \"DESCR = \", bunch.DESCR[0:20] )\n",
        "  print( \"data[0:4] = \", bunch.data[0:4] )\n",
        "  print( \"target[0:4] = \", bunch.target[0:4] )\n",
        "\n",
        "def load_pima_diabetes():\n",
        "  # https://machinelearningmastery.com/tutorial-first-neural-network-python-keras/\n",
        "  # https://raw.githubusercontent.com/jbrownlee/Datasets/master/pima-indians-diabetes.names\n",
        "  bunch = Bunch()\n",
        "  bunch.target_names = [ 'Class 0', 'Class 1']\n",
        "  bunch.feature_names = [\n",
        "      'Times pregnant'\n",
        "    , 'Plasma glucose concentration'\n",
        "    , 'Diastolic blood pressure (mm Hg)'\n",
        "    , 'Triceps skin fold thickness (mm)'\n",
        "    , '2-Hour serum insulin (mu U/ml)'\n",
        "    , 'Body mass index (weight in kg/(height in m)^2)'\n",
        "    , 'Diabetes pedigree function'\n",
        "    , 'Age (years)'\n",
        "  ]\n",
        "  urlretrieve( url=\"https://raw.githubusercontent.com/jbrownlee/Datasets/master/pima-indians-diabetes.data.csv\"\n",
        "    , filename=\"pima-indians-diabetes.csv\" )\n",
        "  dataset = loadtxt('pima-indians-diabetes.csv', delimiter=',')\n",
        "  bunch.data = dataset[:,0:8]\n",
        "  bunch.target = dataset[:,8]\n",
        "  return bunch\n",
        "\n",
        "print( \"Setup complete\" )"
      ],
      "execution_count": 2,
      "outputs": [
        {
          "output_type": "stream",
          "text": [
            "Welcome to Steve's Machine Learning / AI Workbench\n",
            "tf.__version__: 2.1.0\n",
            "Setup complete\n"
          ],
          "name": "stdout"
        }
      ]
    },
    {
      "cell_type": "markdown",
      "metadata": {
        "id": "6GT3N0ViMyrL",
        "colab_type": "text"
      },
      "source": [
        "### Load Iris dataset"
      ]
    },
    {
      "cell_type": "code",
      "metadata": {
        "id": "15ybAivfM2MN",
        "colab_type": "code",
        "colab": {}
      },
      "source": [
        "from sklearn.datasets import load_iris\n",
        "\n",
        "iris_dataset = load_iris()\n",
        "analyze_dataset( iris_dataset )\n",
        "# print( \"iris_dataset:\", iris_dataset )\n",
        "for i in range( len( iris_dataset.target_names ) ):\n",
        "  print( \"Example: %d: label %s, features %s\" % ( i, iris_dataset.target_names[i], iris_dataset.data[i] ) )\n"
      ],
      "execution_count": 0,
      "outputs": []
    },
    {
      "cell_type": "markdown",
      "metadata": {
        "id": "4cqOS_qjVwKW",
        "colab_type": "text"
      },
      "source": [
        "### Load Hand-written digits dataset"
      ]
    },
    {
      "cell_type": "markdown",
      "metadata": {
        "id": "W3XWHVH3Vr6w",
        "colab_type": "text"
      },
      "source": [
        "[MNIST](https://en.wikipedia.org/wiki/MNIST_database) dataset, which is ~60K \"Labelled\" image files of hand-written digits.\n",
        "\n",
        "![MNIST dataset](https://miro.medium.com/max/479/1*yBdJCRwIJGoM7pwU-LNW6Q.png)"
      ]
    },
    {
      "cell_type": "code",
      "metadata": {
        "id": "aejLxBYwX5Y9",
        "colab_type": "code",
        "colab": {
          "base_uri": "https://localhost:8080/",
          "height": 34
        },
        "outputId": "dfd32709-a2f7-4a7a-cc59-2bee1f478bb9"
      },
      "source": [
        "# Load MNIST dataset\n",
        "mnist = tf.keras.datasets.mnist\n",
        "\n",
        "(X_train, y_train), (X_test, y_test) = mnist.load_data()\n",
        "X_train, X_test = X_train / 255.0, X_test / 255.0\n",
        "\n",
        "print( \"MNIST dataset loaded\" )"
      ],
      "execution_count": 4,
      "outputs": [
        {
          "output_type": "stream",
          "text": [
            "MNIST dataset loaded\n"
          ],
          "name": "stdout"
        }
      ]
    },
    {
      "cell_type": "markdown",
      "metadata": {
        "id": "BENBfJesNU6w",
        "colab_type": "text"
      },
      "source": [
        "### Load Pima Indians diabetes dataset\n",
        "Collaboration with Doug Eglseder\n"
      ]
    },
    {
      "cell_type": "markdown",
      "metadata": {
        "id": "P3tAUF6SXPVG",
        "colab_type": "text"
      },
      "source": [
        "Reference: [Jason Brownlee PhD](https://machinelearningmastery.com/tutorial-first-neural-network-python-keras/)\n",
        "\n",
        "![Pima Indians](https://3qeqpr26caki16dnhd19sv6by6v-wpengine.netdna-ssl.com/wp-content/uploads/2016/04/Tour-of-Deep-Learning-Algorithms.jpg)\n"
      ]
    },
    {
      "cell_type": "code",
      "metadata": {
        "id": "41JnBlnbNbzT",
        "colab_type": "code",
        "colab": {}
      },
      "source": [
        "# load Pima dataset\n",
        "pima_diabetes_dataset = load_pima_diabetes()\n",
        "analyze_dataset( pima_diabetes_dataset )"
      ],
      "execution_count": 0,
      "outputs": []
    },
    {
      "cell_type": "markdown",
      "metadata": {
        "id": "NSGw2h8Gh0QX",
        "colab_type": "text"
      },
      "source": [
        "# Linear Regression\n",
        "best fit using objective function:  y = m * x + b"
      ]
    },
    {
      "cell_type": "code",
      "metadata": {
        "id": "qIGzJ2pSI-FD",
        "colab_type": "code",
        "colab": {}
      },
      "source": [
        "import  matplotlib.pyplot  as plt\n",
        "\n",
        "%tensorflow_version  2.x\n",
        "import  tensorflow  as  tf\n",
        "print( tf.__version__ )\n",
        "\n",
        "from  tensorflow.keras  import Model\n",
        "\n",
        "%matplotlib inline\n",
        "\n",
        "def  createSimulatedData( m=0.1, b=0.3, n=100, stddev=0.1 ):\n",
        "  x = tf.random.uniform( shape=( n, ) )\n",
        "  noise = tf.random.normal( shape=( len(x), ), stddev=stddev )\n",
        "  y = m * x + b + noise\n",
        "  return x, y\n",
        "\n",
        "def calculateLineSlope(x1, y1, x2, y2):\n",
        "  dx = x2 - x1\n",
        "  dy = y2 - y1\n",
        "  m = dy / dx\n",
        "  return m"
      ],
      "execution_count": 0,
      "outputs": []
    },
    {
      "cell_type": "code",
      "metadata": {
        "id": "xvnFPOZ7qpvI",
        "colab_type": "code",
        "colab": {}
      },
      "source": [
        "m = calculateLineSlope( 6.9528, 46.3015, 7.0458, 46.1395 )\n",
        "x_train, y_train = createSimulatedData( m, 46.3015, 200 )\n",
        "plt.plot( x_train, y_train, 'b.' )"
      ],
      "execution_count": 0,
      "outputs": []
    },
    {
      "cell_type": "markdown",
      "metadata": {
        "id": "7rGQHGCPXCls",
        "colab_type": "text"
      },
      "source": [
        "# Decision Tree"
      ]
    },
    {
      "cell_type": "markdown",
      "metadata": {
        "id": "JWOTaoRshQqs",
        "colab_type": "text"
      },
      "source": [
        "Setup"
      ]
    },
    {
      "cell_type": "code",
      "metadata": {
        "id": "Yt-C7jHQXbyL",
        "colab_type": "code",
        "colab": {}
      },
      "source": [
        "from sklearn import tree\n",
        "\n",
        "# Train classifier\n",
        "def train_DecisionTreeClassifier( dataset ):\n",
        "  # set aside some of dataset as train_data and some as test_data (X=data, y=target)\n",
        "  train_data, test_data, train_target, test_target = train_test_split( dataset.data, dataset.target, test_size=0.25, random_state=42 )\n",
        "  print( \"train_data[:5]:\", train_data[:5] )\n",
        "  print( \"test_data[:5]:\", test_data[:5] )\n",
        "  print( \"train_target:\", train_target )\n",
        "  print( \"test_target:\", test_target )\n",
        "  # build Decision Tree Classifier\n",
        "  classifier = tree.DecisionTreeClassifier()\n",
        "  estimator = classifier.fit( train_data, train_target )\n",
        "  return train_data, test_data, train_target, test_target, classifier\n",
        "\n",
        "def visualize_decision_tree(classifier, dataset):\n",
        "  # tree.plot_tree( classifier.fit( dataset.data, dataset.target ) )\n",
        "  dot_data = tree.export_graphviz( classifier, out_file=None,\n",
        "                      feature_names=dataset.feature_names,\n",
        "                      class_names=dataset.target_names,\n",
        "                      filled=True, rounded=True,\n",
        "                      special_characters=True, precision=2)\n",
        "  graph = graphviz.Source( dot_data )\n",
        "  return graph\n",
        "\n",
        "print( \"Setup complete\" )"
      ],
      "execution_count": 0,
      "outputs": []
    },
    {
      "cell_type": "markdown",
      "metadata": {
        "id": "x61fU_BgXdSa",
        "colab_type": "text"
      },
      "source": [
        "## Train classifier"
      ]
    },
    {
      "cell_type": "code",
      "metadata": {
        "id": "f5wfFSmlXhuS",
        "colab_type": "code",
        "colab": {}
      },
      "source": [
        "train_data, test_data, train_target, test_target, classifier = train_DecisionTreeClassifier( iris_dataset )\n",
        "print( \"Iris DecisionTreeClassifier trained\" )\n",
        "\n",
        "# train_data, test_data, train_target, test_target, classifier = train_DecisionTreeClassifier( pima_diabetes_dataset )\n",
        "# print( \"Pima Indian Diabetes DecisionTreeClassifier trained\" )\n"
      ],
      "execution_count": 0,
      "outputs": []
    },
    {
      "cell_type": "markdown",
      "metadata": {
        "id": "7i_gI1KUXs2k",
        "colab_type": "text"
      },
      "source": [
        "## Predict label for new observation"
      ]
    },
    {
      "cell_type": "code",
      "metadata": {
        "id": "o3L4tzHvX12L",
        "colab_type": "code",
        "colab": {}
      },
      "source": [
        "# Predict label for new observation\n",
        "prediction = classifier.predict( test_data )\n",
        "print( \"test_target:\", test_target )\n",
        "print( \"prediction: \", prediction )"
      ],
      "execution_count": 0,
      "outputs": []
    },
    {
      "cell_type": "markdown",
      "metadata": {
        "id": "BdT6LY8GX4YS",
        "colab_type": "text"
      },
      "source": [
        "## Visualize decision tree"
      ]
    },
    {
      "cell_type": "code",
      "metadata": {
        "id": "S6TXUef8X8hA",
        "colab_type": "code",
        "colab": {}
      },
      "source": [
        "# Visualize decision tree\n",
        "visualize_decision_tree( classifier, iris_dataset )\n",
        "# visualize_decision_tree( classifier, pima_diabetes_dataset )"
      ],
      "execution_count": 0,
      "outputs": []
    },
    {
      "cell_type": "markdown",
      "metadata": {
        "id": "JTKMHY8QbXjU",
        "colab_type": "text"
      },
      "source": [
        "# Neural Networks"
      ]
    },
    {
      "cell_type": "markdown",
      "metadata": {
        "id": "RLit0xb0cEMa",
        "colab_type": "text"
      },
      "source": [
        "Setup"
      ]
    },
    {
      "cell_type": "code",
      "metadata": {
        "id": "75oLeGrDcFcn",
        "colab_type": "code",
        "colab": {
          "base_uri": "https://localhost:8080/",
          "height": 34
        },
        "outputId": "ca8c49fa-34ce-4ed0-c5fc-822f871e8e4e"
      },
      "source": [
        "import  matplotlib.pyplot  as plt\n",
        "%matplotlib inline\n",
        "\n",
        "from sklearn  import preprocessing\n",
        "\n",
        "from keras.utils import to_categorical\n",
        "\n",
        "from  tensorflow.keras  import Model\n",
        "from  tensorflow.keras  import Sequential\n",
        "from  tensorflow.keras.layers  import Dense\n",
        "from  tensorflow.keras.layers  import Dropout\n",
        "\n",
        "# Chart training progress\n",
        "def plot_training_progress(history):\n",
        "  accuracy     = history.history[     'accuracy' ]\n",
        "  val_accuracy = history.history[ 'val_accuracy' ]\n",
        "  loss     = history.history[     'loss' ]\n",
        "  val_loss = history.history[ 'val_loss' ]\n",
        "  epochs = range( len( accuracy ) )\n",
        "\n",
        "  plt.title( 'Training & Validation Accuracy' )\n",
        "  plt.plot( epochs,     accuracy, color='green',   label='Training' )\n",
        "  plt.plot( epochs, val_accuracy, color='orange', label='Validation' )\n",
        "  plt.xlabel( 'Epoch' )\n",
        "  plt.ylabel( 'Accuracy' )\n",
        "  plt.legend()\n",
        "  _ = plt.figure()\n",
        "\n",
        "  plt.title( 'Training & Validation Loss' )\n",
        "  plt.plot( epochs,     loss, color='red', label='Loss' )\n",
        "  plt.plot( epochs, val_loss, color='orange', label='Validation' )\n",
        "  plt.xlabel( 'Epoch' )\n",
        "  plt.ylabel( 'Loss' )\n",
        "  plt.legend()\n",
        "  _ = plt.figure()\n",
        "\n",
        "print( \"Neural Network Setup complete\" )"
      ],
      "execution_count": 6,
      "outputs": [
        {
          "output_type": "stream",
          "text": [
            "Neural Network Setup complete\n"
          ],
          "name": "stdout"
        }
      ]
    },
    {
      "cell_type": "markdown",
      "metadata": {
        "id": "hhRdnXoKbm3E",
        "colab_type": "text"
      },
      "source": [
        "### Build & Train Iris Model"
      ]
    },
    {
      "cell_type": "markdown",
      "metadata": {
        "id": "4vPOuvqIj269",
        "colab_type": "text"
      },
      "source": [
        "**Build Model**"
      ]
    },
    {
      "cell_type": "code",
      "metadata": {
        "id": "Y-MfAaYabxNK",
        "colab_type": "code",
        "colab": {}
      },
      "source": [
        "X = preprocessing.scale( iris_dataset.data )\n",
        "y = to_categorical( iris_dataset.target )\n",
        "X_train, X_test, y_train, y_test = train_test_split(\n",
        "  X, y, test_size=0.25, random_state=42\n",
        ")\n",
        "\n",
        "model = Sequential(\n",
        "    [\n",
        "     Dense( 10, input_dim=4, activation='relu' )\n",
        "     , Dense( 3, activation='softmax' )\n",
        "    ]\n",
        ")\n",
        "\n",
        "model.compile(\n",
        "    optimizer = 'adam'\n",
        "    , loss = 'categorical_crossentropy'\n",
        "    , metrics = [ 'accuracy' ]\n",
        ")\n",
        "\n",
        "model.summary()\n",
        "tf.keras.utils.plot_model( model, 'skip_connection.png', show_shapes=True )"
      ],
      "execution_count": 0,
      "outputs": []
    },
    {
      "cell_type": "markdown",
      "metadata": {
        "id": "ttLfBQndj9f7",
        "colab_type": "text"
      },
      "source": [
        "**Train Model**"
      ]
    },
    {
      "cell_type": "code",
      "metadata": {
        "id": "trM94O2SkANM",
        "colab_type": "code",
        "colab": {}
      },
      "source": [
        "training_history = model.fit( X_train, y_train, validation_data=(X_test, y_test), epochs=200 )"
      ],
      "execution_count": 0,
      "outputs": []
    },
    {
      "cell_type": "markdown",
      "metadata": {
        "id": "ZAwGY3Zj8QKJ",
        "colab_type": "text"
      },
      "source": [
        "### MNIST (recognize objects in images)\n"
      ]
    },
    {
      "cell_type": "markdown",
      "metadata": {
        "id": "RC2Luan9LAC7",
        "colab_type": "text"
      },
      "source": [
        "Build \"Model\" using Keras, which calls TensorFlow implementation:"
      ]
    },
    {
      "cell_type": "code",
      "metadata": {
        "id": "Rw9oUjtELPyV",
        "colab_type": "code",
        "outputId": "9d1286ce-7559-43a8-91df-b3bd16d89f5c",
        "colab": {
          "base_uri": "https://localhost:8080/",
          "height": 514
        }
      },
      "source": [
        "model = tf.keras.models.Sequential(\n",
        "    [\n",
        "     tf.keras.layers.Flatten( input_shape=[28, 28] )\n",
        "    #  , tf.keras.layers.Dense( 128, activation='relu' )\n",
        "    #  , tf.keras.layers.Dropout( 0.2 )\n",
        "     , tf.keras.layers.Dense( 10, activation='softmax' )\n",
        "    ]\n",
        ")\n",
        "\n",
        "model.compile(\n",
        "    optimizer = 'adam'\n",
        "    , loss = 'sparse_categorical_crossentropy'\n",
        "    , metrics = [ 'accuracy' ]\n",
        ")\n",
        "\n",
        "model.summary()\n",
        "tf.keras.utils.plot_model( model, 'skip_connection.png', show_shapes=True )"
      ],
      "execution_count": 7,
      "outputs": [
        {
          "output_type": "stream",
          "text": [
            "Model: \"sequential\"\n",
            "_________________________________________________________________\n",
            "Layer (type)                 Output Shape              Param #   \n",
            "=================================================================\n",
            "flatten (Flatten)            (None, 784)               0         \n",
            "_________________________________________________________________\n",
            "dense (Dense)                (None, 10)                7850      \n",
            "=================================================================\n",
            "Total params: 7,850\n",
            "Trainable params: 7,850\n",
            "Non-trainable params: 0\n",
            "_________________________________________________________________\n"
          ],
          "name": "stdout"
        },
        {
          "output_type": "execute_result",
          "data": {
            "image/png": "[encoded data removed]",
            "text/plain": [
              "<IPython.core.display.Image object>"
            ]
          },
          "metadata": {
            "tags": []
          },
          "execution_count": 7
        }
      ]
    },
    {
      "cell_type": "markdown",
      "metadata": {
        "id": "QPi9Mlf9MlT7",
        "colab_type": "text"
      },
      "source": [
        "Train & evaluate model:"
      ]
    },
    {
      "cell_type": "code",
      "metadata": {
        "id": "AlBbIFpkMr1B",
        "colab_type": "code",
        "outputId": "1a4ea084-abff-44f7-bf65-c00044ad0935",
        "colab": {
          "base_uri": "https://localhost:8080/",
          "height": 202
        }
      },
      "source": [
        "training_history = model.fit( X_train, y_train, validation_data=(X_test, y_test), epochs=5 )"
      ],
      "execution_count": 8,
      "outputs": [
        {
          "output_type": "stream",
          "text": [
            "Train on 60000 samples, validate on 10000 samples\n",
            "Epoch 1/5\n",
            "60000/60000 [==============================] - 4s 70us/sample - loss: 0.4658 - accuracy: 0.8779 - val_loss: 0.3040 - val_accuracy: 0.9177\n",
            "Epoch 2/5\n",
            "60000/60000 [==============================] - 4s 67us/sample - loss: 0.3036 - accuracy: 0.9148 - val_loss: 0.2811 - val_accuracy: 0.9230\n",
            "Epoch 3/5\n",
            "60000/60000 [==============================] - 4s 70us/sample - loss: 0.2831 - accuracy: 0.9209 - val_loss: 0.2720 - val_accuracy: 0.9245\n",
            "Epoch 4/5\n",
            "60000/60000 [==============================] - 4s 67us/sample - loss: 0.2727 - accuracy: 0.9232 - val_loss: 0.2809 - val_accuracy: 0.9213\n",
            "Epoch 5/5\n",
            "60000/60000 [==============================] - 4s 67us/sample - loss: 0.2665 - accuracy: 0.9259 - val_loss: 0.2648 - val_accuracy: 0.9261\n"
          ],
          "name": "stdout"
        }
      ]
    },
    {
      "cell_type": "code",
      "metadata": {
        "id": "FY5becXlZ3ax",
        "colab_type": "code",
        "outputId": "9a6b700b-7af0-414a-ccf3-5ded16103e33",
        "colab": {
          "base_uri": "https://localhost:8080/",
          "height": 50
        }
      },
      "source": [
        "eval_results = model.evaluate( X_test, y_test )\n",
        "eval_results"
      ],
      "execution_count": 9,
      "outputs": [
        {
          "output_type": "stream",
          "text": [
            "10000/10000 [==============================] - 0s 38us/sample - loss: 0.2648 - accuracy: 0.9261\n"
          ],
          "name": "stdout"
        },
        {
          "output_type": "execute_result",
          "data": {
            "text/plain": [
              "[0.26480166885703804, 0.9261]"
            ]
          },
          "metadata": {
            "tags": []
          },
          "execution_count": 9
        }
      ]
    },
    {
      "cell_type": "markdown",
      "metadata": {
        "id": "P9Iq7wPGSRov",
        "colab_type": "text"
      },
      "source": [
        "Visualize Learned Network \"Weights\":"
      ]
    },
    {
      "cell_type": "code",
      "metadata": {
        "id": "QxLgJiWfSXjq",
        "colab_type": "code",
        "outputId": "44d9621d-bfe6-480a-91e0-3f9c080246e1",
        "colab": {
          "base_uri": "https://localhost:8080/",
          "height": 485
        }
      },
      "source": [
        "from  matplotlib.colors import LinearSegmentedColormap\n",
        "\n",
        "model.summary()\n",
        "\n",
        "def  show_layer_weights(p_digit_number):\n",
        "  dense_layer = model.layers[1]\n",
        "  weights_inspect = dense_layer.get_weights()[0]\n",
        "  dense_layer_weights = []\n",
        "  for connection in weights_inspect:\n",
        "    weight = connection[ p_digit_number ]\n",
        "    dense_layer_weights.append( weight )\n",
        "  dense_layer_weights\n",
        "  img = tf.reshape( dense_layer_weights, [28, 28] )\n",
        "  # plt.imshow( img, cmap = cmap )\n",
        "  return img\n",
        "\n",
        "fig, axes = plt.subplots( 2, 5, figsize=(10, 4) )\n",
        "fig.tight_layout()\n",
        "axes = axes.reshape(-1)\n",
        "for digit_number in range( 0, 10 ):\n",
        "  title = \"Digit \" + str( digit_number )\n",
        "  a = axes[ digit_number ]\n",
        "  img = show_layer_weights( digit_number )\n",
        "  cmap = LinearSegmentedColormap.from_list( 'rg', [\"red\", \"lightgray\", \"green\"], N=256 )\n",
        "  a.imshow( img, cmap = cmap )\n",
        "  a.set_title( title )\n",
        "  a.set_xticks(()) # ticks be gone\n",
        "  a.set_yticks(())\n",
        "\n",
        "plt.show()\n"
      ],
      "execution_count": 10,
      "outputs": [
        {
          "output_type": "stream",
          "text": [
            "Model: \"sequential\"\n",
            "_________________________________________________________________\n",
            "Layer (type)                 Output Shape              Param #   \n",
            "=================================================================\n",
            "flatten (Flatten)            (None, 784)               0         \n",
            "_________________________________________________________________\n",
            "dense (Dense)                (None, 10)                7850      \n",
            "=================================================================\n",
            "Total params: 7,850\n",
            "Trainable params: 7,850\n",
            "Non-trainable params: 0\n",
            "_________________________________________________________________\n"
          ],
          "name": "stdout"
        },
        {
          "output_type": "display_data",
          "data": {
            "image/png": "[encoded data removed]",
            "text/plain": [
              "<Figure size 720x288 with 10 Axes>"
            ]
          },
          "metadata": {
            "tags": []
          }
        }
      ]
    },
    {
      "cell_type": "markdown",
      "metadata": {
        "id": "WnCxtqeaOu8m",
        "colab_type": "text"
      },
      "source": [
        "## Chart the Model's \"Learning\" progress:"
      ]
    },
    {
      "cell_type": "code",
      "metadata": {
        "id": "ZgHN65-0OxW8",
        "colab_type": "code",
        "outputId": "1b23a4e0-9dfb-4e89-e5fb-16fe154cb057",
        "colab": {
          "base_uri": "https://localhost:8080/",
          "height": 590
        }
      },
      "source": [
        "# Chart training progress\n",
        "plot_training_progress( training_history )"
      ],
      "execution_count": 11,
      "outputs": [
        {
          "output_type": "display_data",
          "data": {
            "image/png": "[encoded data removed]",
            "text/plain": [
              "<Figure size 432x288 with 1 Axes>"
            ]
          },
          "metadata": {
            "tags": []
          }
        },
        {
          "output_type": "display_data",
          "data": {
            "image/png": "[encoded data removed]",
            "text/plain": [
              "<Figure size 432x288 with 1 Axes>"
            ]
          },
          "metadata": {
            "tags": []
          }
        },
        {
          "output_type": "display_data",
          "data": {
            "text/plain": [
              "<Figure size 432x288 with 0 Axes>"
            ]
          },
          "metadata": {
            "tags": []
          }
        }
      ]
    },
    {
      "cell_type": "markdown",
      "metadata": {
        "id": "QqqRNjbXZE5F",
        "colab_type": "text"
      },
      "source": [
        "## Convolution"
      ]
    },
    {
      "cell_type": "markdown",
      "metadata": {
        "id": "vpydVkfgZTE1",
        "colab_type": "text"
      },
      "source": [
        "Setup..."
      ]
    },
    {
      "cell_type": "code",
      "metadata": {
        "id": "4CSMzXHCZV5e",
        "colab_type": "code",
        "colab": {}
      },
      "source": [
        "import scipy\n",
        "from skimage  import color, data\n",
        "\n",
        "%matplotlib inline\n",
        "import matplotlib.pyplot as plt\n",
        "\n",
        "%tensorflow_version  2.x\n",
        "import  tensorflow  as  tf\n",
        "print( tf.__version__ )\n",
        "\n",
        "from  tensorflow.keras  import Model\n"
      ],
      "execution_count": 0,
      "outputs": []
    },
    {
      "cell_type": "markdown",
      "metadata": {
        "id": "6o37uPGIbeK5",
        "colab_type": "text"
      },
      "source": [
        "Load Data"
      ]
    },
    {
      "cell_type": "code",
      "metadata": {
        "id": "sFDwubQ5bl3T",
        "colab_type": "code",
        "colab": {}
      },
      "source": [
        "img = data.astronaut()\n",
        "img = color.rgb2gray( img )\n",
        "plt.axis( 'off' )\n",
        "plt.imshow( img, cmap=plt.cm.gray )\n",
        "plt.title( 'Eileen Collins, 1st Woman Shuttle Commander' )"
      ],
      "execution_count": 0,
      "outputs": []
    },
    {
      "cell_type": "markdown",
      "metadata": {
        "id": "k0hsav6XaqkH",
        "colab_type": "text"
      },
      "source": [
        "Build Model:"
      ]
    },
    {
      "cell_type": "code",
      "metadata": {
        "id": "FNZrxfGJavzn",
        "colab_type": "code",
        "colab": {}
      },
      "source": [
        "model = tf.keras.models.Sequential()\n",
        "\n",
        "model.add(\n",
        "    tf.keras.layers.Conv2D( name = 'Edges_from_Pixels'\n",
        "        , filters = 4\n",
        "        , kernel_size = ( 4, 4 )\n",
        "        , input_shape = ( 10, 10, 3 )\n",
        "    )\n",
        ")\n",
        "\n",
        "model.add(\n",
        "    tf.keras.layers.Conv2D( name = 'Shapes_from_Edges'\n",
        "        , filters = 8\n",
        "        , kernel_size = ( 3, 3 )\n",
        "    )\n",
        ")\n",
        "\n",
        "model.summary()\n",
        "tf.keras.utils.plot_model( model, 'skip_connection.png', show_shapes=True )\n"
      ],
      "execution_count": 0,
      "outputs": []
    }
  ]
}