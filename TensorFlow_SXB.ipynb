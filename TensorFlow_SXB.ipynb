{
  "nbformat": 4,
  "nbformat_minor": 0,
  "metadata": {
    "colab": {
      "name": "TensorFlow-SXB.ipynb",
      "provenance": [],
      "collapsed_sections": [],
      "include_colab_link": true
    },
    "kernelspec": {
      "name": "python3",
      "display_name": "Python 3"
    }
  },
  "cells": [
    {
      "cell_type": "markdown",
      "metadata": {
        "id": "view-in-github",
        "colab_type": "text"
      },
      "source": [
        "<a href=\"https://colab.research.google.com/github/steve-burman/machine-learning-intro/blob/master/TensorFlow_SXB.ipynb\" target=\"_parent\"><img src=\"https://colab.research.google.com/assets/colab-badge.svg\" alt=\"Open In Colab\"/></a>"
      ]
    },
    {
      "cell_type": "markdown",
      "metadata": {
        "id": "idb4wKK5JNH0",
        "colab_type": "text"
      },
      "source": [
        "# TensorFlow Demo\n",
        "Steve Burman\n",
        "\n",
        "303-249-1177\n",
        "\n",
        "steve.burman@jeppesen.com"
      ]
    },
    {
      "cell_type": "markdown",
      "metadata": {
        "id": "OfU8JWa7O584",
        "colab_type": "text"
      },
      "source": [
        "Check environment by printing welcome message:"
      ]
    },
    {
      "cell_type": "code",
      "metadata": {
        "id": "AriwKzLQPDKc",
        "colab_type": "code",
        "colab": {}
      },
      "source": [
        "message = \"Welcome to Steve's TensorFlow Demo space\"\n",
        "print( message )"
      ],
      "execution_count": 0,
      "outputs": []
    },
    {
      "cell_type": "markdown",
      "metadata": {
        "id": "NSGw2h8Gh0QX",
        "colab_type": "text"
      },
      "source": [
        "# Linear Regression\n",
        "best fit using objective function:  y = m * x + b"
      ]
    },
    {
      "cell_type": "code",
      "metadata": {
        "id": "qIGzJ2pSI-FD",
        "colab_type": "code",
        "colab": {}
      },
      "source": [
        "import  matplotlib.pyplot  as plt\n",
        "\n",
        "%tensorflow_version  2.x\n",
        "import  tensorflow  as  tf\n",
        "print( tf.__version__ )\n",
        "\n",
        "from  tensorflow.keras  import Model\n",
        "\n",
        "%matplotlib inline\n",
        "\n",
        "def  createSimulatedData( m=0.1, b=0.3, n=100, stddev=0.1 ):\n",
        "  x = tf.random.uniform( shape=( n, ) )\n",
        "  noise = tf.random.normal( shape=( len(x), ), stddev=stddev )\n",
        "  y = m * x + b + noise\n",
        "  return x, y\n",
        "\n",
        "def calculateLineSlope(x1, y1, x2, y2):\n",
        "  dx = x2 - x1\n",
        "  dy = y2 - y1\n",
        "  m = dy / dx\n",
        "  return m"
      ],
      "execution_count": 0,
      "outputs": []
    },
    {
      "cell_type": "code",
      "metadata": {
        "id": "xvnFPOZ7qpvI",
        "colab_type": "code",
        "colab": {}
      },
      "source": [
        "m = calculateLineSlope( 6.9528, 46.3015, 7.0458, 46.1395 )\n",
        "x_train, y_train = createSimulatedData( m, 46.3015, 200 )\n",
        "plt.plot( x_train, y_train, 'b.' )"
      ],
      "execution_count": 0,
      "outputs": []
    },
    {
      "cell_type": "markdown",
      "metadata": {
        "id": "7rGQHGCPXCls",
        "colab_type": "text"
      },
      "source": [
        "# Decision Tree"
      ]
    },
    {
      "cell_type": "markdown",
      "metadata": {
        "id": "__AKlxvvXP0o",
        "colab_type": "text"
      },
      "source": [
        "## Import datasets"
      ]
    },
    {
      "cell_type": "markdown",
      "metadata": {
        "id": "JWOTaoRshQqs",
        "colab_type": "text"
      },
      "source": [
        "Setup"
      ]
    },
    {
      "cell_type": "code",
      "metadata": {
        "id": "Yt-C7jHQXbyL",
        "colab_type": "code",
        "colab": {}
      },
      "source": [
        "# Import datasets\n",
        "from urllib.request import urlretrieve\n",
        "from numpy import loadtxt\n",
        "from sklearn.utils import Bunch\n",
        "\n",
        "# analyze dataset\n",
        "def analyze_dataset(bunch):\n",
        "  print( \"feature_names = \", bunch.feature_names )\n",
        "  print( \"target_names = \", bunch.target_names )\n",
        "  # print( \"DESCR = \", bunch.DESCR[0:20] )\n",
        "  print( \"data[0:4] = \", bunch.data[0:4] )\n",
        "  print( \"target[0:4] = \", bunch.target[0:4] )\n",
        "\n",
        "def load_pima_diabetes():\n",
        "  # https://machinelearningmastery.com/tutorial-first-neural-network-python-keras/\n",
        "  # https://raw.githubusercontent.com/jbrownlee/Datasets/master/pima-indians-diabetes.names\n",
        "  bunch = Bunch()\n",
        "  bunch.target_names = [ 'Class 0', 'Class 1']\n",
        "  bunch.feature_names = [\n",
        "      'Times pregnant'\n",
        "    , 'Plasma glucose concentration'\n",
        "    , 'Diastolic blood pressure (mm Hg)'\n",
        "    , 'Triceps skin fold thickness (mm)'\n",
        "    , '2-Hour serum insulin (mu U/ml)'\n",
        "    , 'Body mass index (weight in kg/(height in m)^2)'\n",
        "    , 'Diabetes pedigree function'\n",
        "    , 'Age (years)'\n",
        "  ]\n",
        "  urlretrieve( url=\"https://raw.githubusercontent.com/jbrownlee/Datasets/master/pima-indians-diabetes.data.csv\"\n",
        "    , filename=\"pima-indians-diabetes.csv\" )\n",
        "  dataset = loadtxt('pima-indians-diabetes.csv', delimiter=',')\n",
        "  bunch.data = dataset[:,0:8]\n",
        "  bunch.target = dataset[:,8]\n",
        "  return bunch\n"
      ],
      "execution_count": 0,
      "outputs": []
    },
    {
      "cell_type": "markdown",
      "metadata": {
        "id": "TL8gKOsThYri",
        "colab_type": "text"
      },
      "source": [
        "### Load Iris dataset"
      ]
    },
    {
      "cell_type": "code",
      "metadata": {
        "id": "kCK41ZP6hby5",
        "colab_type": "code",
        "colab": {
          "base_uri": "https://localhost:8080/",
          "height": 185
        },
        "outputId": "03420fac-d146-4b26-fc25-41ebb5d5e30c"
      },
      "source": [
        "from sklearn.datasets import load_iris\n",
        "\n",
        "iris_dataset = load_iris()\n",
        "analyze_dataset( iris_dataset )\n",
        "# print( \"iris_dataset:\", iris_dataset )\n",
        "for i in range( len( iris_dataset.target_names ) ):\n",
        "  print( \"Example: %d: label %s, features %s\" % ( i, iris_dataset.target_names[i], iris_dataset.data[i] ) )\n"
      ],
      "execution_count": 2,
      "outputs": [
        {
          "output_type": "stream",
          "text": [
            "feature_names =  ['sepal length (cm)', 'sepal width (cm)', 'petal length (cm)', 'petal width (cm)']\n",
            "target_names =  ['setosa' 'versicolor' 'virginica']\n",
            "data[0:4] =  [[5.1 3.5 1.4 0.2]\n",
            " [4.9 3.  1.4 0.2]\n",
            " [4.7 3.2 1.3 0.2]\n",
            " [4.6 3.1 1.5 0.2]]\n",
            "target[0:4] =  [0 0 0 0]\n",
            "Example: 0: label setosa, features [5.1 3.5 1.4 0.2]\n",
            "Example: 1: label versicolor, features [4.9 3.  1.4 0.2]\n",
            "Example: 2: label virginica, features [4.7 3.2 1.3 0.2]\n"
          ],
          "name": "stdout"
        }
      ]
    },
    {
      "cell_type": "markdown",
      "metadata": {
        "id": "ljqVyhLvhelL",
        "colab_type": "text"
      },
      "source": [
        "### Load Pima Indians diabetes dataset"
      ]
    },
    {
      "cell_type": "code",
      "metadata": {
        "id": "tJBat53Shlmt",
        "colab_type": "code",
        "colab": {
          "base_uri": "https://localhost:8080/",
          "height": 154
        },
        "outputId": "05b2cf68-b0ef-4468-bac9-48317e5711bb"
      },
      "source": [
        "# load Pima dataset\n",
        "pima_diabetes_dataset = load_pima_diabetes()\n",
        "analyze_dataset( pima_diabetes_dataset )\n"
      ],
      "execution_count": 3,
      "outputs": [
        {
          "output_type": "stream",
          "text": [
            "feature_names =  ['Times pregnant', 'Plasma glucose concentration', 'Diastolic blood pressure (mm Hg)', 'Triceps skin fold thickness (mm)', '2-Hour serum insulin (mu U/ml)', 'Body mass index (weight in kg/(height in m)^2)', 'Diabetes pedigree function', 'Age (years)']\n",
            "target_names =  ['Class 0', 'Class 1']\n",
            "data[0:4] =  [[6.00e+00 1.48e+02 7.20e+01 3.50e+01 0.00e+00 3.36e+01 6.27e-01 5.00e+01]\n",
            " [1.00e+00 8.50e+01 6.60e+01 2.90e+01 0.00e+00 2.66e+01 3.51e-01 3.10e+01]\n",
            " [8.00e+00 1.83e+02 6.40e+01 0.00e+00 0.00e+00 2.33e+01 6.72e-01 3.20e+01]\n",
            " [1.00e+00 8.90e+01 6.60e+01 2.30e+01 9.40e+01 2.81e+01 1.67e-01 2.10e+01]]\n",
            "target[0:4] =  [1. 0. 1. 0.]\n"
          ],
          "name": "stdout"
        }
      ]
    },
    {
      "cell_type": "markdown",
      "metadata": {
        "id": "x61fU_BgXdSa",
        "colab_type": "text"
      },
      "source": [
        "## Train classifier"
      ]
    },
    {
      "cell_type": "code",
      "metadata": {
        "id": "f5wfFSmlXhuS",
        "colab_type": "code",
        "colab": {
          "base_uri": "https://localhost:8080/",
          "height": 269
        },
        "outputId": "897e874c-b233-4fdf-fc9d-98cf5b2fe9a6"
      },
      "source": [
        "# Train classifier\n",
        "import numpy as np\n",
        "from sklearn import tree\n",
        "from sklearn.model_selection import train_test_split\n",
        "\n",
        "def train_classifier( dataset ):\n",
        "  # set aside some of dataset as train_data and some as test_data (X=data, y=target)\n",
        "  train_data, test_data, train_target, test_target = train_test_split( dataset.data, dataset.target, test_size=0.33, random_state=42 )\n",
        "  print( \"train_target:\", train_target )\n",
        "  print( \"train_data[:5]:\", train_data[:5] )\n",
        "  print( \"test_target:\", test_target )\n",
        "  print( \"test_data[:5]:\", test_data[:5] )\n",
        "  # build Decision Tree Classifier\n",
        "  classifier = tree.DecisionTreeClassifier()\n",
        "  estimator = classifier.fit( train_data, train_target )\n",
        "  return train_data, test_data, train_target, test_target, classifier\n",
        "\n",
        "train_data, test_data, train_target, test_target, classifier = train_classifier( iris_dataset )\n",
        "# train_data, test_data, train_target, test_target, classifier = train_classifier( pima_diabetes_dataset )\n"
      ],
      "execution_count": 8,
      "outputs": [
        {
          "output_type": "stream",
          "text": [
            "train_target: [1 2 1 0 2 1 0 0 0 1 2 0 0 0 1 0 1 2 0 1 2 0 2 2 1 1 2 1 0 1 2 0 0 1 1 0 2\n",
            " 0 0 1 1 2 1 2 2 1 0 0 2 2 0 0 0 1 2 0 2 2 0 1 1 2 1 2 0 2 1 2 1 1 1 0 1 1\n",
            " 0 1 2 2 0 1 2 2 0 2 0 1 2 2 1 2 1 1 2 2 0 1 2 0 1 2]\n",
            "train_data[:5]: [[5.7 2.9 4.2 1.3]\n",
            " [7.6 3.  6.6 2.1]\n",
            " [5.6 3.  4.5 1.5]\n",
            " [5.1 3.5 1.4 0.2]\n",
            " [7.7 2.8 6.7 2. ]]\n",
            "test_target: [1 0 2 1 1 0 1 2 1 1 2 0 0 0 0 1 2 1 1 2 0 2 0 2 2 2 2 2 0 0 0 0 1 0 0 2 1\n",
            " 0 0 0 2 1 1 0 0 1 2 2 1 2]\n",
            "test_data[:5]: [[6.1 2.8 4.7 1.2]\n",
            " [5.7 3.8 1.7 0.3]\n",
            " [7.7 2.6 6.9 2.3]\n",
            " [6.  2.9 4.5 1.5]\n",
            " [6.8 2.8 4.8 1.4]]\n"
          ],
          "name": "stdout"
        }
      ]
    },
    {
      "cell_type": "markdown",
      "metadata": {
        "id": "7i_gI1KUXs2k",
        "colab_type": "text"
      },
      "source": [
        "## Predict label for new observation"
      ]
    },
    {
      "cell_type": "code",
      "metadata": {
        "id": "o3L4tzHvX12L",
        "colab_type": "code",
        "colab": {
          "base_uri": "https://localhost:8080/",
          "height": 84
        },
        "outputId": "affa2dbc-5d2d-48ac-d39b-5e76a0698489"
      },
      "source": [
        "# Predict label for new observation\n",
        "prediction = classifier.predict( test_data )\n",
        "print( \"test_target:\", test_target )\n",
        "print( \"Prediction: \", prediction )\n"
      ],
      "execution_count": 9,
      "outputs": [
        {
          "output_type": "stream",
          "text": [
            "test_target: [1 0 2 1 1 0 1 2 1 1 2 0 0 0 0 1 2 1 1 2 0 2 0 2 2 2 2 2 0 0 0 0 1 0 0 2 1\n",
            " 0 0 0 2 1 1 0 0 1 2 2 1 2]\n",
            "Prediction:  [1 0 2 1 1 0 1 2 1 1 2 0 0 0 0 1 2 1 1 2 0 2 0 2 2 2 2 2 0 0 0 0 1 0 0 2 1\n",
            " 0 0 0 2 1 1 0 0 1 2 2 1 2]\n"
          ],
          "name": "stdout"
        }
      ]
    },
    {
      "cell_type": "markdown",
      "metadata": {
        "id": "BdT6LY8GX4YS",
        "colab_type": "text"
      },
      "source": [
        "## Visualize decision tree"
      ]
    },
    {
      "cell_type": "code",
      "metadata": {
        "id": "S6TXUef8X8hA",
        "colab_type": "code",
        "colab": {
          "base_uri": "https://localhost:8080/",
          "height": 1000
        },
        "outputId": "8f70ce1f-b744-4ee3-a877-59e5e4984bf3"
      },
      "source": [
        "# Visualize decision tree\n",
        "import graphviz\n",
        "\n",
        "def visualize_decision_tree(classifier, dataset):\n",
        "  # tree.plot_tree( classifier.fit( dataset.data, dataset.target ) )\n",
        "  dot_data = tree.export_graphviz( classifier, out_file=None,\n",
        "                      feature_names=dataset.feature_names,\n",
        "                      class_names=dataset.target_names,\n",
        "                      filled=True, rounded=True,\n",
        "                      special_characters=True, precision=2)\n",
        "  graph = graphviz.Source( dot_data )\n",
        "  return graph\n",
        "\n",
        "visualize_decision_tree( classifier, iris_dataset )\n",
        "# visualize_decision_tree( classifier, pima_diabetes_dataset )\n"
      ],
      "execution_count": 10,
      "outputs": [
        {
          "output_type": "execute_result",
          "data": {
            "text/plain": [
              "<graphviz.files.Source at 0x7f0bf0c32e80>"
            ],
            "image/svg+xml": "<?xml version=\"1.0\" encoding=\"UTF-8\" standalone=\"no\"?>\n<!DOCTYPE svg PUBLIC \"-//W3C//DTD SVG 1.1//EN\"\n \"http://www.w3.org/Graphics/SVG/1.1/DTD/svg11.dtd\">\n<!-- Generated by graphviz version 2.40.1 (20161225.0304)\n -->\n<!-- Title: Tree Pages: 1 -->\n<svg width=\"919pt\" height=\"790pt\"\n viewBox=\"0.00 0.00 918.50 790.00\" xmlns=\"http://www.w3.org/2000/svg\" xmlns:xlink=\"http://www.w3.org/1999/xlink\">\n<g id=\"graph0\" class=\"graph\" transform=\"scale(1 1) rotate(0) translate(4 786)\">\n<title>Tree</title>\n<polygon fill=\"#ffffff\" stroke=\"transparent\" points=\"-4,4 -4,-786 914.5,-786 914.5,4 -4,4\"/>\n<!-- 0 -->\n<g id=\"node1\" class=\"node\">\n<title>0</title>\n<path fill=\"#fcfffd\" stroke=\"#000000\" d=\"M589.5,-782C589.5,-782 460.5,-782 460.5,-782 454.5,-782 448.5,-776 448.5,-770 448.5,-770 448.5,-711 448.5,-711 448.5,-705 454.5,-699 460.5,-699 460.5,-699 589.5,-699 589.5,-699 595.5,-699 601.5,-705 601.5,-711 601.5,-711 601.5,-770 601.5,-770 601.5,-776 595.5,-782 589.5,-782\"/>\n<text text-anchor=\"start\" x=\"456.5\" y=\"-766.8\" font-family=\"Helvetica,sans-Serif\" font-size=\"14.00\" fill=\"#000000\">petal width (cm) ≤ 0.8</text>\n<text text-anchor=\"start\" x=\"491.5\" y=\"-751.8\" font-family=\"Helvetica,sans-Serif\" font-size=\"14.00\" fill=\"#000000\">gini = 0.67</text>\n<text text-anchor=\"start\" x=\"477\" y=\"-736.8\" font-family=\"Helvetica,sans-Serif\" font-size=\"14.00\" fill=\"#000000\">samples = 100</text>\n<text text-anchor=\"start\" x=\"463\" y=\"-721.8\" font-family=\"Helvetica,sans-Serif\" font-size=\"14.00\" fill=\"#000000\">value = [31, 35, 34]</text>\n<text text-anchor=\"start\" x=\"469\" y=\"-706.8\" font-family=\"Helvetica,sans-Serif\" font-size=\"14.00\" fill=\"#000000\">class = versicolor</text>\n</g>\n<!-- 1 -->\n<g id=\"node2\" class=\"node\">\n<title>1</title>\n<path fill=\"#e58139\" stroke=\"#000000\" d=\"M494.5,-655.5C494.5,-655.5 395.5,-655.5 395.5,-655.5 389.5,-655.5 383.5,-649.5 383.5,-643.5 383.5,-643.5 383.5,-599.5 383.5,-599.5 383.5,-593.5 389.5,-587.5 395.5,-587.5 395.5,-587.5 494.5,-587.5 494.5,-587.5 500.5,-587.5 506.5,-593.5 506.5,-599.5 506.5,-599.5 506.5,-643.5 506.5,-643.5 506.5,-649.5 500.5,-655.5 494.5,-655.5\"/>\n<text text-anchor=\"start\" x=\"415.5\" y=\"-640.3\" font-family=\"Helvetica,sans-Serif\" font-size=\"14.00\" fill=\"#000000\">gini = 0.0</text>\n<text text-anchor=\"start\" x=\"401\" y=\"-625.3\" font-family=\"Helvetica,sans-Serif\" font-size=\"14.00\" fill=\"#000000\">samples = 31</text>\n<text text-anchor=\"start\" x=\"391.5\" y=\"-610.3\" font-family=\"Helvetica,sans-Serif\" font-size=\"14.00\" fill=\"#000000\">value = [31, 0, 0]</text>\n<text text-anchor=\"start\" x=\"398\" y=\"-595.3\" font-family=\"Helvetica,sans-Serif\" font-size=\"14.00\" fill=\"#000000\">class = setosa</text>\n</g>\n<!-- 0&#45;&gt;1 -->\n<g id=\"edge1\" class=\"edge\">\n<title>0&#45;&gt;1</title>\n<path fill=\"none\" stroke=\"#000000\" d=\"M497.0199,-698.8796C489.4797,-687.6636 481.3113,-675.5131 473.7309,-664.2372\"/>\n<polygon fill=\"#000000\" stroke=\"#000000\" points=\"476.5527,-662.1612 468.0689,-655.8149 470.7434,-666.0667 476.5527,-662.1612\"/>\n<text text-anchor=\"middle\" x=\"463.2608\" y=\"-676.6482\" font-family=\"Helvetica,sans-Serif\" font-size=\"14.00\" fill=\"#000000\">True</text>\n</g>\n<!-- 2 -->\n<g id=\"node3\" class=\"node\">\n<title>2</title>\n<path fill=\"#f9fefb\" stroke=\"#000000\" d=\"M673.5,-663C673.5,-663 536.5,-663 536.5,-663 530.5,-663 524.5,-657 524.5,-651 524.5,-651 524.5,-592 524.5,-592 524.5,-586 530.5,-580 536.5,-580 536.5,-580 673.5,-580 673.5,-580 679.5,-580 685.5,-586 685.5,-592 685.5,-592 685.5,-651 685.5,-651 685.5,-657 679.5,-663 673.5,-663\"/>\n<text text-anchor=\"start\" x=\"532.5\" y=\"-647.8\" font-family=\"Helvetica,sans-Serif\" font-size=\"14.00\" fill=\"#000000\">petal width (cm) ≤ 1.75</text>\n<text text-anchor=\"start\" x=\"575.5\" y=\"-632.8\" font-family=\"Helvetica,sans-Serif\" font-size=\"14.00\" fill=\"#000000\">gini = 0.5</text>\n<text text-anchor=\"start\" x=\"561\" y=\"-617.8\" font-family=\"Helvetica,sans-Serif\" font-size=\"14.00\" fill=\"#000000\">samples = 69</text>\n<text text-anchor=\"start\" x=\"547.5\" y=\"-602.8\" font-family=\"Helvetica,sans-Serif\" font-size=\"14.00\" fill=\"#000000\">value = [0, 35, 34]</text>\n<text text-anchor=\"start\" x=\"549\" y=\"-587.8\" font-family=\"Helvetica,sans-Serif\" font-size=\"14.00\" fill=\"#000000\">class = versicolor</text>\n</g>\n<!-- 0&#45;&gt;2 -->\n<g id=\"edge2\" class=\"edge\">\n<title>0&#45;&gt;2</title>\n<path fill=\"none\" stroke=\"#000000\" d=\"M552.9801,-698.8796C558.8531,-690.1434 565.1073,-680.8404 571.1679,-671.8253\"/>\n<polygon fill=\"#000000\" stroke=\"#000000\" points=\"574.2259,-673.5498 576.9005,-663.2981 568.4166,-669.6444 574.2259,-673.5498\"/>\n<text text-anchor=\"middle\" x=\"581.7085\" y=\"-684.1314\" font-family=\"Helvetica,sans-Serif\" font-size=\"14.00\" fill=\"#000000\">False</text>\n</g>\n<!-- 3 -->\n<g id=\"node4\" class=\"node\">\n<title>3</title>\n<path fill=\"#50e890\" stroke=\"#000000\" d=\"M584.5,-544C584.5,-544 441.5,-544 441.5,-544 435.5,-544 429.5,-538 429.5,-532 429.5,-532 429.5,-473 429.5,-473 429.5,-467 435.5,-461 441.5,-461 441.5,-461 584.5,-461 584.5,-461 590.5,-461 596.5,-467 596.5,-473 596.5,-473 596.5,-532 596.5,-532 596.5,-538 590.5,-544 584.5,-544\"/>\n<text text-anchor=\"start\" x=\"437.5\" y=\"-528.8\" font-family=\"Helvetica,sans-Serif\" font-size=\"14.00\" fill=\"#000000\">petal length (cm) ≤ 5.35</text>\n<text text-anchor=\"start\" x=\"479.5\" y=\"-513.8\" font-family=\"Helvetica,sans-Serif\" font-size=\"14.00\" fill=\"#000000\">gini = 0.19</text>\n<text text-anchor=\"start\" x=\"469\" y=\"-498.8\" font-family=\"Helvetica,sans-Serif\" font-size=\"14.00\" fill=\"#000000\">samples = 38</text>\n<text text-anchor=\"start\" x=\"459.5\" y=\"-483.8\" font-family=\"Helvetica,sans-Serif\" font-size=\"14.00\" fill=\"#000000\">value = [0, 34, 4]</text>\n<text text-anchor=\"start\" x=\"457\" y=\"-468.8\" font-family=\"Helvetica,sans-Serif\" font-size=\"14.00\" fill=\"#000000\">class = versicolor</text>\n</g>\n<!-- 2&#45;&gt;3 -->\n<g id=\"edge3\" class=\"edge\">\n<title>2&#45;&gt;3</title>\n<path fill=\"none\" stroke=\"#000000\" d=\"M572.8229,-579.8796C565.9296,-570.9633 558.5798,-561.4565 551.4761,-552.268\"/>\n<polygon fill=\"#000000\" stroke=\"#000000\" points=\"554.1999,-550.0687 545.3145,-544.2981 548.6619,-554.3502 554.1999,-550.0687\"/>\n</g>\n<!-- 14 -->\n<g id=\"node15\" class=\"node\">\n<title>14</title>\n<path fill=\"#8540e6\" stroke=\"#000000\" d=\"M769.5,-544C769.5,-544 626.5,-544 626.5,-544 620.5,-544 614.5,-538 614.5,-532 614.5,-532 614.5,-473 614.5,-473 614.5,-467 620.5,-461 626.5,-461 626.5,-461 769.5,-461 769.5,-461 775.5,-461 781.5,-467 781.5,-473 781.5,-473 781.5,-532 781.5,-532 781.5,-538 775.5,-544 769.5,-544\"/>\n<text text-anchor=\"start\" x=\"622.5\" y=\"-528.8\" font-family=\"Helvetica,sans-Serif\" font-size=\"14.00\" fill=\"#000000\">petal length (cm) ≤ 4.85</text>\n<text text-anchor=\"start\" x=\"664.5\" y=\"-513.8\" font-family=\"Helvetica,sans-Serif\" font-size=\"14.00\" fill=\"#000000\">gini = 0.06</text>\n<text text-anchor=\"start\" x=\"654\" y=\"-498.8\" font-family=\"Helvetica,sans-Serif\" font-size=\"14.00\" fill=\"#000000\">samples = 31</text>\n<text text-anchor=\"start\" x=\"644.5\" y=\"-483.8\" font-family=\"Helvetica,sans-Serif\" font-size=\"14.00\" fill=\"#000000\">value = [0, 1, 30]</text>\n<text text-anchor=\"start\" x=\"646.5\" y=\"-468.8\" font-family=\"Helvetica,sans-Serif\" font-size=\"14.00\" fill=\"#000000\">class = virginica</text>\n</g>\n<!-- 2&#45;&gt;14 -->\n<g id=\"edge14\" class=\"edge\">\n<title>2&#45;&gt;14</title>\n<path fill=\"none\" stroke=\"#000000\" d=\"M637.5269,-579.8796C644.4951,-570.9633 651.9247,-561.4565 659.1056,-552.268\"/>\n<polygon fill=\"#000000\" stroke=\"#000000\" points=\"661.9343,-554.3326 665.3343,-544.2981 656.4188,-550.0221 661.9343,-554.3326\"/>\n</g>\n<!-- 4 -->\n<g id=\"node5\" class=\"node\">\n<title>4</title>\n<path fill=\"#45e788\" stroke=\"#000000\" d=\"M431.5,-425C431.5,-425 294.5,-425 294.5,-425 288.5,-425 282.5,-419 282.5,-413 282.5,-413 282.5,-354 282.5,-354 282.5,-348 288.5,-342 294.5,-342 294.5,-342 431.5,-342 431.5,-342 437.5,-342 443.5,-348 443.5,-354 443.5,-354 443.5,-413 443.5,-413 443.5,-419 437.5,-425 431.5,-425\"/>\n<text text-anchor=\"start\" x=\"290.5\" y=\"-409.8\" font-family=\"Helvetica,sans-Serif\" font-size=\"14.00\" fill=\"#000000\">petal width (cm) ≤ 1.65</text>\n<text text-anchor=\"start\" x=\"333.5\" y=\"-394.8\" font-family=\"Helvetica,sans-Serif\" font-size=\"14.00\" fill=\"#000000\">gini = 0.1</text>\n<text text-anchor=\"start\" x=\"319\" y=\"-379.8\" font-family=\"Helvetica,sans-Serif\" font-size=\"14.00\" fill=\"#000000\">samples = 36</text>\n<text text-anchor=\"start\" x=\"309.5\" y=\"-364.8\" font-family=\"Helvetica,sans-Serif\" font-size=\"14.00\" fill=\"#000000\">value = [0, 34, 2]</text>\n<text text-anchor=\"start\" x=\"307\" y=\"-349.8\" font-family=\"Helvetica,sans-Serif\" font-size=\"14.00\" fill=\"#000000\">class = versicolor</text>\n</g>\n<!-- 3&#45;&gt;4 -->\n<g id=\"edge4\" class=\"edge\">\n<title>3&#45;&gt;4</title>\n<path fill=\"none\" stroke=\"#000000\" d=\"M460.5373,-460.8796C448.5479,-451.368 435.7113,-441.1843 423.4184,-431.432\"/>\n<polygon fill=\"#000000\" stroke=\"#000000\" points=\"425.4425,-428.5701 415.4331,-425.0969 421.0919,-434.054 425.4425,-428.5701\"/>\n</g>\n<!-- 13 -->\n<g id=\"node14\" class=\"node\">\n<title>13</title>\n<path fill=\"#8139e5\" stroke=\"#000000\" d=\"M568.5,-417.5C568.5,-417.5 473.5,-417.5 473.5,-417.5 467.5,-417.5 461.5,-411.5 461.5,-405.5 461.5,-405.5 461.5,-361.5 461.5,-361.5 461.5,-355.5 467.5,-349.5 473.5,-349.5 473.5,-349.5 568.5,-349.5 568.5,-349.5 574.5,-349.5 580.5,-355.5 580.5,-361.5 580.5,-361.5 580.5,-405.5 580.5,-405.5 580.5,-411.5 574.5,-417.5 568.5,-417.5\"/>\n<text text-anchor=\"start\" x=\"491.5\" y=\"-402.3\" font-family=\"Helvetica,sans-Serif\" font-size=\"14.00\" fill=\"#000000\">gini = 0.0</text>\n<text text-anchor=\"start\" x=\"481.5\" y=\"-387.3\" font-family=\"Helvetica,sans-Serif\" font-size=\"14.00\" fill=\"#000000\">samples = 2</text>\n<text text-anchor=\"start\" x=\"471.5\" y=\"-372.3\" font-family=\"Helvetica,sans-Serif\" font-size=\"14.00\" fill=\"#000000\">value = [0, 0, 2]</text>\n<text text-anchor=\"start\" x=\"469.5\" y=\"-357.3\" font-family=\"Helvetica,sans-Serif\" font-size=\"14.00\" fill=\"#000000\">class = virginica</text>\n</g>\n<!-- 3&#45;&gt;13 -->\n<g id=\"edge13\" class=\"edge\">\n<title>3&#45;&gt;13</title>\n<path fill=\"none\" stroke=\"#000000\" d=\"M515.798,-460.8796C516.5151,-450.2134 517.2889,-438.7021 518.015,-427.9015\"/>\n<polygon fill=\"#000000\" stroke=\"#000000\" points=\"521.5144,-428.0272 518.6931,-417.8149 514.5301,-427.5576 521.5144,-428.0272\"/>\n</g>\n<!-- 5 -->\n<g id=\"node6\" class=\"node\">\n<title>5</title>\n<path fill=\"#3fe685\" stroke=\"#000000\" d=\"M291.5,-306C291.5,-306 148.5,-306 148.5,-306 142.5,-306 136.5,-300 136.5,-294 136.5,-294 136.5,-235 136.5,-235 136.5,-229 142.5,-223 148.5,-223 148.5,-223 291.5,-223 291.5,-223 297.5,-223 303.5,-229 303.5,-235 303.5,-235 303.5,-294 303.5,-294 303.5,-300 297.5,-306 291.5,-306\"/>\n<text text-anchor=\"start\" x=\"144.5\" y=\"-290.8\" font-family=\"Helvetica,sans-Serif\" font-size=\"14.00\" fill=\"#000000\">petal length (cm) ≤ 4.95</text>\n<text text-anchor=\"start\" x=\"186.5\" y=\"-275.8\" font-family=\"Helvetica,sans-Serif\" font-size=\"14.00\" fill=\"#000000\">gini = 0.06</text>\n<text text-anchor=\"start\" x=\"176\" y=\"-260.8\" font-family=\"Helvetica,sans-Serif\" font-size=\"14.00\" fill=\"#000000\">samples = 34</text>\n<text text-anchor=\"start\" x=\"166.5\" y=\"-245.8\" font-family=\"Helvetica,sans-Serif\" font-size=\"14.00\" fill=\"#000000\">value = [0, 33, 1]</text>\n<text text-anchor=\"start\" x=\"164\" y=\"-230.8\" font-family=\"Helvetica,sans-Serif\" font-size=\"14.00\" fill=\"#000000\">class = versicolor</text>\n</g>\n<!-- 4&#45;&gt;5 -->\n<g id=\"edge5\" class=\"edge\">\n<title>4&#45;&gt;5</title>\n<path fill=\"none\" stroke=\"#000000\" d=\"M312.9855,-341.8796C301.7299,-332.513 289.6912,-322.4948 278.1354,-312.8784\"/>\n<polygon fill=\"#000000\" stroke=\"#000000\" points=\"280.1534,-310.0043 270.2279,-306.2981 275.6758,-315.385 280.1534,-310.0043\"/>\n</g>\n<!-- 10 -->\n<g id=\"node11\" class=\"node\">\n<title>10</title>\n<path fill=\"#ffffff\" stroke=\"#000000\" d=\"M476.5,-306C476.5,-306 333.5,-306 333.5,-306 327.5,-306 321.5,-300 321.5,-294 321.5,-294 321.5,-235 321.5,-235 321.5,-229 327.5,-223 333.5,-223 333.5,-223 476.5,-223 476.5,-223 482.5,-223 488.5,-229 488.5,-235 488.5,-235 488.5,-294 488.5,-294 488.5,-300 482.5,-306 476.5,-306\"/>\n<text text-anchor=\"start\" x=\"329.5\" y=\"-290.8\" font-family=\"Helvetica,sans-Serif\" font-size=\"14.00\" fill=\"#000000\">petal length (cm) ≤ 4.75</text>\n<text text-anchor=\"start\" x=\"375.5\" y=\"-275.8\" font-family=\"Helvetica,sans-Serif\" font-size=\"14.00\" fill=\"#000000\">gini = 0.5</text>\n<text text-anchor=\"start\" x=\"365.5\" y=\"-260.8\" font-family=\"Helvetica,sans-Serif\" font-size=\"14.00\" fill=\"#000000\">samples = 2</text>\n<text text-anchor=\"start\" x=\"355.5\" y=\"-245.8\" font-family=\"Helvetica,sans-Serif\" font-size=\"14.00\" fill=\"#000000\">value = [0, 1, 1]</text>\n<text text-anchor=\"start\" x=\"349\" y=\"-230.8\" font-family=\"Helvetica,sans-Serif\" font-size=\"14.00\" fill=\"#000000\">class = versicolor</text>\n</g>\n<!-- 4&#45;&gt;10 -->\n<g id=\"edge10\" class=\"edge\">\n<title>4&#45;&gt;10</title>\n<path fill=\"none\" stroke=\"#000000\" d=\"M377.6896,-341.8796C380.6458,-333.5037 383.7859,-324.6067 386.844,-315.942\"/>\n<polygon fill=\"#000000\" stroke=\"#000000\" points=\"390.2199,-316.8929 390.2477,-306.2981 383.619,-314.5631 390.2199,-316.8929\"/>\n</g>\n<!-- 6 -->\n<g id=\"node7\" class=\"node\">\n<title>6</title>\n<path fill=\"#39e581\" stroke=\"#000000\" d=\"M116,-179.5C116,-179.5 12,-179.5 12,-179.5 6,-179.5 0,-173.5 0,-167.5 0,-167.5 0,-123.5 0,-123.5 0,-117.5 6,-111.5 12,-111.5 12,-111.5 116,-111.5 116,-111.5 122,-111.5 128,-117.5 128,-123.5 128,-123.5 128,-167.5 128,-167.5 128,-173.5 122,-179.5 116,-179.5\"/>\n<text text-anchor=\"start\" x=\"34.5\" y=\"-164.3\" font-family=\"Helvetica,sans-Serif\" font-size=\"14.00\" fill=\"#000000\">gini = 0.0</text>\n<text text-anchor=\"start\" x=\"20\" y=\"-149.3\" font-family=\"Helvetica,sans-Serif\" font-size=\"14.00\" fill=\"#000000\">samples = 32</text>\n<text text-anchor=\"start\" x=\"10.5\" y=\"-134.3\" font-family=\"Helvetica,sans-Serif\" font-size=\"14.00\" fill=\"#000000\">value = [0, 32, 0]</text>\n<text text-anchor=\"start\" x=\"8\" y=\"-119.3\" font-family=\"Helvetica,sans-Serif\" font-size=\"14.00\" fill=\"#000000\">class = versicolor</text>\n</g>\n<!-- 5&#45;&gt;6 -->\n<g id=\"edge6\" class=\"edge\">\n<title>5&#45;&gt;6</title>\n<path fill=\"none\" stroke=\"#000000\" d=\"M165.4388,-222.8796C149.6516,-210.8368 132.4521,-197.7167 116.7759,-185.7586\"/>\n<polygon fill=\"#000000\" stroke=\"#000000\" points=\"118.8063,-182.9053 108.7327,-179.623 114.5608,-188.4709 118.8063,-182.9053\"/>\n</g>\n<!-- 7 -->\n<g id=\"node8\" class=\"node\">\n<title>7</title>\n<path fill=\"#ffffff\" stroke=\"#000000\" d=\"M295.5,-187C295.5,-187 158.5,-187 158.5,-187 152.5,-187 146.5,-181 146.5,-175 146.5,-175 146.5,-116 146.5,-116 146.5,-110 152.5,-104 158.5,-104 158.5,-104 295.5,-104 295.5,-104 301.5,-104 307.5,-110 307.5,-116 307.5,-116 307.5,-175 307.5,-175 307.5,-181 301.5,-187 295.5,-187\"/>\n<text text-anchor=\"start\" x=\"154.5\" y=\"-171.8\" font-family=\"Helvetica,sans-Serif\" font-size=\"14.00\" fill=\"#000000\">petal width (cm) ≤ 1.55</text>\n<text text-anchor=\"start\" x=\"197.5\" y=\"-156.8\" font-family=\"Helvetica,sans-Serif\" font-size=\"14.00\" fill=\"#000000\">gini = 0.5</text>\n<text text-anchor=\"start\" x=\"187.5\" y=\"-141.8\" font-family=\"Helvetica,sans-Serif\" font-size=\"14.00\" fill=\"#000000\">samples = 2</text>\n<text text-anchor=\"start\" x=\"177.5\" y=\"-126.8\" font-family=\"Helvetica,sans-Serif\" font-size=\"14.00\" fill=\"#000000\">value = [0, 1, 1]</text>\n<text text-anchor=\"start\" x=\"171\" y=\"-111.8\" font-family=\"Helvetica,sans-Serif\" font-size=\"14.00\" fill=\"#000000\">class = versicolor</text>\n</g>\n<!-- 5&#45;&gt;7 -->\n<g id=\"edge7\" class=\"edge\">\n<title>5&#45;&gt;7</title>\n<path fill=\"none\" stroke=\"#000000\" d=\"M222.4483,-222.8796C222.9304,-214.6838 223.4418,-205.9891 223.9411,-197.5013\"/>\n<polygon fill=\"#000000\" stroke=\"#000000\" points=\"227.4479,-197.4864 224.5413,-187.2981 220.46,-197.0753 227.4479,-197.4864\"/>\n</g>\n<!-- 8 -->\n<g id=\"node9\" class=\"node\">\n<title>8</title>\n<path fill=\"#8139e5\" stroke=\"#000000\" d=\"M203.5,-68C203.5,-68 108.5,-68 108.5,-68 102.5,-68 96.5,-62 96.5,-56 96.5,-56 96.5,-12 96.5,-12 96.5,-6 102.5,0 108.5,0 108.5,0 203.5,0 203.5,0 209.5,0 215.5,-6 215.5,-12 215.5,-12 215.5,-56 215.5,-56 215.5,-62 209.5,-68 203.5,-68\"/>\n<text text-anchor=\"start\" x=\"126.5\" y=\"-52.8\" font-family=\"Helvetica,sans-Serif\" font-size=\"14.00\" fill=\"#000000\">gini = 0.0</text>\n<text text-anchor=\"start\" x=\"116.5\" y=\"-37.8\" font-family=\"Helvetica,sans-Serif\" font-size=\"14.00\" fill=\"#000000\">samples = 1</text>\n<text text-anchor=\"start\" x=\"106.5\" y=\"-22.8\" font-family=\"Helvetica,sans-Serif\" font-size=\"14.00\" fill=\"#000000\">value = [0, 0, 1]</text>\n<text text-anchor=\"start\" x=\"104.5\" y=\"-7.8\" font-family=\"Helvetica,sans-Serif\" font-size=\"14.00\" fill=\"#000000\">class = virginica</text>\n</g>\n<!-- 7&#45;&gt;8 -->\n<g id=\"edge8\" class=\"edge\">\n<title>7&#45;&gt;8</title>\n<path fill=\"none\" stroke=\"#000000\" d=\"M200.5622,-103.9815C194.944,-95.1585 189.0012,-85.8258 183.3497,-76.9506\"/>\n<polygon fill=\"#000000\" stroke=\"#000000\" points=\"186.1416,-74.8188 177.8181,-68.2637 180.2371,-78.5787 186.1416,-74.8188\"/>\n</g>\n<!-- 9 -->\n<g id=\"node10\" class=\"node\">\n<title>9</title>\n<path fill=\"#39e581\" stroke=\"#000000\" d=\"M350,-68C350,-68 246,-68 246,-68 240,-68 234,-62 234,-56 234,-56 234,-12 234,-12 234,-6 240,0 246,0 246,0 350,0 350,0 356,0 362,-6 362,-12 362,-12 362,-56 362,-56 362,-62 356,-68 350,-68\"/>\n<text text-anchor=\"start\" x=\"268.5\" y=\"-52.8\" font-family=\"Helvetica,sans-Serif\" font-size=\"14.00\" fill=\"#000000\">gini = 0.0</text>\n<text text-anchor=\"start\" x=\"258.5\" y=\"-37.8\" font-family=\"Helvetica,sans-Serif\" font-size=\"14.00\" fill=\"#000000\">samples = 1</text>\n<text text-anchor=\"start\" x=\"248.5\" y=\"-22.8\" font-family=\"Helvetica,sans-Serif\" font-size=\"14.00\" fill=\"#000000\">value = [0, 1, 0]</text>\n<text text-anchor=\"start\" x=\"242\" y=\"-7.8\" font-family=\"Helvetica,sans-Serif\" font-size=\"14.00\" fill=\"#000000\">class = versicolor</text>\n</g>\n<!-- 7&#45;&gt;9 -->\n<g id=\"edge9\" class=\"edge\">\n<title>7&#45;&gt;9</title>\n<path fill=\"none\" stroke=\"#000000\" d=\"M253.4378,-103.9815C259.056,-95.1585 264.9988,-85.8258 270.6503,-76.9506\"/>\n<polygon fill=\"#000000\" stroke=\"#000000\" points=\"273.7629,-78.5787 276.1819,-68.2637 267.8584,-74.8188 273.7629,-78.5787\"/>\n</g>\n<!-- 11 -->\n<g id=\"node12\" class=\"node\">\n<title>11</title>\n<path fill=\"#8139e5\" stroke=\"#000000\" d=\"M445.5,-179.5C445.5,-179.5 350.5,-179.5 350.5,-179.5 344.5,-179.5 338.5,-173.5 338.5,-167.5 338.5,-167.5 338.5,-123.5 338.5,-123.5 338.5,-117.5 344.5,-111.5 350.5,-111.5 350.5,-111.5 445.5,-111.5 445.5,-111.5 451.5,-111.5 457.5,-117.5 457.5,-123.5 457.5,-123.5 457.5,-167.5 457.5,-167.5 457.5,-173.5 451.5,-179.5 445.5,-179.5\"/>\n<text text-anchor=\"start\" x=\"368.5\" y=\"-164.3\" font-family=\"Helvetica,sans-Serif\" font-size=\"14.00\" fill=\"#000000\">gini = 0.0</text>\n<text text-anchor=\"start\" x=\"358.5\" y=\"-149.3\" font-family=\"Helvetica,sans-Serif\" font-size=\"14.00\" fill=\"#000000\">samples = 1</text>\n<text text-anchor=\"start\" x=\"348.5\" y=\"-134.3\" font-family=\"Helvetica,sans-Serif\" font-size=\"14.00\" fill=\"#000000\">value = [0, 0, 1]</text>\n<text text-anchor=\"start\" x=\"346.5\" y=\"-119.3\" font-family=\"Helvetica,sans-Serif\" font-size=\"14.00\" fill=\"#000000\">class = virginica</text>\n</g>\n<!-- 10&#45;&gt;11 -->\n<g id=\"edge11\" class=\"edge\">\n<title>10&#45;&gt;11</title>\n<path fill=\"none\" stroke=\"#000000\" d=\"M402.5517,-222.8796C401.9243,-212.2134 401.2472,-200.7021 400.6119,-189.9015\"/>\n<polygon fill=\"#000000\" stroke=\"#000000\" points=\"404.0998,-189.5921 400.0185,-179.8149 397.1119,-190.0032 404.0998,-189.5921\"/>\n</g>\n<!-- 12 -->\n<g id=\"node13\" class=\"node\">\n<title>12</title>\n<path fill=\"#39e581\" stroke=\"#000000\" d=\"M592,-179.5C592,-179.5 488,-179.5 488,-179.5 482,-179.5 476,-173.5 476,-167.5 476,-167.5 476,-123.5 476,-123.5 476,-117.5 482,-111.5 488,-111.5 488,-111.5 592,-111.5 592,-111.5 598,-111.5 604,-117.5 604,-123.5 604,-123.5 604,-167.5 604,-167.5 604,-173.5 598,-179.5 592,-179.5\"/>\n<text text-anchor=\"start\" x=\"510.5\" y=\"-164.3\" font-family=\"Helvetica,sans-Serif\" font-size=\"14.00\" fill=\"#000000\">gini = 0.0</text>\n<text text-anchor=\"start\" x=\"500.5\" y=\"-149.3\" font-family=\"Helvetica,sans-Serif\" font-size=\"14.00\" fill=\"#000000\">samples = 1</text>\n<text text-anchor=\"start\" x=\"490.5\" y=\"-134.3\" font-family=\"Helvetica,sans-Serif\" font-size=\"14.00\" fill=\"#000000\">value = [0, 1, 0]</text>\n<text text-anchor=\"start\" x=\"484\" y=\"-119.3\" font-family=\"Helvetica,sans-Serif\" font-size=\"14.00\" fill=\"#000000\">class = versicolor</text>\n</g>\n<!-- 10&#45;&gt;12 -->\n<g id=\"edge12\" class=\"edge\">\n<title>10&#45;&gt;12</title>\n<path fill=\"none\" stroke=\"#000000\" d=\"M452.2164,-222.8796C465.5642,-211.1138 480.0785,-198.3197 493.3904,-186.5855\"/>\n<polygon fill=\"#000000\" stroke=\"#000000\" points=\"495.884,-189.0531 501.0713,-179.8149 491.2552,-183.8019 495.884,-189.0531\"/>\n</g>\n<!-- 15 -->\n<g id=\"node16\" class=\"node\">\n<title>15</title>\n<path fill=\"#c09cf2\" stroke=\"#000000\" d=\"M757.5,-425C757.5,-425 624.5,-425 624.5,-425 618.5,-425 612.5,-419 612.5,-413 612.5,-413 612.5,-354 612.5,-354 612.5,-348 618.5,-342 624.5,-342 624.5,-342 757.5,-342 757.5,-342 763.5,-342 769.5,-348 769.5,-354 769.5,-354 769.5,-413 769.5,-413 769.5,-419 763.5,-425 757.5,-425\"/>\n<text text-anchor=\"start\" x=\"620.5\" y=\"-409.8\" font-family=\"Helvetica,sans-Serif\" font-size=\"14.00\" fill=\"#000000\">sepal width (cm) ≤ 3.1</text>\n<text text-anchor=\"start\" x=\"657.5\" y=\"-394.8\" font-family=\"Helvetica,sans-Serif\" font-size=\"14.00\" fill=\"#000000\">gini = 0.44</text>\n<text text-anchor=\"start\" x=\"651.5\" y=\"-379.8\" font-family=\"Helvetica,sans-Serif\" font-size=\"14.00\" fill=\"#000000\">samples = 3</text>\n<text text-anchor=\"start\" x=\"641.5\" y=\"-364.8\" font-family=\"Helvetica,sans-Serif\" font-size=\"14.00\" fill=\"#000000\">value = [0, 1, 2]</text>\n<text text-anchor=\"start\" x=\"639.5\" y=\"-349.8\" font-family=\"Helvetica,sans-Serif\" font-size=\"14.00\" fill=\"#000000\">class = virginica</text>\n</g>\n<!-- 14&#45;&gt;15 -->\n<g id=\"edge15\" class=\"edge\">\n<title>14&#45;&gt;15</title>\n<path fill=\"none\" stroke=\"#000000\" d=\"M695.5517,-460.8796C695.0696,-452.6838 694.5582,-443.9891 694.0589,-435.5013\"/>\n<polygon fill=\"#000000\" stroke=\"#000000\" points=\"697.54,-435.0753 693.4587,-425.2981 690.5521,-435.4864 697.54,-435.0753\"/>\n</g>\n<!-- 18 -->\n<g id=\"node19\" class=\"node\">\n<title>18</title>\n<path fill=\"#8139e5\" stroke=\"#000000\" d=\"M898.5,-417.5C898.5,-417.5 799.5,-417.5 799.5,-417.5 793.5,-417.5 787.5,-411.5 787.5,-405.5 787.5,-405.5 787.5,-361.5 787.5,-361.5 787.5,-355.5 793.5,-349.5 799.5,-349.5 799.5,-349.5 898.5,-349.5 898.5,-349.5 904.5,-349.5 910.5,-355.5 910.5,-361.5 910.5,-361.5 910.5,-405.5 910.5,-405.5 910.5,-411.5 904.5,-417.5 898.5,-417.5\"/>\n<text text-anchor=\"start\" x=\"819.5\" y=\"-402.3\" font-family=\"Helvetica,sans-Serif\" font-size=\"14.00\" fill=\"#000000\">gini = 0.0</text>\n<text text-anchor=\"start\" x=\"805\" y=\"-387.3\" font-family=\"Helvetica,sans-Serif\" font-size=\"14.00\" fill=\"#000000\">samples = 28</text>\n<text text-anchor=\"start\" x=\"795.5\" y=\"-372.3\" font-family=\"Helvetica,sans-Serif\" font-size=\"14.00\" fill=\"#000000\">value = [0, 0, 28]</text>\n<text text-anchor=\"start\" x=\"797.5\" y=\"-357.3\" font-family=\"Helvetica,sans-Serif\" font-size=\"14.00\" fill=\"#000000\">class = virginica</text>\n</g>\n<!-- 14&#45;&gt;18 -->\n<g id=\"edge18\" class=\"edge\">\n<title>14&#45;&gt;18</title>\n<path fill=\"none\" stroke=\"#000000\" d=\"M750.8125,-460.8796C765.8817,-449.0038 782.2803,-436.0804 797.2834,-424.2568\"/>\n<polygon fill=\"#000000\" stroke=\"#000000\" points=\"799.7698,-426.7536 805.4575,-417.8149 795.4369,-421.2557 799.7698,-426.7536\"/>\n</g>\n<!-- 16 -->\n<g id=\"node17\" class=\"node\">\n<title>16</title>\n<path fill=\"#8139e5\" stroke=\"#000000\" d=\"M696.5,-298.5C696.5,-298.5 601.5,-298.5 601.5,-298.5 595.5,-298.5 589.5,-292.5 589.5,-286.5 589.5,-286.5 589.5,-242.5 589.5,-242.5 589.5,-236.5 595.5,-230.5 601.5,-230.5 601.5,-230.5 696.5,-230.5 696.5,-230.5 702.5,-230.5 708.5,-236.5 708.5,-242.5 708.5,-242.5 708.5,-286.5 708.5,-286.5 708.5,-292.5 702.5,-298.5 696.5,-298.5\"/>\n<text text-anchor=\"start\" x=\"619.5\" y=\"-283.3\" font-family=\"Helvetica,sans-Serif\" font-size=\"14.00\" fill=\"#000000\">gini = 0.0</text>\n<text text-anchor=\"start\" x=\"609.5\" y=\"-268.3\" font-family=\"Helvetica,sans-Serif\" font-size=\"14.00\" fill=\"#000000\">samples = 2</text>\n<text text-anchor=\"start\" x=\"599.5\" y=\"-253.3\" font-family=\"Helvetica,sans-Serif\" font-size=\"14.00\" fill=\"#000000\">value = [0, 0, 2]</text>\n<text text-anchor=\"start\" x=\"597.5\" y=\"-238.3\" font-family=\"Helvetica,sans-Serif\" font-size=\"14.00\" fill=\"#000000\">class = virginica</text>\n</g>\n<!-- 15&#45;&gt;16 -->\n<g id=\"edge16\" class=\"edge\">\n<title>15&#45;&gt;16</title>\n<path fill=\"none\" stroke=\"#000000\" d=\"M676.3104,-341.8796C672.5071,-331.1034 668.3993,-319.4647 664.5533,-308.5677\"/>\n<polygon fill=\"#000000\" stroke=\"#000000\" points=\"667.7399,-307.08 661.1112,-298.8149 661.139,-309.4097 667.7399,-307.08\"/>\n</g>\n<!-- 17 -->\n<g id=\"node18\" class=\"node\">\n<title>17</title>\n<path fill=\"#39e581\" stroke=\"#000000\" d=\"M843,-298.5C843,-298.5 739,-298.5 739,-298.5 733,-298.5 727,-292.5 727,-286.5 727,-286.5 727,-242.5 727,-242.5 727,-236.5 733,-230.5 739,-230.5 739,-230.5 843,-230.5 843,-230.5 849,-230.5 855,-236.5 855,-242.5 855,-242.5 855,-286.5 855,-286.5 855,-292.5 849,-298.5 843,-298.5\"/>\n<text text-anchor=\"start\" x=\"761.5\" y=\"-283.3\" font-family=\"Helvetica,sans-Serif\" font-size=\"14.00\" fill=\"#000000\">gini = 0.0</text>\n<text text-anchor=\"start\" x=\"751.5\" y=\"-268.3\" font-family=\"Helvetica,sans-Serif\" font-size=\"14.00\" fill=\"#000000\">samples = 1</text>\n<text text-anchor=\"start\" x=\"741.5\" y=\"-253.3\" font-family=\"Helvetica,sans-Serif\" font-size=\"14.00\" fill=\"#000000\">value = [0, 1, 0]</text>\n<text text-anchor=\"start\" x=\"735\" y=\"-238.3\" font-family=\"Helvetica,sans-Serif\" font-size=\"14.00\" fill=\"#000000\">class = versicolor</text>\n</g>\n<!-- 15&#45;&gt;17 -->\n<g id=\"edge17\" class=\"edge\">\n<title>15&#45;&gt;17</title>\n<path fill=\"none\" stroke=\"#000000\" d=\"M725.9751,-341.8796C735.5852,-330.4436 746.0115,-318.0363 755.6429,-306.575\"/>\n<polygon fill=\"#000000\" stroke=\"#000000\" points=\"758.41,-308.7225 762.1639,-298.8149 753.0509,-304.219 758.41,-308.7225\"/>\n</g>\n</g>\n</svg>\n"
          },
          "metadata": {
            "tags": []
          },
          "execution_count": 10
        }
      ]
    },
    {
      "cell_type": "markdown",
      "metadata": {
        "id": "ZAwGY3Zj8QKJ",
        "colab_type": "text"
      },
      "source": [
        "# Computer Vision (recognize objects in images)\n"
      ]
    },
    {
      "cell_type": "markdown",
      "metadata": {
        "id": "ZB4ehCLYKKSd",
        "colab_type": "text"
      },
      "source": [
        "Load & prepare [MNIST](https://en.wikipedia.org/wiki/MNIST_database) dataset, which is many \"Labelled\" image files of hand-written digits.\n",
        "![MNIST dataset](https://miro.medium.com/max/479/1*yBdJCRwIJGoM7pwU-LNW6Q.png)"
      ]
    },
    {
      "cell_type": "code",
      "metadata": {
        "id": "2j3POc6RGPuI",
        "colab_type": "code",
        "colab": {}
      },
      "source": [
        "import  matplotlib.pyplot  as plt\n",
        "\n",
        "%tensorflow_version  2.x\n",
        "import  tensorflow  as  tf\n",
        "print( tf.__version__ )\n",
        "\n",
        "from  tensorflow.keras  import Model\n",
        "\n",
        "%matplotlib inline\n",
        "\n",
        "\n",
        "mnist = tf.keras.datasets.mnist\n",
        "\n",
        "(x_train, y_train), (x_test, y_test) = mnist.load_data()\n",
        "x_train, x_test = x_train / 255.0, x_test / 255.0\n"
      ],
      "execution_count": 0,
      "outputs": []
    },
    {
      "cell_type": "markdown",
      "metadata": {
        "id": "RC2Luan9LAC7",
        "colab_type": "text"
      },
      "source": [
        "Build \"Model\" using Keras, which calls TensorFlow implementation:"
      ]
    },
    {
      "cell_type": "code",
      "metadata": {
        "id": "Rw9oUjtELPyV",
        "colab_type": "code",
        "colab": {}
      },
      "source": [
        "model = tf.keras.models.Sequential(\n",
        "    [\n",
        "     tf.keras.layers.Flatten( input_shape=[28, 28] )\n",
        "    #  , tf.keras.layers.Dense( 128, activation='relu' )\n",
        "    #  , tf.keras.layers.Dropout( 0.2 )\n",
        "     , tf.keras.layers.Dense( 10, activation='softmax' )\n",
        "    ]\n",
        ")\n",
        "\n",
        "model.compile(\n",
        "    optimizer = 'adam'\n",
        "    , loss = 'sparse_categorical_crossentropy'\n",
        "    , metrics = [ 'accuracy' ]\n",
        ")\n",
        "\n",
        "model.summary()\n",
        "tf.keras.utils.plot_model( model, 'skip_connection.png', show_shapes=True )"
      ],
      "execution_count": 0,
      "outputs": []
    },
    {
      "cell_type": "markdown",
      "metadata": {
        "id": "QPi9Mlf9MlT7",
        "colab_type": "text"
      },
      "source": [
        "Train & evaluate model:"
      ]
    },
    {
      "cell_type": "code",
      "metadata": {
        "id": "AlBbIFpkMr1B",
        "colab_type": "code",
        "colab": {}
      },
      "source": [
        "history = model.fit( x_train, y_train, validation_data=(x_test, y_test), epochs=5 )\n"
      ],
      "execution_count": 0,
      "outputs": []
    },
    {
      "cell_type": "code",
      "metadata": {
        "id": "FY5becXlZ3ax",
        "colab_type": "code",
        "colab": {}
      },
      "source": [
        "eval_results = model.evaluate( x_test, y_test )\n",
        "eval_results"
      ],
      "execution_count": 0,
      "outputs": []
    },
    {
      "cell_type": "markdown",
      "metadata": {
        "id": "WnCxtqeaOu8m",
        "colab_type": "text"
      },
      "source": [
        "Chart the Model's \"Learning\" progress:"
      ]
    },
    {
      "cell_type": "code",
      "metadata": {
        "id": "ZgHN65-0OxW8",
        "colab_type": "code",
        "colab": {}
      },
      "source": [
        "accuracy     = history.history[     'accuracy' ]\n",
        "val_accuracy = history.history[ 'val_accuracy' ]\n",
        "loss     = history.history[     'loss' ]\n",
        "val_loss = history.history[ 'val_loss' ]\n",
        "epochs = range( len( accuracy ) )\n",
        "\n",
        "plt.title( 'Training & Validation Accuracy' )\n",
        "plt.plot( epochs,     accuracy, color='green',   label='Training' )\n",
        "plt.plot( epochs, val_accuracy, color='orange', label='Validation' )\n",
        "plt.xlabel( 'Epoch' )\n",
        "plt.ylabel( 'Accuracy' )\n",
        "plt.legend()\n",
        "_ = plt.figure()\n",
        "\n",
        "plt.title( 'Training & Validation Loss' )\n",
        "plt.plot( epochs,     loss, color='red', label='Loss' )\n",
        "plt.plot( epochs, val_loss, color='orange', label='Validation' )\n",
        "plt.xlabel( 'Epoch' )\n",
        "plt.ylabel( 'Loss' )\n",
        "plt.legend()\n",
        "_ = plt.figure()\n"
      ],
      "execution_count": 0,
      "outputs": []
    },
    {
      "cell_type": "markdown",
      "metadata": {
        "id": "P9Iq7wPGSRov",
        "colab_type": "text"
      },
      "source": [
        "Visualize Learned Network \"Weights\":"
      ]
    },
    {
      "cell_type": "code",
      "metadata": {
        "id": "QxLgJiWfSXjq",
        "colab_type": "code",
        "colab": {}
      },
      "source": [
        "from  matplotlib.colors import LinearSegmentedColormap\n",
        "\n",
        "model.summary()\n",
        "\n",
        "def  show_layer_weights(p_digit_number):\n",
        "  dense_layer = model.layers[1]\n",
        "  weights_inspect = dense_layer.get_weights()[0]\n",
        "  dense_layer_weights = []\n",
        "  for connection in weights_inspect:\n",
        "    weight = connection[ p_digit_number ]\n",
        "    dense_layer_weights.append( weight )\n",
        "  dense_layer_weights\n",
        "  img = tf.reshape( dense_layer_weights, [28, 28] )\n",
        "  # plt.imshow( img, cmap = cmap )\n",
        "  return img\n",
        "\n",
        "fig, axes = plt.subplots( 2, 5, figsize=(10, 4) )\n",
        "fig.tight_layout()\n",
        "axes = axes.reshape(-1)\n",
        "for digit_number in range( 0, 10 ):\n",
        "  title = \"Digit \" + str( digit_number )\n",
        "  a = axes[ digit_number ]\n",
        "  img = show_layer_weights( digit_number )\n",
        "  cmap = LinearSegmentedColormap.from_list( 'rg', [\"red\", \"lightgray\", \"green\"], N=256 )\n",
        "  a.imshow( img, cmap = cmap )\n",
        "  a.set_title( title )\n",
        "  a.set_xticks(()) # ticks be gone\n",
        "  a.set_yticks(())\n",
        "plt.show()\n"
      ],
      "execution_count": 0,
      "outputs": []
    },
    {
      "cell_type": "markdown",
      "metadata": {
        "id": "QqqRNjbXZE5F",
        "colab_type": "text"
      },
      "source": [
        "# Convolution"
      ]
    },
    {
      "cell_type": "markdown",
      "metadata": {
        "id": "vpydVkfgZTE1",
        "colab_type": "text"
      },
      "source": [
        "Setup..."
      ]
    },
    {
      "cell_type": "code",
      "metadata": {
        "id": "4CSMzXHCZV5e",
        "colab_type": "code",
        "colab": {}
      },
      "source": [
        "import scipy\n",
        "from skimage  import color, data\n",
        "\n",
        "%matplotlib inline\n",
        "import matplotlib.pyplot as plt\n",
        "\n",
        "%tensorflow_version  2.x\n",
        "import  tensorflow  as  tf\n",
        "print( tf.__version__ )\n",
        "\n",
        "from  tensorflow.keras  import Model\n"
      ],
      "execution_count": 0,
      "outputs": []
    },
    {
      "cell_type": "markdown",
      "metadata": {
        "id": "6o37uPGIbeK5",
        "colab_type": "text"
      },
      "source": [
        "Load Data"
      ]
    },
    {
      "cell_type": "code",
      "metadata": {
        "id": "sFDwubQ5bl3T",
        "colab_type": "code",
        "colab": {}
      },
      "source": [
        "img = data.astronaut()\n",
        "img = color.rgb2gray( img )\n",
        "plt.axis( 'off' )\n",
        "plt.imshow( img, cmap=plt.cm.gray )\n",
        "plt.title( 'Eileen Collins, 1st Woman Shuttle Commander' )"
      ],
      "execution_count": 0,
      "outputs": []
    },
    {
      "cell_type": "markdown",
      "metadata": {
        "id": "k0hsav6XaqkH",
        "colab_type": "text"
      },
      "source": [
        "Build Model:"
      ]
    },
    {
      "cell_type": "code",
      "metadata": {
        "id": "FNZrxfGJavzn",
        "colab_type": "code",
        "colab": {}
      },
      "source": [
        "model = tf.keras.models.Sequential()\n",
        "\n",
        "model.add(\n",
        "    tf.keras.layers.Conv2D( name = 'Edges_from_Pixels'\n",
        "        , filters = 4\n",
        "        , kernel_size = ( 4, 4 )\n",
        "        , input_shape = ( 10, 10, 3 )\n",
        "    )\n",
        ")\n",
        "\n",
        "model.add(\n",
        "    tf.keras.layers.Conv2D( name = 'Shapes_from_Edges'\n",
        "        , filters = 8\n",
        "        , kernel_size = ( 3, 3 )\n",
        "    )\n",
        ")\n",
        "\n",
        "model.summary()\n",
        "tf.keras.utils.plot_model( model, 'skip_connection.png', show_shapes=True )\n"
      ],
      "execution_count": 0,
      "outputs": []
    }
  ]
}