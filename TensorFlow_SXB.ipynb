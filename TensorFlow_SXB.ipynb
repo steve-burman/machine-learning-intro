{
  "nbformat": 4,
  "nbformat_minor": 0,
  "metadata": {
    "colab": {
      "name": "TensorFlow-SXB.ipynb",
      "provenance": [],
      "collapsed_sections": [],
      "include_colab_link": true
    },
    "kernelspec": {
      "name": "python3",
      "display_name": "Python 3"
    }
  },
  "cells": [
    {
      "cell_type": "markdown",
      "metadata": {
        "id": "view-in-github",
        "colab_type": "text"
      },
      "source": [
        "<a href=\"https://colab.research.google.com/github/steve-burman/machine-learning-intro/blob/master/TensorFlow_SXB.ipynb\" target=\"_parent\"><img src=\"https://colab.research.google.com/assets/colab-badge.svg\" alt=\"Open In Colab\"/></a>"
      ]
    },
    {
      "cell_type": "markdown",
      "metadata": {
        "id": "idb4wKK5JNH0",
        "colab_type": "text"
      },
      "source": [
        "# TensorFlow Demo\n",
        "Steve Burman\n",
        "303-249-1177"
      ]
    },
    {
      "cell_type": "markdown",
      "metadata": {
        "id": "OfU8JWa7O584",
        "colab_type": "text"
      },
      "source": [
        "Python welcome message:"
      ]
    },
    {
      "cell_type": "markdown",
      "metadata": {
        "id": "yyTtmiDNMdvy",
        "colab_type": "text"
      },
      "source": [
        "check installation:"
      ]
    },
    {
      "cell_type": "code",
      "metadata": {
        "id": "AriwKzLQPDKc",
        "colab_type": "code",
        "outputId": "a5179dae-452c-4c3c-fd65-5b5bb3a6db1f",
        "colab": {
          "base_uri": "https://localhost:8080/",
          "height": 35
        }
      },
      "source": [
        "message = \"Welcome to Steve's TensorFlow Demo space\"\n",
        "print( message )"
      ],
      "execution_count": 0,
      "outputs": [
        {
          "output_type": "stream",
          "text": [
            "Welcome to Steve's TensorFlow Demo space\n"
          ],
          "name": "stdout"
        }
      ]
    },
    {
      "cell_type": "markdown",
      "metadata": {
        "id": "5QznN8EYPcI7",
        "colab_type": "text"
      },
      "source": [
        "Now, setup TensorFlow"
      ]
    },
    {
      "cell_type": "code",
      "metadata": {
        "id": "qIGzJ2pSI-FD",
        "colab_type": "code",
        "outputId": "3ce1e07a-06ea-4753-cb78-df9f1342f5ab",
        "colab": {
          "base_uri": "https://localhost:8080/",
          "height": 35
        }
      },
      "source": [
        "%tensorflow_version  2.x\n",
        "import  tensorflow  as  tf\n",
        "print( tf.__version__ )"
      ],
      "execution_count": 0,
      "outputs": [
        {
          "output_type": "stream",
          "text": [
            "2.1.0-rc1\n"
          ],
          "name": "stdout"
        }
      ]
    },
    {
      "cell_type": "code",
      "metadata": {
        "id": "ndkB3fbbKIq5",
        "colab_type": "code",
        "colab": {}
      },
      "source": [
        ""
      ],
      "execution_count": 0,
      "outputs": []
    }
  ]
}