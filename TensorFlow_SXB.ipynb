{
  "nbformat": 4,
  "nbformat_minor": 0,
  "metadata": {
    "colab": {
      "name": "TensorFlow-SXB.ipynb",
      "provenance": [],
      "collapsed_sections": [],
      "include_colab_link": true
    },
    "kernelspec": {
      "name": "python3",
      "display_name": "Python 3"
    }
  },
  "cells": [
    {
      "cell_type": "markdown",
      "metadata": {
        "id": "view-in-github",
        "colab_type": "text"
      },
      "source": [
        "<a href=\"https://colab.research.google.com/github/steve-burman/machine-learning-intro/blob/master/TensorFlow_SXB.ipynb\" target=\"_parent\"><img src=\"https://colab.research.google.com/assets/colab-badge.svg\" alt=\"Open In Colab\"/></a>"
      ]
    },
    {
      "cell_type": "markdown",
      "metadata": {
        "id": "idb4wKK5JNH0",
        "colab_type": "text"
      },
      "source": [
        "# TensorFlow Demo\n",
        "Steve Burman\n",
        "303-249-1177"
      ]
    },
    {
      "cell_type": "markdown",
      "metadata": {
        "id": "OfU8JWa7O584",
        "colab_type": "text"
      },
      "source": [
        "Python welcome message:"
      ]
    },
    {
      "cell_type": "markdown",
      "metadata": {
        "id": "yyTtmiDNMdvy",
        "colab_type": "text"
      },
      "source": [
        "check installation:"
      ]
    },
    {
      "cell_type": "code",
      "metadata": {
        "id": "AriwKzLQPDKc",
        "colab_type": "code",
        "outputId": "a5179dae-452c-4c3c-fd65-5b5bb3a6db1f",
        "colab": {
          "base_uri": "https://localhost:8080/",
          "height": 35
        }
      },
      "source": [
        "message = \"Welcome to Steve's TensorFlow Demo space\"\n",
        "print( message )"
      ],
      "execution_count": 0,
      "outputs": [
        {
          "output_type": "stream",
          "text": [
            "Welcome to Steve's TensorFlow Demo space\n"
          ],
          "name": "stdout"
        }
      ]
    },
    {
      "cell_type": "markdown",
      "metadata": {
        "id": "NSGw2h8Gh0QX",
        "colab_type": "text"
      },
      "source": [
        "# Linear Regression\n",
        "best fit using objective function:  y = m * x + b"
      ]
    },
    {
      "cell_type": "code",
      "metadata": {
        "id": "qIGzJ2pSI-FD",
        "colab_type": "code",
        "outputId": "fe1ed201-7375-4f9d-b051-015c4c1910e1",
        "colab": {
          "base_uri": "https://localhost:8080/",
          "height": 34
        }
      },
      "source": [
        "import  matplotlib.pyplot  as plt\n",
        "\n",
        "%tensorflow_version  2.x\n",
        "import  tensorflow  as  tf\n",
        "print( tf.__version__ )\n",
        "\n",
        "from  tensorflow.keras  import Model\n",
        "\n",
        "def  createSimulatedData( m=0.1, b=0.3, n=100, stddev=0.1 ):\n",
        "  x = tf.random.uniform( shape=( n, ) )\n",
        "  noise = tf.random.normal( shape=( len(x), ), stddev=stddev )\n",
        "  y = m * x + b + noise\n",
        "  return x, y\n",
        "\n",
        "def calculateLineSlope(x1, y1, x2, y2):\n",
        "  dx = x2 - x1\n",
        "  dy = y2 - y1\n",
        "  m = dy / dx\n",
        "  return m"
      ],
      "execution_count": 30,
      "outputs": [
        {
          "output_type": "stream",
          "text": [
            "2.1.0-rc1\n"
          ],
          "name": "stdout"
        }
      ]
    },
    {
      "cell_type": "code",
      "metadata": {
        "id": "xvnFPOZ7qpvI",
        "colab_type": "code",
        "colab": {
          "base_uri": "https://localhost:8080/",
          "height": 282
        },
        "outputId": "8a577093-0685-47ec-df7e-74675db47c43"
      },
      "source": [
        "m = calculateLineSlope( 6.9528, 46.3015, 7.0458, 46.1395 )\n",
        "x_train, y_train = createSimulatedData( m, 46.3015, 200 )\n",
        "plt.plot( x_train, y_train, 'b.' )"
      ],
      "execution_count": 31,
      "outputs": [
        {
          "output_type": "execute_result",
          "data": {
            "text/plain": [
              "[<matplotlib.lines.Line2D at 0x7f381bbcae80>]"
            ]
          },
          "metadata": {
            "tags": []
          },
          "execution_count": 31
        },
        {
          "output_type": "display_data",
          "data": {
            "image/png": "[encoded data removed]",
            "text/plain": [
              "<Figure size 432x288 with 1 Axes>"
            ]
          },
          "metadata": {
            "tags": []
          }
        }
      ]
    },
    {
      "cell_type": "code",
      "metadata": {
        "id": "BGmyVOlcr2V8",
        "colab_type": "code",
        "colab": {}
      },
      "source": [
        ""
      ],
      "execution_count": 0,
      "outputs": []
    }
  ]
}