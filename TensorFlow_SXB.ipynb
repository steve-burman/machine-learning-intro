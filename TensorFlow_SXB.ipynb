{
  "nbformat": 4,
  "nbformat_minor": 0,
  "metadata": {
    "colab": {
      "name": "TensorFlow-SXB.ipynb",
      "provenance": [],
      "collapsed_sections": [],
      "include_colab_link": true
    },
    "kernelspec": {
      "name": "python3",
      "display_name": "Python 3"
    }
  },
  "cells": [
    {
      "cell_type": "markdown",
      "metadata": {
        "id": "view-in-github",
        "colab_type": "text"
      },
      "source": [
        "<a href=\"https://colab.research.google.com/github/steve-burman/machine-learning-intro/blob/master/TensorFlow_SXB.ipynb\" target=\"_parent\"><img src=\"https://colab.research.google.com/assets/colab-badge.svg\" alt=\"Open In Colab\"/></a>"
      ]
    },
    {
      "cell_type": "markdown",
      "metadata": {
        "id": "idb4wKK5JNH0",
        "colab_type": "text"
      },
      "source": [
        "# TensorFlow Demo\n",
        "Steve Burman\n",
        "\n",
        "303-249-1177\n",
        "\n",
        "steve.burman@jeppesen.com"
      ]
    },
    {
      "cell_type": "markdown",
      "metadata": {
        "id": "OfU8JWa7O584",
        "colab_type": "text"
      },
      "source": [
        "Check environment by printing welcome message:"
      ]
    },
    {
      "cell_type": "code",
      "metadata": {
        "id": "AriwKzLQPDKc",
        "colab_type": "code",
        "colab": {}
      },
      "source": [
        "message = \"Welcome to Steve's TensorFlow Demo space\"\n",
        "print( message )"
      ],
      "execution_count": 0,
      "outputs": []
    },
    {
      "cell_type": "markdown",
      "metadata": {
        "id": "NSGw2h8Gh0QX",
        "colab_type": "text"
      },
      "source": [
        "# Linear Regression\n",
        "best fit using objective function:  y = m * x + b"
      ]
    },
    {
      "cell_type": "code",
      "metadata": {
        "id": "qIGzJ2pSI-FD",
        "colab_type": "code",
        "colab": {
          "base_uri": "https://localhost:8080/",
          "height": 50
        },
        "outputId": "967d9eb7-43b1-4090-ae8d-8d7cd4522fed"
      },
      "source": [
        "import  matplotlib.pyplot  as plt\n",
        "\n",
        "%tensorflow_version  2.x\n",
        "import  tensorflow  as  tf\n",
        "print( tf.__version__ )\n",
        "\n",
        "from  tensorflow.keras  import Model\n",
        "\n",
        "%matplotlib inline\n",
        "\n",
        "def  createSimulatedData( m=0.1, b=0.3, n=100, stddev=0.1 ):\n",
        "  x = tf.random.uniform( shape=( n, ) )\n",
        "  noise = tf.random.normal( shape=( len(x), ), stddev=stddev )\n",
        "  y = m * x + b + noise\n",
        "  return x, y\n",
        "\n",
        "def calculateLineSlope(x1, y1, x2, y2):\n",
        "  dx = x2 - x1\n",
        "  dy = y2 - y1\n",
        "  m = dy / dx\n",
        "  return m"
      ],
      "execution_count": 1,
      "outputs": [
        {
          "output_type": "stream",
          "text": [
            "TensorFlow 2.x selected.\n",
            "2.1.0\n"
          ],
          "name": "stdout"
        }
      ]
    },
    {
      "cell_type": "code",
      "metadata": {
        "id": "xvnFPOZ7qpvI",
        "colab_type": "code",
        "colab": {
          "base_uri": "https://localhost:8080/",
          "height": 282
        },
        "outputId": "a49e6d6c-d93f-4d65-aaf8-2f35eb9e44c4"
      },
      "source": [
        "m = calculateLineSlope( 6.9528, 46.3015, 7.0458, 46.1395 )\n",
        "x_train, y_train = createSimulatedData( m, 46.3015, 200 )\n",
        "plt.plot( x_train, y_train, 'b.' )"
      ],
      "execution_count": 2,
      "outputs": [
        {
          "output_type": "execute_result",
          "data": {
            "text/plain": [
              "[<matplotlib.lines.Line2D at 0x7f060ed82da0>]"
            ]
          },
          "metadata": {
            "tags": []
          },
          "execution_count": 2
        },
        {
          "output_type": "display_data",
          "data": {
            "image/png": "[encoded data removed]",
            "text/plain": [
              "<Figure size 432x288 with 1 Axes>"
            ]
          },
          "metadata": {
            "tags": []
          }
        }
      ]
    },
    {
      "cell_type": "markdown",
      "metadata": {
        "id": "7rGQHGCPXCls",
        "colab_type": "text"
      },
      "source": [
        "# Decision Tree"
      ]
    },
    {
      "cell_type": "markdown",
      "metadata": {
        "id": "__AKlxvvXP0o",
        "colab_type": "text"
      },
      "source": [
        "## Import datasets"
      ]
    },
    {
      "cell_type": "markdown",
      "metadata": {
        "id": "JWOTaoRshQqs",
        "colab_type": "text"
      },
      "source": [
        "Setup"
      ]
    },
    {
      "cell_type": "code",
      "metadata": {
        "id": "Yt-C7jHQXbyL",
        "colab_type": "code",
        "colab": {}
      },
      "source": [
        "# Import datasets\n",
        "from urllib.request import urlretrieve\n",
        "from numpy import loadtxt\n",
        "from sklearn.utils import Bunch\n",
        "\n",
        "# analyze dataset\n",
        "def analyze_dataset(bunch):\n",
        "  print( \"feature_names = \", bunch.feature_names )\n",
        "  print( \"target_names = \", bunch.target_names )\n",
        "  # print( \"DESCR = \", bunch.DESCR[0:20] )\n",
        "  print( \"data[0:4] = \", bunch.data[0:4] )\n",
        "  print( \"target[0:4] = \", bunch.target[0:4] )\n",
        "\n",
        "def load_pima_diabetes():\n",
        "  # https://machinelearningmastery.com/tutorial-first-neural-network-python-keras/\n",
        "  # https://raw.githubusercontent.com/jbrownlee/Datasets/master/pima-indians-diabetes.names\n",
        "  bunch = Bunch()\n",
        "  bunch.target_names = [ 'Class 0', 'Class 1']\n",
        "  bunch.feature_names = [\n",
        "      'Times pregnant'\n",
        "    , 'Plasma glucose concentration'\n",
        "    , 'Diastolic blood pressure (mm Hg)'\n",
        "    , 'Triceps skin fold thickness (mm)'\n",
        "    , '2-Hour serum insulin (mu U/ml)'\n",
        "    , 'Body mass index (weight in kg/(height in m)^2)'\n",
        "    , 'Diabetes pedigree function'\n",
        "    , 'Age (years)'\n",
        "  ]\n",
        "  urlretrieve( url=\"https://raw.githubusercontent.com/jbrownlee/Datasets/master/pima-indians-diabetes.data.csv\"\n",
        "    , filename=\"pima-indians-diabetes.csv\" )\n",
        "  dataset = loadtxt('pima-indians-diabetes.csv', delimiter=',')\n",
        "  bunch.data = dataset[:,0:8]\n",
        "  bunch.target = dataset[:,8]\n",
        "  return bunch\n"
      ],
      "execution_count": 0,
      "outputs": []
    },
    {
      "cell_type": "markdown",
      "metadata": {
        "id": "TL8gKOsThYri",
        "colab_type": "text"
      },
      "source": [
        "### Load Iris dataset"
      ]
    },
    {
      "cell_type": "code",
      "metadata": {
        "id": "kCK41ZP6hby5",
        "colab_type": "code",
        "colab": {
          "base_uri": "https://localhost:8080/",
          "height": 185
        },
        "outputId": "5164af74-fc7d-4221-c375-f25d10b75e9d"
      },
      "source": [
        "from sklearn.datasets import load_iris\n",
        "\n",
        "iris_dataset = load_iris()\n",
        "analyze_dataset( iris_dataset )\n",
        "# print( \"iris_dataset:\", iris_dataset )\n",
        "for i in range( len( iris_dataset.target_names ) ):\n",
        "  print( \"Example: %d: label %s, features %s\" % ( i, iris_dataset.target_names[i], iris_dataset.data[i] ) )\n"
      ],
      "execution_count": 4,
      "outputs": [
        {
          "output_type": "stream",
          "text": [
            "feature_names =  ['sepal length (cm)', 'sepal width (cm)', 'petal length (cm)', 'petal width (cm)']\n",
            "target_names =  ['setosa' 'versicolor' 'virginica']\n",
            "data[0:4] =  [[5.1 3.5 1.4 0.2]\n",
            " [4.9 3.  1.4 0.2]\n",
            " [4.7 3.2 1.3 0.2]\n",
            " [4.6 3.1 1.5 0.2]]\n",
            "target[0:4] =  [0 0 0 0]\n",
            "Example: 0: label setosa, features [5.1 3.5 1.4 0.2]\n",
            "Example: 1: label versicolor, features [4.9 3.  1.4 0.2]\n",
            "Example: 2: label virginica, features [4.7 3.2 1.3 0.2]\n"
          ],
          "name": "stdout"
        }
      ]
    },
    {
      "cell_type": "markdown",
      "metadata": {
        "id": "ljqVyhLvhelL",
        "colab_type": "text"
      },
      "source": [
        "### Load Pima Indians diabetes dataset"
      ]
    },
    {
      "cell_type": "code",
      "metadata": {
        "id": "tJBat53Shlmt",
        "colab_type": "code",
        "colab": {
          "base_uri": "https://localhost:8080/",
          "height": 154
        },
        "outputId": "44b5249d-6118-41cb-b83a-cb3fb9af3182"
      },
      "source": [
        "# load Pima dataset\n",
        "pima_diabetes_dataset = load_pima_diabetes()\n",
        "analyze_dataset( pima_diabetes_dataset )\n"
      ],
      "execution_count": 5,
      "outputs": [
        {
          "output_type": "stream",
          "text": [
            "feature_names =  ['Times pregnant', 'Plasma glucose concentration', 'Diastolic blood pressure (mm Hg)', 'Triceps skin fold thickness (mm)', '2-Hour serum insulin (mu U/ml)', 'Body mass index (weight in kg/(height in m)^2)', 'Diabetes pedigree function', 'Age (years)']\n",
            "target_names =  ['Class 0', 'Class 1']\n",
            "data[0:4] =  [[6.00e+00 1.48e+02 7.20e+01 3.50e+01 0.00e+00 3.36e+01 6.27e-01 5.00e+01]\n",
            " [1.00e+00 8.50e+01 6.60e+01 2.90e+01 0.00e+00 2.66e+01 3.51e-01 3.10e+01]\n",
            " [8.00e+00 1.83e+02 6.40e+01 0.00e+00 0.00e+00 2.33e+01 6.72e-01 3.20e+01]\n",
            " [1.00e+00 8.90e+01 6.60e+01 2.30e+01 9.40e+01 2.81e+01 1.67e-01 2.10e+01]]\n",
            "target[0:4] =  [1. 0. 1. 0.]\n"
          ],
          "name": "stdout"
        }
      ]
    },
    {
      "cell_type": "markdown",
      "metadata": {
        "id": "x61fU_BgXdSa",
        "colab_type": "text"
      },
      "source": [
        "## Train classifier"
      ]
    },
    {
      "cell_type": "code",
      "metadata": {
        "id": "f5wfFSmlXhuS",
        "colab_type": "code",
        "colab": {
          "base_uri": "https://localhost:8080/",
          "height": 286
        },
        "outputId": "d0af05a4-2d3b-4f8d-8a3e-a6320b68a0e2"
      },
      "source": [
        "# Train classifier\n",
        "import numpy as np\n",
        "from sklearn import tree\n",
        "from sklearn.model_selection import train_test_split\n",
        "\n",
        "def train_classifier( dataset ):\n",
        "  # set aside some of dataset as train_data and some as test_data (X=data, y=target)\n",
        "  train_data, test_data, train_target, test_target = train_test_split( dataset.data, dataset.target, test_size=0.25, random_state=42 )\n",
        "  print( \"train_data[:5]:\", train_data[:5] )\n",
        "  print( \"test_data[:5]:\", test_data[:5] )\n",
        "  print( \"train_target:\", train_target )\n",
        "  print( \"test_target:\", test_target )\n",
        "  # build Decision Tree Classifier\n",
        "  classifier = tree.DecisionTreeClassifier()\n",
        "  estimator = classifier.fit( train_data, train_target )\n",
        "  return train_data, test_data, train_target, test_target, classifier\n",
        "\n",
        "train_data, test_data, train_target, test_target, classifier = train_classifier( iris_dataset )\n",
        "# train_data, test_data, train_target, test_target, classifier = train_classifier( pima_diabetes_dataset )\n"
      ],
      "execution_count": 6,
      "outputs": [
        {
          "output_type": "stream",
          "text": [
            "train_data[:5]: [[5.  3.6 1.4 0.2]\n",
            " [5.2 4.1 1.5 0.1]\n",
            " [5.8 2.7 5.1 1.9]\n",
            " [6.  3.4 4.5 1.6]\n",
            " [6.7 3.1 4.7 1.5]]\n",
            "test_data[:5]: [[6.1 2.8 4.7 1.2]\n",
            " [5.7 3.8 1.7 0.3]\n",
            " [7.7 2.6 6.9 2.3]\n",
            " [6.  2.9 4.5 1.5]\n",
            " [6.8 2.8 4.8 1.4]]\n",
            "train_target: [0 0 2 1 1 0 0 1 2 2 1 2 1 2 1 0 2 1 0 0 0 1 2 0 0 0 1 0 1 2 0 1 2 0 2 2 1\n",
            " 1 2 1 0 1 2 0 0 1 1 0 2 0 0 1 1 2 1 2 2 1 0 0 2 2 0 0 0 1 2 0 2 2 0 1 1 2\n",
            " 1 2 0 2 1 2 1 1 1 0 1 1 0 1 2 2 0 1 2 2 0 2 0 1 2 2 1 2 1 1 2 2 0 1 2 0 1\n",
            " 2]\n",
            "test_target: [1 0 2 1 1 0 1 2 1 1 2 0 0 0 0 1 2 1 1 2 0 2 0 2 2 2 2 2 0 0 0 0 1 0 0 2 1\n",
            " 0]\n"
          ],
          "name": "stdout"
        }
      ]
    },
    {
      "cell_type": "markdown",
      "metadata": {
        "id": "7i_gI1KUXs2k",
        "colab_type": "text"
      },
      "source": [
        "## Predict label for new observation"
      ]
    },
    {
      "cell_type": "code",
      "metadata": {
        "id": "o3L4tzHvX12L",
        "colab_type": "code",
        "colab": {
          "base_uri": "https://localhost:8080/",
          "height": 84
        },
        "outputId": "ed419be9-4ae0-483c-f9a6-7f4503f539e2"
      },
      "source": [
        "# Predict label for new observation\n",
        "prediction = classifier.predict( test_data )\n",
        "print( \"test_target:\", test_target )\n",
        "print( \"prediction: \", prediction )\n"
      ],
      "execution_count": 7,
      "outputs": [
        {
          "output_type": "stream",
          "text": [
            "test_target: [1 0 2 1 1 0 1 2 1 1 2 0 0 0 0 1 2 1 1 2 0 2 0 2 2 2 2 2 0 0 0 0 1 0 0 2 1\n",
            " 0]\n",
            "prediction:  [1 0 2 1 1 0 1 2 1 1 2 0 0 0 0 1 2 1 1 2 0 2 0 2 2 2 2 2 0 0 0 0 1 0 0 2 1\n",
            " 0]\n"
          ],
          "name": "stdout"
        }
      ]
    },
    {
      "cell_type": "markdown",
      "metadata": {
        "id": "BdT6LY8GX4YS",
        "colab_type": "text"
      },
      "source": [
        "## Visualize decision tree"
      ]
    },
    {
      "cell_type": "code",
      "metadata": {
        "id": "S6TXUef8X8hA",
        "colab_type": "code",
        "colab": {
          "base_uri": "https://localhost:8080/",
          "height": 1000
        },
        "outputId": "e76b1653-dde5-4daa-edfc-754085a10be1"
      },
      "source": [
        "# Visualize decision tree\n",
        "import graphviz\n",
        "\n",
        "def visualize_decision_tree(classifier, dataset):\n",
        "  # tree.plot_tree( classifier.fit( dataset.data, dataset.target ) )\n",
        "  dot_data = tree.export_graphviz( classifier, out_file=None,\n",
        "                      feature_names=dataset.feature_names,\n",
        "                      class_names=dataset.target_names,\n",
        "                      filled=True, rounded=True,\n",
        "                      special_characters=True, precision=2)\n",
        "  graph = graphviz.Source( dot_data )\n",
        "  return graph\n",
        "\n",
        "visualize_decision_tree( classifier, iris_dataset )\n",
        "# visualize_decision_tree( classifier, pima_diabetes_dataset )\n"
      ],
      "execution_count": 8,
      "outputs": [
        {
          "output_type": "execute_result",
          "data": {
            "text/plain": [
              "<graphviz.files.Source at 0x7f060c189780>"
            ],
            "image/svg+xml": "<?xml version=\"1.0\" encoding=\"UTF-8\" standalone=\"no\"?>\n<!DOCTYPE svg PUBLIC \"-//W3C//DTD SVG 1.1//EN\"\n \"http://www.w3.org/Graphics/SVG/1.1/DTD/svg11.dtd\">\n<!-- Generated by graphviz version 2.40.1 (20161225.0304)\n -->\n<!-- Title: Tree Pages: 1 -->\n<svg width=\"796pt\" height=\"790pt\"\n viewBox=\"0.00 0.00 795.50 790.00\" xmlns=\"http://www.w3.org/2000/svg\" xmlns:xlink=\"http://www.w3.org/1999/xlink\">\n<g id=\"graph0\" class=\"graph\" transform=\"scale(1 1) rotate(0) translate(4 786)\">\n<title>Tree</title>\n<polygon fill=\"#ffffff\" stroke=\"transparent\" points=\"-4,4 -4,-786 791.5,-786 791.5,4 -4,4\"/>\n<!-- 0 -->\n<g id=\"node1\" class=\"node\">\n<title>0</title>\n<path fill=\"#fcfffd\" stroke=\"#000000\" d=\"M272.5,-782C272.5,-782 143.5,-782 143.5,-782 137.5,-782 131.5,-776 131.5,-770 131.5,-770 131.5,-711 131.5,-711 131.5,-705 137.5,-699 143.5,-699 143.5,-699 272.5,-699 272.5,-699 278.5,-699 284.5,-705 284.5,-711 284.5,-711 284.5,-770 284.5,-770 284.5,-776 278.5,-782 272.5,-782\"/>\n<text text-anchor=\"start\" x=\"139.5\" y=\"-766.8\" font-family=\"Helvetica,sans-Serif\" font-size=\"14.00\" fill=\"#000000\">petal width (cm) ≤ 0.8</text>\n<text text-anchor=\"start\" x=\"174.5\" y=\"-751.8\" font-family=\"Helvetica,sans-Serif\" font-size=\"14.00\" fill=\"#000000\">gini = 0.67</text>\n<text text-anchor=\"start\" x=\"160\" y=\"-736.8\" font-family=\"Helvetica,sans-Serif\" font-size=\"14.00\" fill=\"#000000\">samples = 112</text>\n<text text-anchor=\"start\" x=\"146\" y=\"-721.8\" font-family=\"Helvetica,sans-Serif\" font-size=\"14.00\" fill=\"#000000\">value = [35, 39, 38]</text>\n<text text-anchor=\"start\" x=\"152\" y=\"-706.8\" font-family=\"Helvetica,sans-Serif\" font-size=\"14.00\" fill=\"#000000\">class = versicolor</text>\n</g>\n<!-- 1 -->\n<g id=\"node2\" class=\"node\">\n<title>1</title>\n<path fill=\"#e58139\" stroke=\"#000000\" d=\"M176.5,-655.5C176.5,-655.5 77.5,-655.5 77.5,-655.5 71.5,-655.5 65.5,-649.5 65.5,-643.5 65.5,-643.5 65.5,-599.5 65.5,-599.5 65.5,-593.5 71.5,-587.5 77.5,-587.5 77.5,-587.5 176.5,-587.5 176.5,-587.5 182.5,-587.5 188.5,-593.5 188.5,-599.5 188.5,-599.5 188.5,-643.5 188.5,-643.5 188.5,-649.5 182.5,-655.5 176.5,-655.5\"/>\n<text text-anchor=\"start\" x=\"97.5\" y=\"-640.3\" font-family=\"Helvetica,sans-Serif\" font-size=\"14.00\" fill=\"#000000\">gini = 0.0</text>\n<text text-anchor=\"start\" x=\"83\" y=\"-625.3\" font-family=\"Helvetica,sans-Serif\" font-size=\"14.00\" fill=\"#000000\">samples = 35</text>\n<text text-anchor=\"start\" x=\"73.5\" y=\"-610.3\" font-family=\"Helvetica,sans-Serif\" font-size=\"14.00\" fill=\"#000000\">value = [35, 0, 0]</text>\n<text text-anchor=\"start\" x=\"80\" y=\"-595.3\" font-family=\"Helvetica,sans-Serif\" font-size=\"14.00\" fill=\"#000000\">class = setosa</text>\n</g>\n<!-- 0&#45;&gt;1 -->\n<g id=\"edge1\" class=\"edge\">\n<title>0&#45;&gt;1</title>\n<path fill=\"none\" stroke=\"#000000\" d=\"M179.6701,-698.8796C172.0357,-687.6636 163.7652,-675.5131 156.0901,-664.2372\"/>\n<polygon fill=\"#000000\" stroke=\"#000000\" points=\"158.8775,-662.1122 150.3572,-655.8149 153.0908,-666.0511 158.8775,-662.1122\"/>\n<text text-anchor=\"middle\" x=\"145.6907\" y=\"-676.6755\" font-family=\"Helvetica,sans-Serif\" font-size=\"14.00\" fill=\"#000000\">True</text>\n</g>\n<!-- 2 -->\n<g id=\"node3\" class=\"node\">\n<title>2</title>\n<path fill=\"#fafefc\" stroke=\"#000000\" d=\"M361.5,-663C361.5,-663 218.5,-663 218.5,-663 212.5,-663 206.5,-657 206.5,-651 206.5,-651 206.5,-592 206.5,-592 206.5,-586 212.5,-580 218.5,-580 218.5,-580 361.5,-580 361.5,-580 367.5,-580 373.5,-586 373.5,-592 373.5,-592 373.5,-651 373.5,-651 373.5,-657 367.5,-663 361.5,-663\"/>\n<text text-anchor=\"start\" x=\"214.5\" y=\"-647.8\" font-family=\"Helvetica,sans-Serif\" font-size=\"14.00\" fill=\"#000000\">petal length (cm) ≤ 4.75</text>\n<text text-anchor=\"start\" x=\"260.5\" y=\"-632.8\" font-family=\"Helvetica,sans-Serif\" font-size=\"14.00\" fill=\"#000000\">gini = 0.5</text>\n<text text-anchor=\"start\" x=\"246\" y=\"-617.8\" font-family=\"Helvetica,sans-Serif\" font-size=\"14.00\" fill=\"#000000\">samples = 77</text>\n<text text-anchor=\"start\" x=\"232.5\" y=\"-602.8\" font-family=\"Helvetica,sans-Serif\" font-size=\"14.00\" fill=\"#000000\">value = [0, 39, 38]</text>\n<text text-anchor=\"start\" x=\"234\" y=\"-587.8\" font-family=\"Helvetica,sans-Serif\" font-size=\"14.00\" fill=\"#000000\">class = versicolor</text>\n</g>\n<!-- 0&#45;&gt;2 -->\n<g id=\"edge2\" class=\"edge\">\n<title>0&#45;&gt;2</title>\n<path fill=\"none\" stroke=\"#000000\" d=\"M236.6796,-698.8796C242.7615,-690.0534 249.2422,-680.6485 255.5141,-671.5466\"/>\n<polygon fill=\"#000000\" stroke=\"#000000\" points=\"258.4059,-673.5184 261.198,-663.2981 252.6418,-669.5465 258.4059,-673.5184\"/>\n<text text-anchor=\"middle\" x=\"265.7239\" y=\"-684.185\" font-family=\"Helvetica,sans-Serif\" font-size=\"14.00\" fill=\"#000000\">False</text>\n</g>\n<!-- 3 -->\n<g id=\"node4\" class=\"node\">\n<title>3</title>\n<path fill=\"#3fe685\" stroke=\"#000000\" d=\"M269.5,-544C269.5,-544 132.5,-544 132.5,-544 126.5,-544 120.5,-538 120.5,-532 120.5,-532 120.5,-473 120.5,-473 120.5,-467 126.5,-461 132.5,-461 132.5,-461 269.5,-461 269.5,-461 275.5,-461 281.5,-467 281.5,-473 281.5,-473 281.5,-532 281.5,-532 281.5,-538 275.5,-544 269.5,-544\"/>\n<text text-anchor=\"start\" x=\"128.5\" y=\"-528.8\" font-family=\"Helvetica,sans-Serif\" font-size=\"14.00\" fill=\"#000000\">petal width (cm) ≤ 1.65</text>\n<text text-anchor=\"start\" x=\"167.5\" y=\"-513.8\" font-family=\"Helvetica,sans-Serif\" font-size=\"14.00\" fill=\"#000000\">gini = 0.06</text>\n<text text-anchor=\"start\" x=\"157\" y=\"-498.8\" font-family=\"Helvetica,sans-Serif\" font-size=\"14.00\" fill=\"#000000\">samples = 35</text>\n<text text-anchor=\"start\" x=\"147.5\" y=\"-483.8\" font-family=\"Helvetica,sans-Serif\" font-size=\"14.00\" fill=\"#000000\">value = [0, 34, 1]</text>\n<text text-anchor=\"start\" x=\"145\" y=\"-468.8\" font-family=\"Helvetica,sans-Serif\" font-size=\"14.00\" fill=\"#000000\">class = versicolor</text>\n</g>\n<!-- 2&#45;&gt;3 -->\n<g id=\"edge3\" class=\"edge\">\n<title>2&#45;&gt;3</title>\n<path fill=\"none\" stroke=\"#000000\" d=\"M258.8721,-579.8796C252.271,-571.0534 245.2371,-561.6485 238.4298,-552.5466\"/>\n<polygon fill=\"#000000\" stroke=\"#000000\" points=\"241.0528,-550.2099 232.2607,-544.2981 235.4472,-554.4024 241.0528,-550.2099\"/>\n</g>\n<!-- 6 -->\n<g id=\"node7\" class=\"node\">\n<title>6</title>\n<path fill=\"#9254e9\" stroke=\"#000000\" d=\"M448.5,-544C448.5,-544 311.5,-544 311.5,-544 305.5,-544 299.5,-538 299.5,-532 299.5,-532 299.5,-473 299.5,-473 299.5,-467 305.5,-461 311.5,-461 311.5,-461 448.5,-461 448.5,-461 454.5,-461 460.5,-467 460.5,-473 460.5,-473 460.5,-532 460.5,-532 460.5,-538 454.5,-544 448.5,-544\"/>\n<text text-anchor=\"start\" x=\"307.5\" y=\"-528.8\" font-family=\"Helvetica,sans-Serif\" font-size=\"14.00\" fill=\"#000000\">petal width (cm) ≤ 1.75</text>\n<text text-anchor=\"start\" x=\"346.5\" y=\"-513.8\" font-family=\"Helvetica,sans-Serif\" font-size=\"14.00\" fill=\"#000000\">gini = 0.21</text>\n<text text-anchor=\"start\" x=\"336\" y=\"-498.8\" font-family=\"Helvetica,sans-Serif\" font-size=\"14.00\" fill=\"#000000\">samples = 42</text>\n<text text-anchor=\"start\" x=\"326.5\" y=\"-483.8\" font-family=\"Helvetica,sans-Serif\" font-size=\"14.00\" fill=\"#000000\">value = [0, 5, 37]</text>\n<text text-anchor=\"start\" x=\"328.5\" y=\"-468.8\" font-family=\"Helvetica,sans-Serif\" font-size=\"14.00\" fill=\"#000000\">class = virginica</text>\n</g>\n<!-- 2&#45;&gt;6 -->\n<g id=\"edge6\" class=\"edge\">\n<title>2&#45;&gt;6</title>\n<path fill=\"none\" stroke=\"#000000\" d=\"M321.4776,-579.8796C328.1529,-571.0534 335.2658,-561.6485 342.1496,-552.5466\"/>\n<polygon fill=\"#000000\" stroke=\"#000000\" points=\"345.1474,-554.3852 348.388,-544.2981 339.5643,-550.1626 345.1474,-554.3852\"/>\n</g>\n<!-- 4 -->\n<g id=\"node5\" class=\"node\">\n<title>4</title>\n<path fill=\"#39e581\" stroke=\"#000000\" d=\"M116,-417.5C116,-417.5 12,-417.5 12,-417.5 6,-417.5 0,-411.5 0,-405.5 0,-405.5 0,-361.5 0,-361.5 0,-355.5 6,-349.5 12,-349.5 12,-349.5 116,-349.5 116,-349.5 122,-349.5 128,-355.5 128,-361.5 128,-361.5 128,-405.5 128,-405.5 128,-411.5 122,-417.5 116,-417.5\"/>\n<text text-anchor=\"start\" x=\"34.5\" y=\"-402.3\" font-family=\"Helvetica,sans-Serif\" font-size=\"14.00\" fill=\"#000000\">gini = 0.0</text>\n<text text-anchor=\"start\" x=\"20\" y=\"-387.3\" font-family=\"Helvetica,sans-Serif\" font-size=\"14.00\" fill=\"#000000\">samples = 34</text>\n<text text-anchor=\"start\" x=\"10.5\" y=\"-372.3\" font-family=\"Helvetica,sans-Serif\" font-size=\"14.00\" fill=\"#000000\">value = [0, 34, 0]</text>\n<text text-anchor=\"start\" x=\"8\" y=\"-357.3\" font-family=\"Helvetica,sans-Serif\" font-size=\"14.00\" fill=\"#000000\">class = versicolor</text>\n</g>\n<!-- 3&#45;&gt;4 -->\n<g id=\"edge4\" class=\"edge\">\n<title>3&#45;&gt;4</title>\n<path fill=\"none\" stroke=\"#000000\" d=\"M153.084,-460.8796C139.5385,-449.1138 124.8092,-436.3197 111.3002,-424.5855\"/>\n<polygon fill=\"#000000\" stroke=\"#000000\" points=\"113.3503,-421.7303 103.5054,-417.8149 108.7599,-427.015 113.3503,-421.7303\"/>\n</g>\n<!-- 5 -->\n<g id=\"node6\" class=\"node\">\n<title>5</title>\n<path fill=\"#8139e5\" stroke=\"#000000\" d=\"M253.5,-417.5C253.5,-417.5 158.5,-417.5 158.5,-417.5 152.5,-417.5 146.5,-411.5 146.5,-405.5 146.5,-405.5 146.5,-361.5 146.5,-361.5 146.5,-355.5 152.5,-349.5 158.5,-349.5 158.5,-349.5 253.5,-349.5 253.5,-349.5 259.5,-349.5 265.5,-355.5 265.5,-361.5 265.5,-361.5 265.5,-405.5 265.5,-405.5 265.5,-411.5 259.5,-417.5 253.5,-417.5\"/>\n<text text-anchor=\"start\" x=\"176.5\" y=\"-402.3\" font-family=\"Helvetica,sans-Serif\" font-size=\"14.00\" fill=\"#000000\">gini = 0.0</text>\n<text text-anchor=\"start\" x=\"166.5\" y=\"-387.3\" font-family=\"Helvetica,sans-Serif\" font-size=\"14.00\" fill=\"#000000\">samples = 1</text>\n<text text-anchor=\"start\" x=\"156.5\" y=\"-372.3\" font-family=\"Helvetica,sans-Serif\" font-size=\"14.00\" fill=\"#000000\">value = [0, 0, 1]</text>\n<text text-anchor=\"start\" x=\"154.5\" y=\"-357.3\" font-family=\"Helvetica,sans-Serif\" font-size=\"14.00\" fill=\"#000000\">class = virginica</text>\n</g>\n<!-- 3&#45;&gt;5 -->\n<g id=\"edge5\" class=\"edge\">\n<title>3&#45;&gt;5</title>\n<path fill=\"none\" stroke=\"#000000\" d=\"M202.7488,-460.8796C203.1969,-450.2134 203.6806,-438.7021 204.1344,-427.9015\"/>\n<polygon fill=\"#000000\" stroke=\"#000000\" points=\"207.6352,-427.9531 204.5582,-417.8149 200.6414,-427.6592 207.6352,-427.9531\"/>\n</g>\n<!-- 7 -->\n<g id=\"node8\" class=\"node\">\n<title>7</title>\n<path fill=\"#ffffff\" stroke=\"#000000\" d=\"M447.5,-425C447.5,-425 304.5,-425 304.5,-425 298.5,-425 292.5,-419 292.5,-413 292.5,-413 292.5,-354 292.5,-354 292.5,-348 298.5,-342 304.5,-342 304.5,-342 447.5,-342 447.5,-342 453.5,-342 459.5,-348 459.5,-354 459.5,-354 459.5,-413 459.5,-413 459.5,-419 453.5,-425 447.5,-425\"/>\n<text text-anchor=\"start\" x=\"300.5\" y=\"-409.8\" font-family=\"Helvetica,sans-Serif\" font-size=\"14.00\" fill=\"#000000\">petal length (cm) ≤ 4.95</text>\n<text text-anchor=\"start\" x=\"346.5\" y=\"-394.8\" font-family=\"Helvetica,sans-Serif\" font-size=\"14.00\" fill=\"#000000\">gini = 0.5</text>\n<text text-anchor=\"start\" x=\"336.5\" y=\"-379.8\" font-family=\"Helvetica,sans-Serif\" font-size=\"14.00\" fill=\"#000000\">samples = 8</text>\n<text text-anchor=\"start\" x=\"326.5\" y=\"-364.8\" font-family=\"Helvetica,sans-Serif\" font-size=\"14.00\" fill=\"#000000\">value = [0, 4, 4]</text>\n<text text-anchor=\"start\" x=\"320\" y=\"-349.8\" font-family=\"Helvetica,sans-Serif\" font-size=\"14.00\" fill=\"#000000\">class = versicolor</text>\n</g>\n<!-- 6&#45;&gt;7 -->\n<g id=\"edge7\" class=\"edge\">\n<title>6&#45;&gt;7</title>\n<path fill=\"none\" stroke=\"#000000\" d=\"M378.601,-460.8796C378.3255,-452.6838 378.0332,-443.9891 377.7479,-435.5013\"/>\n<polygon fill=\"#000000\" stroke=\"#000000\" points=\"381.239,-435.1748 377.405,-425.2981 374.243,-435.41 381.239,-435.1748\"/>\n</g>\n<!-- 14 -->\n<g id=\"node15\" class=\"node\">\n<title>14</title>\n<path fill=\"#853fe6\" stroke=\"#000000\" d=\"M632.5,-425C632.5,-425 489.5,-425 489.5,-425 483.5,-425 477.5,-419 477.5,-413 477.5,-413 477.5,-354 477.5,-354 477.5,-348 483.5,-342 489.5,-342 489.5,-342 632.5,-342 632.5,-342 638.5,-342 644.5,-348 644.5,-354 644.5,-354 644.5,-413 644.5,-413 644.5,-419 638.5,-425 632.5,-425\"/>\n<text text-anchor=\"start\" x=\"485.5\" y=\"-409.8\" font-family=\"Helvetica,sans-Serif\" font-size=\"14.00\" fill=\"#000000\">petal length (cm) ≤ 4.85</text>\n<text text-anchor=\"start\" x=\"527.5\" y=\"-394.8\" font-family=\"Helvetica,sans-Serif\" font-size=\"14.00\" fill=\"#000000\">gini = 0.06</text>\n<text text-anchor=\"start\" x=\"517\" y=\"-379.8\" font-family=\"Helvetica,sans-Serif\" font-size=\"14.00\" fill=\"#000000\">samples = 34</text>\n<text text-anchor=\"start\" x=\"507.5\" y=\"-364.8\" font-family=\"Helvetica,sans-Serif\" font-size=\"14.00\" fill=\"#000000\">value = [0, 1, 33]</text>\n<text text-anchor=\"start\" x=\"509.5\" y=\"-349.8\" font-family=\"Helvetica,sans-Serif\" font-size=\"14.00\" fill=\"#000000\">class = virginica</text>\n</g>\n<!-- 6&#45;&gt;14 -->\n<g id=\"edge14\" class=\"edge\">\n<title>6&#45;&gt;14</title>\n<path fill=\"none\" stroke=\"#000000\" d=\"M443.305,-460.8796C458.1856,-451.0962 474.1476,-440.6019 489.3649,-430.5971\"/>\n<polygon fill=\"#000000\" stroke=\"#000000\" points=\"491.2977,-433.5151 497.7307,-425.0969 487.4521,-427.666 491.2977,-433.5151\"/>\n</g>\n<!-- 8 -->\n<g id=\"node9\" class=\"node\">\n<title>8</title>\n<path fill=\"#39e581\" stroke=\"#000000\" d=\"M265,-298.5C265,-298.5 161,-298.5 161,-298.5 155,-298.5 149,-292.5 149,-286.5 149,-286.5 149,-242.5 149,-242.5 149,-236.5 155,-230.5 161,-230.5 161,-230.5 265,-230.5 265,-230.5 271,-230.5 277,-236.5 277,-242.5 277,-242.5 277,-286.5 277,-286.5 277,-292.5 271,-298.5 265,-298.5\"/>\n<text text-anchor=\"start\" x=\"183.5\" y=\"-283.3\" font-family=\"Helvetica,sans-Serif\" font-size=\"14.00\" fill=\"#000000\">gini = 0.0</text>\n<text text-anchor=\"start\" x=\"173.5\" y=\"-268.3\" font-family=\"Helvetica,sans-Serif\" font-size=\"14.00\" fill=\"#000000\">samples = 2</text>\n<text text-anchor=\"start\" x=\"163.5\" y=\"-253.3\" font-family=\"Helvetica,sans-Serif\" font-size=\"14.00\" fill=\"#000000\">value = [0, 2, 0]</text>\n<text text-anchor=\"start\" x=\"157\" y=\"-238.3\" font-family=\"Helvetica,sans-Serif\" font-size=\"14.00\" fill=\"#000000\">class = versicolor</text>\n</g>\n<!-- 7&#45;&gt;8 -->\n<g id=\"edge8\" class=\"edge\">\n<title>7&#45;&gt;8</title>\n<path fill=\"none\" stroke=\"#000000\" d=\"M318.9905,-341.8796C302.4949,-329.8368 284.5237,-316.7167 268.1441,-304.7586\"/>\n<polygon fill=\"#000000\" stroke=\"#000000\" points=\"269.8804,-301.6927 259.74,-298.623 265.7528,-307.3463 269.8804,-301.6927\"/>\n</g>\n<!-- 9 -->\n<g id=\"node10\" class=\"node\">\n<title>9</title>\n<path fill=\"#c09cf2\" stroke=\"#000000\" d=\"M444.5,-306C444.5,-306 307.5,-306 307.5,-306 301.5,-306 295.5,-300 295.5,-294 295.5,-294 295.5,-235 295.5,-235 295.5,-229 301.5,-223 307.5,-223 307.5,-223 444.5,-223 444.5,-223 450.5,-223 456.5,-229 456.5,-235 456.5,-235 456.5,-294 456.5,-294 456.5,-300 450.5,-306 444.5,-306\"/>\n<text text-anchor=\"start\" x=\"303.5\" y=\"-290.8\" font-family=\"Helvetica,sans-Serif\" font-size=\"14.00\" fill=\"#000000\">petal width (cm) ≤ 1.55</text>\n<text text-anchor=\"start\" x=\"342.5\" y=\"-275.8\" font-family=\"Helvetica,sans-Serif\" font-size=\"14.00\" fill=\"#000000\">gini = 0.44</text>\n<text text-anchor=\"start\" x=\"336.5\" y=\"-260.8\" font-family=\"Helvetica,sans-Serif\" font-size=\"14.00\" fill=\"#000000\">samples = 6</text>\n<text text-anchor=\"start\" x=\"326.5\" y=\"-245.8\" font-family=\"Helvetica,sans-Serif\" font-size=\"14.00\" fill=\"#000000\">value = [0, 2, 4]</text>\n<text text-anchor=\"start\" x=\"324.5\" y=\"-230.8\" font-family=\"Helvetica,sans-Serif\" font-size=\"14.00\" fill=\"#000000\">class = virginica</text>\n</g>\n<!-- 7&#45;&gt;9 -->\n<g id=\"edge9\" class=\"edge\">\n<title>7&#45;&gt;9</title>\n<path fill=\"none\" stroke=\"#000000\" d=\"M376,-341.8796C376,-333.6838 376,-324.9891 376,-316.5013\"/>\n<polygon fill=\"#000000\" stroke=\"#000000\" points=\"379.5001,-316.298 376,-306.2981 372.5001,-316.2981 379.5001,-316.298\"/>\n</g>\n<!-- 10 -->\n<g id=\"node11\" class=\"node\">\n<title>10</title>\n<path fill=\"#8139e5\" stroke=\"#000000\" d=\"M267.5,-179.5C267.5,-179.5 172.5,-179.5 172.5,-179.5 166.5,-179.5 160.5,-173.5 160.5,-167.5 160.5,-167.5 160.5,-123.5 160.5,-123.5 160.5,-117.5 166.5,-111.5 172.5,-111.5 172.5,-111.5 267.5,-111.5 267.5,-111.5 273.5,-111.5 279.5,-117.5 279.5,-123.5 279.5,-123.5 279.5,-167.5 279.5,-167.5 279.5,-173.5 273.5,-179.5 267.5,-179.5\"/>\n<text text-anchor=\"start\" x=\"190.5\" y=\"-164.3\" font-family=\"Helvetica,sans-Serif\" font-size=\"14.00\" fill=\"#000000\">gini = 0.0</text>\n<text text-anchor=\"start\" x=\"180.5\" y=\"-149.3\" font-family=\"Helvetica,sans-Serif\" font-size=\"14.00\" fill=\"#000000\">samples = 3</text>\n<text text-anchor=\"start\" x=\"170.5\" y=\"-134.3\" font-family=\"Helvetica,sans-Serif\" font-size=\"14.00\" fill=\"#000000\">value = [0, 0, 3]</text>\n<text text-anchor=\"start\" x=\"168.5\" y=\"-119.3\" font-family=\"Helvetica,sans-Serif\" font-size=\"14.00\" fill=\"#000000\">class = virginica</text>\n</g>\n<!-- 9&#45;&gt;10 -->\n<g id=\"edge10\" class=\"edge\">\n<title>9&#45;&gt;10</title>\n<path fill=\"none\" stroke=\"#000000\" d=\"M321.4388,-222.8796C305.6516,-210.8368 288.4521,-197.7167 272.7759,-185.7586\"/>\n<polygon fill=\"#000000\" stroke=\"#000000\" points=\"274.8063,-182.9053 264.7327,-179.623 270.5608,-188.4709 274.8063,-182.9053\"/>\n</g>\n<!-- 11 -->\n<g id=\"node12\" class=\"node\">\n<title>11</title>\n<path fill=\"#9cf2c0\" stroke=\"#000000\" d=\"M452.5,-187C452.5,-187 309.5,-187 309.5,-187 303.5,-187 297.5,-181 297.5,-175 297.5,-175 297.5,-116 297.5,-116 297.5,-110 303.5,-104 309.5,-104 309.5,-104 452.5,-104 452.5,-104 458.5,-104 464.5,-110 464.5,-116 464.5,-116 464.5,-175 464.5,-175 464.5,-181 458.5,-187 452.5,-187\"/>\n<text text-anchor=\"start\" x=\"305.5\" y=\"-171.8\" font-family=\"Helvetica,sans-Serif\" font-size=\"14.00\" fill=\"#000000\">petal length (cm) ≤ 5.45</text>\n<text text-anchor=\"start\" x=\"347.5\" y=\"-156.8\" font-family=\"Helvetica,sans-Serif\" font-size=\"14.00\" fill=\"#000000\">gini = 0.44</text>\n<text text-anchor=\"start\" x=\"341.5\" y=\"-141.8\" font-family=\"Helvetica,sans-Serif\" font-size=\"14.00\" fill=\"#000000\">samples = 3</text>\n<text text-anchor=\"start\" x=\"331.5\" y=\"-126.8\" font-family=\"Helvetica,sans-Serif\" font-size=\"14.00\" fill=\"#000000\">value = [0, 2, 1]</text>\n<text text-anchor=\"start\" x=\"325\" y=\"-111.8\" font-family=\"Helvetica,sans-Serif\" font-size=\"14.00\" fill=\"#000000\">class = versicolor</text>\n</g>\n<!-- 9&#45;&gt;11 -->\n<g id=\"edge11\" class=\"edge\">\n<title>9&#45;&gt;11</title>\n<path fill=\"none\" stroke=\"#000000\" d=\"M377.7488,-222.8796C378.0931,-214.6838 378.4584,-205.9891 378.8151,-197.5013\"/>\n<polygon fill=\"#000000\" stroke=\"#000000\" points=\"382.3208,-197.4362 379.2438,-187.2981 375.327,-197.1423 382.3208,-197.4362\"/>\n</g>\n<!-- 12 -->\n<g id=\"node13\" class=\"node\">\n<title>12</title>\n<path fill=\"#39e581\" stroke=\"#000000\" d=\"M362,-68C362,-68 258,-68 258,-68 252,-68 246,-62 246,-56 246,-56 246,-12 246,-12 246,-6 252,0 258,0 258,0 362,0 362,0 368,0 374,-6 374,-12 374,-12 374,-56 374,-56 374,-62 368,-68 362,-68\"/>\n<text text-anchor=\"start\" x=\"280.5\" y=\"-52.8\" font-family=\"Helvetica,sans-Serif\" font-size=\"14.00\" fill=\"#000000\">gini = 0.0</text>\n<text text-anchor=\"start\" x=\"270.5\" y=\"-37.8\" font-family=\"Helvetica,sans-Serif\" font-size=\"14.00\" fill=\"#000000\">samples = 2</text>\n<text text-anchor=\"start\" x=\"260.5\" y=\"-22.8\" font-family=\"Helvetica,sans-Serif\" font-size=\"14.00\" fill=\"#000000\">value = [0, 2, 0]</text>\n<text text-anchor=\"start\" x=\"254\" y=\"-7.8\" font-family=\"Helvetica,sans-Serif\" font-size=\"14.00\" fill=\"#000000\">class = versicolor</text>\n</g>\n<!-- 11&#45;&gt;12 -->\n<g id=\"edge12\" class=\"edge\">\n<title>11&#45;&gt;12</title>\n<path fill=\"none\" stroke=\"#000000\" d=\"M354.5622,-103.9815C348.944,-95.1585 343.0012,-85.8258 337.3497,-76.9506\"/>\n<polygon fill=\"#000000\" stroke=\"#000000\" points=\"340.1416,-74.8188 331.8181,-68.2637 334.2371,-78.5787 340.1416,-74.8188\"/>\n</g>\n<!-- 13 -->\n<g id=\"node14\" class=\"node\">\n<title>13</title>\n<path fill=\"#8139e5\" stroke=\"#000000\" d=\"M499.5,-68C499.5,-68 404.5,-68 404.5,-68 398.5,-68 392.5,-62 392.5,-56 392.5,-56 392.5,-12 392.5,-12 392.5,-6 398.5,0 404.5,0 404.5,0 499.5,0 499.5,0 505.5,0 511.5,-6 511.5,-12 511.5,-12 511.5,-56 511.5,-56 511.5,-62 505.5,-68 499.5,-68\"/>\n<text text-anchor=\"start\" x=\"422.5\" y=\"-52.8\" font-family=\"Helvetica,sans-Serif\" font-size=\"14.00\" fill=\"#000000\">gini = 0.0</text>\n<text text-anchor=\"start\" x=\"412.5\" y=\"-37.8\" font-family=\"Helvetica,sans-Serif\" font-size=\"14.00\" fill=\"#000000\">samples = 1</text>\n<text text-anchor=\"start\" x=\"402.5\" y=\"-22.8\" font-family=\"Helvetica,sans-Serif\" font-size=\"14.00\" fill=\"#000000\">value = [0, 0, 1]</text>\n<text text-anchor=\"start\" x=\"400.5\" y=\"-7.8\" font-family=\"Helvetica,sans-Serif\" font-size=\"14.00\" fill=\"#000000\">class = virginica</text>\n</g>\n<!-- 11&#45;&gt;13 -->\n<g id=\"edge13\" class=\"edge\">\n<title>11&#45;&gt;13</title>\n<path fill=\"none\" stroke=\"#000000\" d=\"M407.4378,-103.9815C413.056,-95.1585 418.9988,-85.8258 424.6503,-76.9506\"/>\n<polygon fill=\"#000000\" stroke=\"#000000\" points=\"427.7629,-78.5787 430.1819,-68.2637 421.8584,-74.8188 427.7629,-78.5787\"/>\n</g>\n<!-- 15 -->\n<g id=\"node16\" class=\"node\">\n<title>15</title>\n<path fill=\"#c09cf2\" stroke=\"#000000\" d=\"M634.5,-306C634.5,-306 487.5,-306 487.5,-306 481.5,-306 475.5,-300 475.5,-294 475.5,-294 475.5,-235 475.5,-235 475.5,-229 481.5,-223 487.5,-223 487.5,-223 634.5,-223 634.5,-223 640.5,-223 646.5,-229 646.5,-235 646.5,-235 646.5,-294 646.5,-294 646.5,-300 640.5,-306 634.5,-306\"/>\n<text text-anchor=\"start\" x=\"483.5\" y=\"-290.8\" font-family=\"Helvetica,sans-Serif\" font-size=\"14.00\" fill=\"#000000\">sepal length (cm) ≤ 5.95</text>\n<text text-anchor=\"start\" x=\"527.5\" y=\"-275.8\" font-family=\"Helvetica,sans-Serif\" font-size=\"14.00\" fill=\"#000000\">gini = 0.44</text>\n<text text-anchor=\"start\" x=\"521.5\" y=\"-260.8\" font-family=\"Helvetica,sans-Serif\" font-size=\"14.00\" fill=\"#000000\">samples = 3</text>\n<text text-anchor=\"start\" x=\"511.5\" y=\"-245.8\" font-family=\"Helvetica,sans-Serif\" font-size=\"14.00\" fill=\"#000000\">value = [0, 1, 2]</text>\n<text text-anchor=\"start\" x=\"509.5\" y=\"-230.8\" font-family=\"Helvetica,sans-Serif\" font-size=\"14.00\" fill=\"#000000\">class = virginica</text>\n</g>\n<!-- 14&#45;&gt;15 -->\n<g id=\"edge15\" class=\"edge\">\n<title>14&#45;&gt;15</title>\n<path fill=\"none\" stroke=\"#000000\" d=\"M561,-341.8796C561,-333.6838 561,-324.9891 561,-316.5013\"/>\n<polygon fill=\"#000000\" stroke=\"#000000\" points=\"564.5001,-316.298 561,-306.2981 557.5001,-316.2981 564.5001,-316.298\"/>\n</g>\n<!-- 18 -->\n<g id=\"node19\" class=\"node\">\n<title>18</title>\n<path fill=\"#8139e5\" stroke=\"#000000\" d=\"M775.5,-298.5C775.5,-298.5 676.5,-298.5 676.5,-298.5 670.5,-298.5 664.5,-292.5 664.5,-286.5 664.5,-286.5 664.5,-242.5 664.5,-242.5 664.5,-236.5 670.5,-230.5 676.5,-230.5 676.5,-230.5 775.5,-230.5 775.5,-230.5 781.5,-230.5 787.5,-236.5 787.5,-242.5 787.5,-242.5 787.5,-286.5 787.5,-286.5 787.5,-292.5 781.5,-298.5 775.5,-298.5\"/>\n<text text-anchor=\"start\" x=\"696.5\" y=\"-283.3\" font-family=\"Helvetica,sans-Serif\" font-size=\"14.00\" fill=\"#000000\">gini = 0.0</text>\n<text text-anchor=\"start\" x=\"682\" y=\"-268.3\" font-family=\"Helvetica,sans-Serif\" font-size=\"14.00\" fill=\"#000000\">samples = 31</text>\n<text text-anchor=\"start\" x=\"672.5\" y=\"-253.3\" font-family=\"Helvetica,sans-Serif\" font-size=\"14.00\" fill=\"#000000\">value = [0, 0, 31]</text>\n<text text-anchor=\"start\" x=\"674.5\" y=\"-238.3\" font-family=\"Helvetica,sans-Serif\" font-size=\"14.00\" fill=\"#000000\">class = virginica</text>\n</g>\n<!-- 14&#45;&gt;18 -->\n<g id=\"edge18\" class=\"edge\">\n<title>14&#45;&gt;18</title>\n<path fill=\"none\" stroke=\"#000000\" d=\"M618.709,-341.8796C635.407,-329.8368 653.5987,-316.7167 670.1793,-304.7586\"/>\n<polygon fill=\"#000000\" stroke=\"#000000\" points=\"672.6232,-307.3113 678.6865,-298.623 668.5285,-301.6339 672.6232,-307.3113\"/>\n</g>\n<!-- 16 -->\n<g id=\"node17\" class=\"node\">\n<title>16</title>\n<path fill=\"#39e581\" stroke=\"#000000\" d=\"M608,-179.5C608,-179.5 504,-179.5 504,-179.5 498,-179.5 492,-173.5 492,-167.5 492,-167.5 492,-123.5 492,-123.5 492,-117.5 498,-111.5 504,-111.5 504,-111.5 608,-111.5 608,-111.5 614,-111.5 620,-117.5 620,-123.5 620,-123.5 620,-167.5 620,-167.5 620,-173.5 614,-179.5 608,-179.5\"/>\n<text text-anchor=\"start\" x=\"526.5\" y=\"-164.3\" font-family=\"Helvetica,sans-Serif\" font-size=\"14.00\" fill=\"#000000\">gini = 0.0</text>\n<text text-anchor=\"start\" x=\"516.5\" y=\"-149.3\" font-family=\"Helvetica,sans-Serif\" font-size=\"14.00\" fill=\"#000000\">samples = 1</text>\n<text text-anchor=\"start\" x=\"506.5\" y=\"-134.3\" font-family=\"Helvetica,sans-Serif\" font-size=\"14.00\" fill=\"#000000\">value = [0, 1, 0]</text>\n<text text-anchor=\"start\" x=\"500\" y=\"-119.3\" font-family=\"Helvetica,sans-Serif\" font-size=\"14.00\" fill=\"#000000\">class = versicolor</text>\n</g>\n<!-- 15&#45;&gt;16 -->\n<g id=\"edge16\" class=\"edge\">\n<title>15&#45;&gt;16</title>\n<path fill=\"none\" stroke=\"#000000\" d=\"M559.2512,-222.8796C558.8031,-212.2134 558.3194,-200.7021 557.8656,-189.9015\"/>\n<polygon fill=\"#000000\" stroke=\"#000000\" points=\"561.3586,-189.6592 557.4418,-179.8149 554.3648,-189.9531 561.3586,-189.6592\"/>\n</g>\n<!-- 17 -->\n<g id=\"node18\" class=\"node\">\n<title>17</title>\n<path fill=\"#8139e5\" stroke=\"#000000\" d=\"M745.5,-179.5C745.5,-179.5 650.5,-179.5 650.5,-179.5 644.5,-179.5 638.5,-173.5 638.5,-167.5 638.5,-167.5 638.5,-123.5 638.5,-123.5 638.5,-117.5 644.5,-111.5 650.5,-111.5 650.5,-111.5 745.5,-111.5 745.5,-111.5 751.5,-111.5 757.5,-117.5 757.5,-123.5 757.5,-123.5 757.5,-167.5 757.5,-167.5 757.5,-173.5 751.5,-179.5 745.5,-179.5\"/>\n<text text-anchor=\"start\" x=\"668.5\" y=\"-164.3\" font-family=\"Helvetica,sans-Serif\" font-size=\"14.00\" fill=\"#000000\">gini = 0.0</text>\n<text text-anchor=\"start\" x=\"658.5\" y=\"-149.3\" font-family=\"Helvetica,sans-Serif\" font-size=\"14.00\" fill=\"#000000\">samples = 2</text>\n<text text-anchor=\"start\" x=\"648.5\" y=\"-134.3\" font-family=\"Helvetica,sans-Serif\" font-size=\"14.00\" fill=\"#000000\">value = [0, 0, 2]</text>\n<text text-anchor=\"start\" x=\"646.5\" y=\"-119.3\" font-family=\"Helvetica,sans-Serif\" font-size=\"14.00\" fill=\"#000000\">class = virginica</text>\n</g>\n<!-- 15&#45;&gt;17 -->\n<g id=\"edge17\" class=\"edge\">\n<title>15&#45;&gt;17</title>\n<path fill=\"none\" stroke=\"#000000\" d=\"M608.916,-222.8796C622.4615,-211.1138 637.1908,-198.3197 650.6998,-186.5855\"/>\n<polygon fill=\"#000000\" stroke=\"#000000\" points=\"653.2401,-189.015 658.4946,-179.8149 648.6497,-183.7303 653.2401,-189.015\"/>\n</g>\n</g>\n</svg>\n"
          },
          "metadata": {
            "tags": []
          },
          "execution_count": 8
        }
      ]
    },
    {
      "cell_type": "markdown",
      "metadata": {
        "id": "JTKMHY8QbXjU",
        "colab_type": "text"
      },
      "source": [
        "# Neural Networks"
      ]
    },
    {
      "cell_type": "markdown",
      "metadata": {
        "id": "RLit0xb0cEMa",
        "colab_type": "text"
      },
      "source": [
        "Setup"
      ]
    },
    {
      "cell_type": "code",
      "metadata": {
        "id": "75oLeGrDcFcn",
        "colab_type": "code",
        "colab": {
          "base_uri": "https://localhost:8080/",
          "height": 50
        },
        "outputId": "b6127d44-542f-49a8-fa97-ea0473470714"
      },
      "source": [
        "import  matplotlib.pyplot  as plt\n",
        "from sklearn  import preprocessing\n",
        "from keras.utils import to_categorical\n",
        "\n",
        "%tensorflow_version  2.x\n",
        "import  tensorflow  as  tf\n",
        "print( \"tf.__version__:\", tf.__version__ )\n",
        "\n",
        "from  tensorflow.keras  import Model\n",
        "from  tensorflow.keras  import Sequential\n",
        "from  tensorflow.keras.layers  import Dense\n",
        "from  tensorflow.keras.layers  import Dropout\n",
        "\n",
        "%matplotlib inline\n"
      ],
      "execution_count": 9,
      "outputs": [
        {
          "output_type": "stream",
          "text": [
            "tf.__version__: 2.1.0\n"
          ],
          "name": "stdout"
        },
        {
          "output_type": "stream",
          "text": [
            "Using TensorFlow backend.\n"
          ],
          "name": "stderr"
        }
      ]
    },
    {
      "cell_type": "markdown",
      "metadata": {
        "id": "hhRdnXoKbm3E",
        "colab_type": "text"
      },
      "source": [
        "### Classify Iris"
      ]
    },
    {
      "cell_type": "markdown",
      "metadata": {
        "id": "4vPOuvqIj269",
        "colab_type": "text"
      },
      "source": [
        "Build Model"
      ]
    },
    {
      "cell_type": "code",
      "metadata": {
        "id": "Y-MfAaYabxNK",
        "colab_type": "code",
        "colab": {
          "base_uri": "https://localhost:8080/",
          "height": 514
        },
        "outputId": "e1db0344-6436-48c0-f164-6488e61a635e"
      },
      "source": [
        "X = preprocessing.scale( iris_dataset.data )\n",
        "y = to_categorical( iris_dataset.target )\n",
        "X_train, X_test, y_train, y_test = train_test_split(\n",
        "  X, y, test_size=0.25, random_state=42\n",
        ")\n",
        "\n",
        "model = Sequential(\n",
        "    [\n",
        "     Dense( 10, input_dim=4, activation='relu' )\n",
        "     , Dense( 3, activation='softmax' )\n",
        "    ]\n",
        ")\n",
        "\n",
        "model.compile(\n",
        "    optimizer = 'adam'\n",
        "    , loss = 'categorical_crossentropy'\n",
        "    , metrics = [ 'accuracy' ]\n",
        ")\n",
        "\n",
        "model.summary()\n",
        "tf.keras.utils.plot_model( model, 'skip_connection.png', show_shapes=True )"
      ],
      "execution_count": 10,
      "outputs": [
        {
          "output_type": "stream",
          "text": [
            "Model: \"sequential\"\n",
            "_________________________________________________________________\n",
            "Layer (type)                 Output Shape              Param #   \n",
            "=================================================================\n",
            "dense (Dense)                (None, 10)                50        \n",
            "_________________________________________________________________\n",
            "dense_1 (Dense)              (None, 3)                 33        \n",
            "=================================================================\n",
            "Total params: 83\n",
            "Trainable params: 83\n",
            "Non-trainable params: 0\n",
            "_________________________________________________________________\n"
          ],
          "name": "stdout"
        },
        {
          "output_type": "execute_result",
          "data": {
            "image/png": "[encoded data removed]",
            "text/plain": [
              "<IPython.core.display.Image object>"
            ]
          },
          "metadata": {
            "tags": []
          },
          "execution_count": 10
        }
      ]
    },
    {
      "cell_type": "markdown",
      "metadata": {
        "id": "ttLfBQndj9f7",
        "colab_type": "text"
      },
      "source": [
        "Train Model"
      ]
    },
    {
      "cell_type": "code",
      "metadata": {
        "id": "trM94O2SkANM",
        "colab_type": "code",
        "colab": {
          "base_uri": "https://localhost:8080/",
          "height": 1000
        },
        "outputId": "d5e2ce4c-e3b2-4a5b-a49e-61f652bf7ac0"
      },
      "source": [
        "history = model.fit( X_train, y_train, validation_data=(X_test, y_test), epochs=200 )\n"
      ],
      "execution_count": 11,
      "outputs": [
        {
          "output_type": "stream",
          "text": [
            "Train on 112 samples, validate on 38 samples\n",
            "Epoch 1/200\n",
            "112/112 [==============================] - 1s 6ms/sample - loss: 0.9302 - accuracy: 0.4375 - val_loss: 0.8778 - val_accuracy: 0.5000\n",
            "Epoch 2/200\n",
            "112/112 [==============================] - 0s 197us/sample - loss: 0.9107 - accuracy: 0.4911 - val_loss: 0.8572 - val_accuracy: 0.5526\n",
            "Epoch 3/200\n",
            "112/112 [==============================] - 0s 203us/sample - loss: 0.8920 - accuracy: 0.5536 - val_loss: 0.8381 - val_accuracy: 0.6053\n",
            "Epoch 4/200\n",
            "112/112 [==============================] - 0s 187us/sample - loss: 0.8747 - accuracy: 0.5893 - val_loss: 0.8196 - val_accuracy: 0.6579\n",
            "Epoch 5/200\n",
            "112/112 [==============================] - 0s 258us/sample - loss: 0.8576 - accuracy: 0.6071 - val_loss: 0.8018 - val_accuracy: 0.6842\n",
            "Epoch 6/200\n",
            "112/112 [==============================] - 0s 193us/sample - loss: 0.8407 - accuracy: 0.6339 - val_loss: 0.7848 - val_accuracy: 0.6842\n",
            "Epoch 7/200\n",
            "112/112 [==============================] - 0s 265us/sample - loss: 0.8250 - accuracy: 0.6518 - val_loss: 0.7684 - val_accuracy: 0.6842\n",
            "Epoch 8/200\n",
            "112/112 [==============================] - 0s 236us/sample - loss: 0.8094 - accuracy: 0.6518 - val_loss: 0.7527 - val_accuracy: 0.7105\n",
            "Epoch 9/200\n",
            "112/112 [==============================] - 0s 192us/sample - loss: 0.7950 - accuracy: 0.6518 - val_loss: 0.7373 - val_accuracy: 0.7105\n",
            "Epoch 10/200\n",
            "112/112 [==============================] - 0s 224us/sample - loss: 0.7800 - accuracy: 0.6607 - val_loss: 0.7228 - val_accuracy: 0.7105\n",
            "Epoch 11/200\n",
            "112/112 [==============================] - 0s 207us/sample - loss: 0.7659 - accuracy: 0.6607 - val_loss: 0.7086 - val_accuracy: 0.7105\n",
            "Epoch 12/200\n",
            "112/112 [==============================] - 0s 228us/sample - loss: 0.7530 - accuracy: 0.6607 - val_loss: 0.6947 - val_accuracy: 0.7368\n",
            "Epoch 13/200\n",
            "112/112 [==============================] - 0s 205us/sample - loss: 0.7392 - accuracy: 0.6786 - val_loss: 0.6815 - val_accuracy: 0.7632\n",
            "Epoch 14/200\n",
            "112/112 [==============================] - 0s 186us/sample - loss: 0.7265 - accuracy: 0.6875 - val_loss: 0.6686 - val_accuracy: 0.7632\n",
            "Epoch 15/200\n",
            "112/112 [==============================] - 0s 190us/sample - loss: 0.7141 - accuracy: 0.7054 - val_loss: 0.6561 - val_accuracy: 0.7895\n",
            "Epoch 16/200\n",
            "112/112 [==============================] - 0s 243us/sample - loss: 0.7021 - accuracy: 0.7411 - val_loss: 0.6437 - val_accuracy: 0.7895\n",
            "Epoch 17/200\n",
            "112/112 [==============================] - 0s 245us/sample - loss: 0.6903 - accuracy: 0.7411 - val_loss: 0.6319 - val_accuracy: 0.7895\n",
            "Epoch 18/200\n",
            "112/112 [==============================] - 0s 264us/sample - loss: 0.6789 - accuracy: 0.7500 - val_loss: 0.6201 - val_accuracy: 0.7895\n",
            "Epoch 19/200\n",
            "112/112 [==============================] - 0s 195us/sample - loss: 0.6676 - accuracy: 0.7589 - val_loss: 0.6087 - val_accuracy: 0.8158\n",
            "Epoch 20/200\n",
            "112/112 [==============================] - 0s 269us/sample - loss: 0.6567 - accuracy: 0.7589 - val_loss: 0.5977 - val_accuracy: 0.8158\n",
            "Epoch 21/200\n",
            "112/112 [==============================] - 0s 253us/sample - loss: 0.6459 - accuracy: 0.7857 - val_loss: 0.5868 - val_accuracy: 0.8421\n",
            "Epoch 22/200\n",
            "112/112 [==============================] - 0s 240us/sample - loss: 0.6354 - accuracy: 0.7857 - val_loss: 0.5762 - val_accuracy: 0.8421\n",
            "Epoch 23/200\n",
            "112/112 [==============================] - 0s 224us/sample - loss: 0.6254 - accuracy: 0.7857 - val_loss: 0.5657 - val_accuracy: 0.8421\n",
            "Epoch 24/200\n",
            "112/112 [==============================] - 0s 226us/sample - loss: 0.6154 - accuracy: 0.7857 - val_loss: 0.5556 - val_accuracy: 0.8421\n",
            "Epoch 25/200\n",
            "112/112 [==============================] - 0s 203us/sample - loss: 0.6056 - accuracy: 0.8036 - val_loss: 0.5457 - val_accuracy: 0.8421\n",
            "Epoch 26/200\n",
            "112/112 [==============================] - 0s 217us/sample - loss: 0.5965 - accuracy: 0.8214 - val_loss: 0.5359 - val_accuracy: 0.8421\n",
            "Epoch 27/200\n",
            "112/112 [==============================] - 0s 228us/sample - loss: 0.5868 - accuracy: 0.8214 - val_loss: 0.5264 - val_accuracy: 0.8421\n",
            "Epoch 28/200\n",
            "112/112 [==============================] - 0s 215us/sample - loss: 0.5779 - accuracy: 0.8304 - val_loss: 0.5170 - val_accuracy: 0.8421\n",
            "Epoch 29/200\n",
            "112/112 [==============================] - 0s 248us/sample - loss: 0.5690 - accuracy: 0.8304 - val_loss: 0.5078 - val_accuracy: 0.8421\n",
            "Epoch 30/200\n",
            "112/112 [==============================] - 0s 187us/sample - loss: 0.5603 - accuracy: 0.8304 - val_loss: 0.4986 - val_accuracy: 0.8421\n",
            "Epoch 31/200\n",
            "112/112 [==============================] - 0s 213us/sample - loss: 0.5516 - accuracy: 0.8393 - val_loss: 0.4897 - val_accuracy: 0.8421\n",
            "Epoch 32/200\n",
            "112/112 [==============================] - 0s 202us/sample - loss: 0.5430 - accuracy: 0.8393 - val_loss: 0.4810 - val_accuracy: 0.8421\n",
            "Epoch 33/200\n",
            "112/112 [==============================] - 0s 210us/sample - loss: 0.5349 - accuracy: 0.8482 - val_loss: 0.4723 - val_accuracy: 0.8421\n",
            "Epoch 34/200\n",
            "112/112 [==============================] - 0s 191us/sample - loss: 0.5267 - accuracy: 0.8571 - val_loss: 0.4639 - val_accuracy: 0.8421\n",
            "Epoch 35/200\n",
            "112/112 [==============================] - 0s 191us/sample - loss: 0.5187 - accuracy: 0.8571 - val_loss: 0.4560 - val_accuracy: 0.8421\n",
            "Epoch 36/200\n",
            "112/112 [==============================] - 0s 199us/sample - loss: 0.5107 - accuracy: 0.8571 - val_loss: 0.4484 - val_accuracy: 0.8421\n",
            "Epoch 37/200\n",
            "112/112 [==============================] - 0s 214us/sample - loss: 0.5035 - accuracy: 0.8571 - val_loss: 0.4408 - val_accuracy: 0.8421\n",
            "Epoch 38/200\n",
            "112/112 [==============================] - 0s 223us/sample - loss: 0.4960 - accuracy: 0.8661 - val_loss: 0.4336 - val_accuracy: 0.8421\n",
            "Epoch 39/200\n",
            "112/112 [==============================] - 0s 238us/sample - loss: 0.4889 - accuracy: 0.8661 - val_loss: 0.4266 - val_accuracy: 0.8421\n",
            "Epoch 40/200\n",
            "112/112 [==============================] - 0s 246us/sample - loss: 0.4817 - accuracy: 0.8661 - val_loss: 0.4195 - val_accuracy: 0.8421\n",
            "Epoch 41/200\n",
            "112/112 [==============================] - 0s 247us/sample - loss: 0.4747 - accuracy: 0.8571 - val_loss: 0.4126 - val_accuracy: 0.8421\n",
            "Epoch 42/200\n",
            "112/112 [==============================] - 0s 229us/sample - loss: 0.4680 - accuracy: 0.8571 - val_loss: 0.4057 - val_accuracy: 0.8684\n",
            "Epoch 43/200\n",
            "112/112 [==============================] - 0s 226us/sample - loss: 0.4611 - accuracy: 0.8571 - val_loss: 0.3991 - val_accuracy: 0.8684\n",
            "Epoch 44/200\n",
            "112/112 [==============================] - 0s 192us/sample - loss: 0.4545 - accuracy: 0.8571 - val_loss: 0.3924 - val_accuracy: 0.8684\n",
            "Epoch 45/200\n",
            "112/112 [==============================] - 0s 213us/sample - loss: 0.4479 - accuracy: 0.8482 - val_loss: 0.3860 - val_accuracy: 0.8684\n",
            "Epoch 46/200\n",
            "112/112 [==============================] - 0s 199us/sample - loss: 0.4415 - accuracy: 0.8482 - val_loss: 0.3798 - val_accuracy: 0.8684\n",
            "Epoch 47/200\n",
            "112/112 [==============================] - 0s 198us/sample - loss: 0.4352 - accuracy: 0.8482 - val_loss: 0.3736 - val_accuracy: 0.8684\n",
            "Epoch 48/200\n",
            "112/112 [==============================] - 0s 191us/sample - loss: 0.4294 - accuracy: 0.8482 - val_loss: 0.3675 - val_accuracy: 0.8684\n",
            "Epoch 49/200\n",
            "112/112 [==============================] - 0s 193us/sample - loss: 0.4230 - accuracy: 0.8482 - val_loss: 0.3617 - val_accuracy: 0.8684\n",
            "Epoch 50/200\n",
            "112/112 [==============================] - 0s 238us/sample - loss: 0.4171 - accuracy: 0.8482 - val_loss: 0.3560 - val_accuracy: 0.8684\n",
            "Epoch 51/200\n",
            "112/112 [==============================] - 0s 210us/sample - loss: 0.4114 - accuracy: 0.8482 - val_loss: 0.3504 - val_accuracy: 0.8684\n",
            "Epoch 52/200\n",
            "112/112 [==============================] - 0s 205us/sample - loss: 0.4056 - accuracy: 0.8482 - val_loss: 0.3450 - val_accuracy: 0.8684\n",
            "Epoch 53/200\n",
            "112/112 [==============================] - 0s 213us/sample - loss: 0.4000 - accuracy: 0.8482 - val_loss: 0.3395 - val_accuracy: 0.8684\n",
            "Epoch 54/200\n",
            "112/112 [==============================] - 0s 260us/sample - loss: 0.3948 - accuracy: 0.8482 - val_loss: 0.3341 - val_accuracy: 0.8684\n",
            "Epoch 55/200\n",
            "112/112 [==============================] - 0s 205us/sample - loss: 0.3894 - accuracy: 0.8482 - val_loss: 0.3291 - val_accuracy: 0.8684\n",
            "Epoch 56/200\n",
            "112/112 [==============================] - 0s 179us/sample - loss: 0.3844 - accuracy: 0.8482 - val_loss: 0.3240 - val_accuracy: 0.8947\n",
            "Epoch 57/200\n",
            "112/112 [==============================] - 0s 294us/sample - loss: 0.3794 - accuracy: 0.8571 - val_loss: 0.3191 - val_accuracy: 0.8947\n",
            "Epoch 58/200\n",
            "112/112 [==============================] - 0s 217us/sample - loss: 0.3748 - accuracy: 0.8750 - val_loss: 0.3144 - val_accuracy: 0.8947\n",
            "Epoch 59/200\n",
            "112/112 [==============================] - 0s 197us/sample - loss: 0.3701 - accuracy: 0.8750 - val_loss: 0.3096 - val_accuracy: 0.8947\n",
            "Epoch 60/200\n",
            "112/112 [==============================] - 0s 252us/sample - loss: 0.3655 - accuracy: 0.8750 - val_loss: 0.3051 - val_accuracy: 0.8947\n",
            "Epoch 61/200\n",
            "112/112 [==============================] - 0s 201us/sample - loss: 0.3611 - accuracy: 0.8750 - val_loss: 0.3008 - val_accuracy: 0.8947\n",
            "Epoch 62/200\n",
            "112/112 [==============================] - 0s 191us/sample - loss: 0.3565 - accuracy: 0.8750 - val_loss: 0.2966 - val_accuracy: 0.8947\n",
            "Epoch 63/200\n",
            "112/112 [==============================] - 0s 188us/sample - loss: 0.3525 - accuracy: 0.8750 - val_loss: 0.2924 - val_accuracy: 0.9211\n",
            "Epoch 64/200\n",
            "112/112 [==============================] - 0s 190us/sample - loss: 0.3483 - accuracy: 0.8750 - val_loss: 0.2884 - val_accuracy: 0.9211\n",
            "Epoch 65/200\n",
            "112/112 [==============================] - 0s 184us/sample - loss: 0.3444 - accuracy: 0.8750 - val_loss: 0.2846 - val_accuracy: 0.9211\n",
            "Epoch 66/200\n",
            "112/112 [==============================] - 0s 224us/sample - loss: 0.3404 - accuracy: 0.8750 - val_loss: 0.2809 - val_accuracy: 0.9211\n",
            "Epoch 67/200\n",
            "112/112 [==============================] - 0s 215us/sample - loss: 0.3367 - accuracy: 0.8750 - val_loss: 0.2772 - val_accuracy: 0.9211\n",
            "Epoch 68/200\n",
            "112/112 [==============================] - 0s 196us/sample - loss: 0.3329 - accuracy: 0.8750 - val_loss: 0.2738 - val_accuracy: 0.9211\n",
            "Epoch 69/200\n",
            "112/112 [==============================] - 0s 211us/sample - loss: 0.3293 - accuracy: 0.8750 - val_loss: 0.2703 - val_accuracy: 0.9211\n",
            "Epoch 70/200\n",
            "112/112 [==============================] - 0s 231us/sample - loss: 0.3257 - accuracy: 0.8750 - val_loss: 0.2669 - val_accuracy: 0.9211\n",
            "Epoch 71/200\n",
            "112/112 [==============================] - 0s 187us/sample - loss: 0.3222 - accuracy: 0.8750 - val_loss: 0.2637 - val_accuracy: 0.9211\n",
            "Epoch 72/200\n",
            "112/112 [==============================] - 0s 221us/sample - loss: 0.3187 - accuracy: 0.8929 - val_loss: 0.2603 - val_accuracy: 0.9211\n",
            "Epoch 73/200\n",
            "112/112 [==============================] - 0s 212us/sample - loss: 0.3155 - accuracy: 0.8929 - val_loss: 0.2570 - val_accuracy: 0.9211\n",
            "Epoch 74/200\n",
            "112/112 [==============================] - 0s 237us/sample - loss: 0.3121 - accuracy: 0.9018 - val_loss: 0.2538 - val_accuracy: 0.9211\n",
            "Epoch 75/200\n",
            "112/112 [==============================] - 0s 230us/sample - loss: 0.3087 - accuracy: 0.9018 - val_loss: 0.2507 - val_accuracy: 0.9474\n",
            "Epoch 76/200\n",
            "112/112 [==============================] - 0s 195us/sample - loss: 0.3056 - accuracy: 0.9018 - val_loss: 0.2475 - val_accuracy: 0.9474\n",
            "Epoch 77/200\n",
            "112/112 [==============================] - 0s 195us/sample - loss: 0.3027 - accuracy: 0.9018 - val_loss: 0.2444 - val_accuracy: 0.9474\n",
            "Epoch 78/200\n",
            "112/112 [==============================] - 0s 225us/sample - loss: 0.2996 - accuracy: 0.9018 - val_loss: 0.2415 - val_accuracy: 0.9474\n",
            "Epoch 79/200\n",
            "112/112 [==============================] - 0s 198us/sample - loss: 0.2966 - accuracy: 0.9018 - val_loss: 0.2387 - val_accuracy: 0.9474\n",
            "Epoch 80/200\n",
            "112/112 [==============================] - 0s 205us/sample - loss: 0.2939 - accuracy: 0.9018 - val_loss: 0.2360 - val_accuracy: 0.9474\n",
            "Epoch 81/200\n",
            "112/112 [==============================] - 0s 270us/sample - loss: 0.2911 - accuracy: 0.9018 - val_loss: 0.2333 - val_accuracy: 0.9474\n",
            "Epoch 82/200\n",
            "112/112 [==============================] - 0s 198us/sample - loss: 0.2884 - accuracy: 0.9018 - val_loss: 0.2307 - val_accuracy: 0.9474\n",
            "Epoch 83/200\n",
            "112/112 [==============================] - 0s 244us/sample - loss: 0.2857 - accuracy: 0.9018 - val_loss: 0.2282 - val_accuracy: 0.9474\n",
            "Epoch 84/200\n",
            "112/112 [==============================] - 0s 201us/sample - loss: 0.2833 - accuracy: 0.9018 - val_loss: 0.2256 - val_accuracy: 0.9474\n",
            "Epoch 85/200\n",
            "112/112 [==============================] - 0s 197us/sample - loss: 0.2805 - accuracy: 0.9107 - val_loss: 0.2232 - val_accuracy: 0.9474\n",
            "Epoch 86/200\n",
            "112/112 [==============================] - 0s 198us/sample - loss: 0.2781 - accuracy: 0.9107 - val_loss: 0.2208 - val_accuracy: 0.9474\n",
            "Epoch 87/200\n",
            "112/112 [==============================] - 0s 218us/sample - loss: 0.2757 - accuracy: 0.9107 - val_loss: 0.2185 - val_accuracy: 0.9474\n",
            "Epoch 88/200\n",
            "112/112 [==============================] - 0s 181us/sample - loss: 0.2731 - accuracy: 0.9107 - val_loss: 0.2158 - val_accuracy: 0.9474\n",
            "Epoch 89/200\n",
            "112/112 [==============================] - 0s 216us/sample - loss: 0.2707 - accuracy: 0.9107 - val_loss: 0.2131 - val_accuracy: 0.9474\n",
            "Epoch 90/200\n",
            "112/112 [==============================] - 0s 238us/sample - loss: 0.2683 - accuracy: 0.9196 - val_loss: 0.2107 - val_accuracy: 0.9474\n",
            "Epoch 91/200\n",
            "112/112 [==============================] - 0s 191us/sample - loss: 0.2659 - accuracy: 0.9196 - val_loss: 0.2084 - val_accuracy: 0.9474\n",
            "Epoch 92/200\n",
            "112/112 [==============================] - 0s 237us/sample - loss: 0.2637 - accuracy: 0.9196 - val_loss: 0.2058 - val_accuracy: 0.9474\n",
            "Epoch 93/200\n",
            "112/112 [==============================] - 0s 234us/sample - loss: 0.2613 - accuracy: 0.9196 - val_loss: 0.2035 - val_accuracy: 0.9474\n",
            "Epoch 94/200\n",
            "112/112 [==============================] - 0s 209us/sample - loss: 0.2591 - accuracy: 0.9196 - val_loss: 0.2013 - val_accuracy: 0.9474\n",
            "Epoch 95/200\n",
            "112/112 [==============================] - 0s 217us/sample - loss: 0.2570 - accuracy: 0.9196 - val_loss: 0.1993 - val_accuracy: 0.9474\n",
            "Epoch 96/200\n",
            "112/112 [==============================] - 0s 198us/sample - loss: 0.2549 - accuracy: 0.9196 - val_loss: 0.1974 - val_accuracy: 0.9474\n",
            "Epoch 97/200\n",
            "112/112 [==============================] - 0s 174us/sample - loss: 0.2529 - accuracy: 0.9196 - val_loss: 0.1953 - val_accuracy: 0.9474\n",
            "Epoch 98/200\n",
            "112/112 [==============================] - 0s 191us/sample - loss: 0.2508 - accuracy: 0.9196 - val_loss: 0.1932 - val_accuracy: 0.9474\n",
            "Epoch 99/200\n",
            "112/112 [==============================] - 0s 201us/sample - loss: 0.2490 - accuracy: 0.9196 - val_loss: 0.1909 - val_accuracy: 0.9474\n",
            "Epoch 100/200\n",
            "112/112 [==============================] - 0s 201us/sample - loss: 0.2470 - accuracy: 0.9196 - val_loss: 0.1889 - val_accuracy: 0.9474\n",
            "Epoch 101/200\n",
            "112/112 [==============================] - 0s 188us/sample - loss: 0.2451 - accuracy: 0.9107 - val_loss: 0.1868 - val_accuracy: 0.9474\n",
            "Epoch 102/200\n",
            "112/112 [==============================] - 0s 216us/sample - loss: 0.2432 - accuracy: 0.9107 - val_loss: 0.1849 - val_accuracy: 0.9474\n",
            "Epoch 103/200\n",
            "112/112 [==============================] - 0s 224us/sample - loss: 0.2414 - accuracy: 0.9107 - val_loss: 0.1829 - val_accuracy: 0.9474\n",
            "Epoch 104/200\n",
            "112/112 [==============================] - 0s 224us/sample - loss: 0.2395 - accuracy: 0.9107 - val_loss: 0.1810 - val_accuracy: 0.9474\n",
            "Epoch 105/200\n",
            "112/112 [==============================] - 0s 223us/sample - loss: 0.2377 - accuracy: 0.9107 - val_loss: 0.1792 - val_accuracy: 0.9474\n",
            "Epoch 106/200\n",
            "112/112 [==============================] - 0s 223us/sample - loss: 0.2361 - accuracy: 0.9107 - val_loss: 0.1775 - val_accuracy: 0.9474\n",
            "Epoch 107/200\n",
            "112/112 [==============================] - 0s 224us/sample - loss: 0.2342 - accuracy: 0.9107 - val_loss: 0.1757 - val_accuracy: 0.9474\n",
            "Epoch 108/200\n",
            "112/112 [==============================] - 0s 204us/sample - loss: 0.2325 - accuracy: 0.9107 - val_loss: 0.1740 - val_accuracy: 0.9474\n",
            "Epoch 109/200\n",
            "112/112 [==============================] - 0s 183us/sample - loss: 0.2307 - accuracy: 0.9196 - val_loss: 0.1724 - val_accuracy: 0.9737\n",
            "Epoch 110/200\n",
            "112/112 [==============================] - 0s 223us/sample - loss: 0.2291 - accuracy: 0.9196 - val_loss: 0.1709 - val_accuracy: 0.9737\n",
            "Epoch 111/200\n",
            "112/112 [==============================] - 0s 203us/sample - loss: 0.2274 - accuracy: 0.9196 - val_loss: 0.1692 - val_accuracy: 0.9737\n",
            "Epoch 112/200\n",
            "112/112 [==============================] - 0s 220us/sample - loss: 0.2257 - accuracy: 0.9196 - val_loss: 0.1677 - val_accuracy: 0.9737\n",
            "Epoch 113/200\n",
            "112/112 [==============================] - 0s 244us/sample - loss: 0.2241 - accuracy: 0.9196 - val_loss: 0.1661 - val_accuracy: 0.9737\n",
            "Epoch 114/200\n",
            "112/112 [==============================] - 0s 190us/sample - loss: 0.2225 - accuracy: 0.9196 - val_loss: 0.1645 - val_accuracy: 0.9737\n",
            "Epoch 115/200\n",
            "112/112 [==============================] - 0s 193us/sample - loss: 0.2208 - accuracy: 0.9196 - val_loss: 0.1628 - val_accuracy: 0.9737\n",
            "Epoch 116/200\n",
            "112/112 [==============================] - 0s 210us/sample - loss: 0.2192 - accuracy: 0.9196 - val_loss: 0.1611 - val_accuracy: 0.9737\n",
            "Epoch 117/200\n",
            "112/112 [==============================] - 0s 216us/sample - loss: 0.2176 - accuracy: 0.9286 - val_loss: 0.1596 - val_accuracy: 0.9737\n",
            "Epoch 118/200\n",
            "112/112 [==============================] - 0s 196us/sample - loss: 0.2159 - accuracy: 0.9286 - val_loss: 0.1582 - val_accuracy: 0.9737\n",
            "Epoch 119/200\n",
            "112/112 [==============================] - 0s 218us/sample - loss: 0.2144 - accuracy: 0.9286 - val_loss: 0.1569 - val_accuracy: 0.9737\n",
            "Epoch 120/200\n",
            "112/112 [==============================] - 0s 254us/sample - loss: 0.2128 - accuracy: 0.9375 - val_loss: 0.1553 - val_accuracy: 0.9737\n",
            "Epoch 121/200\n",
            "112/112 [==============================] - 0s 221us/sample - loss: 0.2113 - accuracy: 0.9375 - val_loss: 0.1539 - val_accuracy: 0.9737\n",
            "Epoch 122/200\n",
            "112/112 [==============================] - 0s 203us/sample - loss: 0.2095 - accuracy: 0.9375 - val_loss: 0.1521 - val_accuracy: 0.9737\n",
            "Epoch 123/200\n",
            "112/112 [==============================] - 0s 192us/sample - loss: 0.2080 - accuracy: 0.9375 - val_loss: 0.1503 - val_accuracy: 0.9737\n",
            "Epoch 124/200\n",
            "112/112 [==============================] - 0s 198us/sample - loss: 0.2065 - accuracy: 0.9375 - val_loss: 0.1485 - val_accuracy: 0.9737\n",
            "Epoch 125/200\n",
            "112/112 [==============================] - 0s 203us/sample - loss: 0.2051 - accuracy: 0.9375 - val_loss: 0.1469 - val_accuracy: 0.9737\n",
            "Epoch 126/200\n",
            "112/112 [==============================] - 0s 245us/sample - loss: 0.2039 - accuracy: 0.9375 - val_loss: 0.1456 - val_accuracy: 0.9737\n",
            "Epoch 127/200\n",
            "112/112 [==============================] - 0s 206us/sample - loss: 0.2025 - accuracy: 0.9375 - val_loss: 0.1441 - val_accuracy: 0.9737\n",
            "Epoch 128/200\n",
            "112/112 [==============================] - 0s 190us/sample - loss: 0.2012 - accuracy: 0.9375 - val_loss: 0.1428 - val_accuracy: 0.9737\n",
            "Epoch 129/200\n",
            "112/112 [==============================] - 0s 256us/sample - loss: 0.1999 - accuracy: 0.9375 - val_loss: 0.1415 - val_accuracy: 0.9737\n",
            "Epoch 130/200\n",
            "112/112 [==============================] - 0s 204us/sample - loss: 0.1986 - accuracy: 0.9375 - val_loss: 0.1403 - val_accuracy: 0.9737\n",
            "Epoch 131/200\n",
            "112/112 [==============================] - 0s 178us/sample - loss: 0.1974 - accuracy: 0.9375 - val_loss: 0.1393 - val_accuracy: 0.9737\n",
            "Epoch 132/200\n",
            "112/112 [==============================] - 0s 213us/sample - loss: 0.1961 - accuracy: 0.9375 - val_loss: 0.1381 - val_accuracy: 0.9737\n",
            "Epoch 133/200\n",
            "112/112 [==============================] - 0s 191us/sample - loss: 0.1948 - accuracy: 0.9464 - val_loss: 0.1368 - val_accuracy: 0.9737\n",
            "Epoch 134/200\n",
            "112/112 [==============================] - 0s 183us/sample - loss: 0.1937 - accuracy: 0.9464 - val_loss: 0.1356 - val_accuracy: 0.9737\n",
            "Epoch 135/200\n",
            "112/112 [==============================] - 0s 235us/sample - loss: 0.1925 - accuracy: 0.9464 - val_loss: 0.1344 - val_accuracy: 0.9737\n",
            "Epoch 136/200\n",
            "112/112 [==============================] - 0s 179us/sample - loss: 0.1913 - accuracy: 0.9464 - val_loss: 0.1332 - val_accuracy: 0.9737\n",
            "Epoch 137/200\n",
            "112/112 [==============================] - 0s 186us/sample - loss: 0.1902 - accuracy: 0.9464 - val_loss: 0.1321 - val_accuracy: 0.9737\n",
            "Epoch 138/200\n",
            "112/112 [==============================] - 0s 198us/sample - loss: 0.1891 - accuracy: 0.9464 - val_loss: 0.1309 - val_accuracy: 0.9737\n",
            "Epoch 139/200\n",
            "112/112 [==============================] - 0s 257us/sample - loss: 0.1879 - accuracy: 0.9464 - val_loss: 0.1300 - val_accuracy: 0.9737\n",
            "Epoch 140/200\n",
            "112/112 [==============================] - 0s 229us/sample - loss: 0.1869 - accuracy: 0.9464 - val_loss: 0.1292 - val_accuracy: 0.9737\n",
            "Epoch 141/200\n",
            "112/112 [==============================] - 0s 238us/sample - loss: 0.1855 - accuracy: 0.9464 - val_loss: 0.1282 - val_accuracy: 0.9737\n",
            "Epoch 142/200\n",
            "112/112 [==============================] - 0s 196us/sample - loss: 0.1844 - accuracy: 0.9464 - val_loss: 0.1271 - val_accuracy: 0.9737\n",
            "Epoch 143/200\n",
            "112/112 [==============================] - 0s 220us/sample - loss: 0.1833 - accuracy: 0.9464 - val_loss: 0.1260 - val_accuracy: 0.9737\n",
            "Epoch 144/200\n",
            "112/112 [==============================] - 0s 219us/sample - loss: 0.1821 - accuracy: 0.9464 - val_loss: 0.1251 - val_accuracy: 0.9737\n",
            "Epoch 145/200\n",
            "112/112 [==============================] - 0s 230us/sample - loss: 0.1811 - accuracy: 0.9464 - val_loss: 0.1243 - val_accuracy: 0.9737\n",
            "Epoch 146/200\n",
            "112/112 [==============================] - 0s 211us/sample - loss: 0.1801 - accuracy: 0.9464 - val_loss: 0.1234 - val_accuracy: 0.9737\n",
            "Epoch 147/200\n",
            "112/112 [==============================] - 0s 231us/sample - loss: 0.1790 - accuracy: 0.9464 - val_loss: 0.1224 - val_accuracy: 0.9737\n",
            "Epoch 148/200\n",
            "112/112 [==============================] - 0s 198us/sample - loss: 0.1779 - accuracy: 0.9464 - val_loss: 0.1214 - val_accuracy: 0.9737\n",
            "Epoch 149/200\n",
            "112/112 [==============================] - 0s 228us/sample - loss: 0.1768 - accuracy: 0.9464 - val_loss: 0.1202 - val_accuracy: 0.9737\n",
            "Epoch 150/200\n",
            "112/112 [==============================] - 0s 195us/sample - loss: 0.1757 - accuracy: 0.9464 - val_loss: 0.1194 - val_accuracy: 0.9737\n",
            "Epoch 151/200\n",
            "112/112 [==============================] - 0s 220us/sample - loss: 0.1746 - accuracy: 0.9464 - val_loss: 0.1188 - val_accuracy: 0.9737\n",
            "Epoch 152/200\n",
            "112/112 [==============================] - 0s 193us/sample - loss: 0.1736 - accuracy: 0.9464 - val_loss: 0.1179 - val_accuracy: 0.9737\n",
            "Epoch 153/200\n",
            "112/112 [==============================] - 0s 191us/sample - loss: 0.1725 - accuracy: 0.9464 - val_loss: 0.1171 - val_accuracy: 0.9737\n",
            "Epoch 154/200\n",
            "112/112 [==============================] - 0s 223us/sample - loss: 0.1716 - accuracy: 0.9464 - val_loss: 0.1161 - val_accuracy: 1.0000\n",
            "Epoch 155/200\n",
            "112/112 [==============================] - 0s 204us/sample - loss: 0.1706 - accuracy: 0.9464 - val_loss: 0.1152 - val_accuracy: 1.0000\n",
            "Epoch 156/200\n",
            "112/112 [==============================] - 0s 231us/sample - loss: 0.1696 - accuracy: 0.9464 - val_loss: 0.1139 - val_accuracy: 1.0000\n",
            "Epoch 157/200\n",
            "112/112 [==============================] - 0s 248us/sample - loss: 0.1687 - accuracy: 0.9464 - val_loss: 0.1127 - val_accuracy: 1.0000\n",
            "Epoch 158/200\n",
            "112/112 [==============================] - 0s 201us/sample - loss: 0.1676 - accuracy: 0.9464 - val_loss: 0.1120 - val_accuracy: 1.0000\n",
            "Epoch 159/200\n",
            "112/112 [==============================] - 0s 206us/sample - loss: 0.1666 - accuracy: 0.9464 - val_loss: 0.1112 - val_accuracy: 1.0000\n",
            "Epoch 160/200\n",
            "112/112 [==============================] - 0s 199us/sample - loss: 0.1656 - accuracy: 0.9464 - val_loss: 0.1105 - val_accuracy: 1.0000\n",
            "Epoch 161/200\n",
            "112/112 [==============================] - 0s 219us/sample - loss: 0.1647 - accuracy: 0.9464 - val_loss: 0.1098 - val_accuracy: 1.0000\n",
            "Epoch 162/200\n",
            "112/112 [==============================] - 0s 191us/sample - loss: 0.1638 - accuracy: 0.9464 - val_loss: 0.1092 - val_accuracy: 1.0000\n",
            "Epoch 163/200\n",
            "112/112 [==============================] - 0s 202us/sample - loss: 0.1629 - accuracy: 0.9464 - val_loss: 0.1085 - val_accuracy: 1.0000\n",
            "Epoch 164/200\n",
            "112/112 [==============================] - 0s 240us/sample - loss: 0.1620 - accuracy: 0.9464 - val_loss: 0.1079 - val_accuracy: 1.0000\n",
            "Epoch 165/200\n",
            "112/112 [==============================] - 0s 177us/sample - loss: 0.1613 - accuracy: 0.9464 - val_loss: 0.1073 - val_accuracy: 1.0000\n",
            "Epoch 166/200\n",
            "112/112 [==============================] - 0s 197us/sample - loss: 0.1603 - accuracy: 0.9464 - val_loss: 0.1063 - val_accuracy: 1.0000\n",
            "Epoch 167/200\n",
            "112/112 [==============================] - 0s 188us/sample - loss: 0.1594 - accuracy: 0.9464 - val_loss: 0.1053 - val_accuracy: 1.0000\n",
            "Epoch 168/200\n",
            "112/112 [==============================] - 0s 189us/sample - loss: 0.1585 - accuracy: 0.9464 - val_loss: 0.1043 - val_accuracy: 1.0000\n",
            "Epoch 169/200\n",
            "112/112 [==============================] - 0s 221us/sample - loss: 0.1580 - accuracy: 0.9464 - val_loss: 0.1031 - val_accuracy: 1.0000\n",
            "Epoch 170/200\n",
            "112/112 [==============================] - 0s 227us/sample - loss: 0.1568 - accuracy: 0.9464 - val_loss: 0.1022 - val_accuracy: 1.0000\n",
            "Epoch 171/200\n",
            "112/112 [==============================] - 0s 197us/sample - loss: 0.1560 - accuracy: 0.9464 - val_loss: 0.1013 - val_accuracy: 1.0000\n",
            "Epoch 172/200\n",
            "112/112 [==============================] - 0s 218us/sample - loss: 0.1553 - accuracy: 0.9464 - val_loss: 0.1003 - val_accuracy: 1.0000\n",
            "Epoch 173/200\n",
            "112/112 [==============================] - 0s 211us/sample - loss: 0.1544 - accuracy: 0.9464 - val_loss: 0.0995 - val_accuracy: 1.0000\n",
            "Epoch 174/200\n",
            "112/112 [==============================] - 0s 201us/sample - loss: 0.1537 - accuracy: 0.9464 - val_loss: 0.0986 - val_accuracy: 1.0000\n",
            "Epoch 175/200\n",
            "112/112 [==============================] - 0s 240us/sample - loss: 0.1531 - accuracy: 0.9464 - val_loss: 0.0979 - val_accuracy: 1.0000\n",
            "Epoch 176/200\n",
            "112/112 [==============================] - 0s 185us/sample - loss: 0.1520 - accuracy: 0.9464 - val_loss: 0.0973 - val_accuracy: 1.0000\n",
            "Epoch 177/200\n",
            "112/112 [==============================] - 0s 191us/sample - loss: 0.1513 - accuracy: 0.9464 - val_loss: 0.0970 - val_accuracy: 1.0000\n",
            "Epoch 178/200\n",
            "112/112 [==============================] - 0s 176us/sample - loss: 0.1505 - accuracy: 0.9464 - val_loss: 0.0966 - val_accuracy: 1.0000\n",
            "Epoch 179/200\n",
            "112/112 [==============================] - 0s 195us/sample - loss: 0.1495 - accuracy: 0.9464 - val_loss: 0.0959 - val_accuracy: 1.0000\n",
            "Epoch 180/200\n",
            "112/112 [==============================] - 0s 180us/sample - loss: 0.1487 - accuracy: 0.9464 - val_loss: 0.0954 - val_accuracy: 1.0000\n",
            "Epoch 181/200\n",
            "112/112 [==============================] - 0s 171us/sample - loss: 0.1480 - accuracy: 0.9464 - val_loss: 0.0949 - val_accuracy: 1.0000\n",
            "Epoch 182/200\n",
            "112/112 [==============================] - 0s 176us/sample - loss: 0.1472 - accuracy: 0.9464 - val_loss: 0.0942 - val_accuracy: 1.0000\n",
            "Epoch 183/200\n",
            "112/112 [==============================] - 0s 168us/sample - loss: 0.1464 - accuracy: 0.9464 - val_loss: 0.0934 - val_accuracy: 1.0000\n",
            "Epoch 184/200\n",
            "112/112 [==============================] - 0s 260us/sample - loss: 0.1458 - accuracy: 0.9464 - val_loss: 0.0928 - val_accuracy: 1.0000\n",
            "Epoch 185/200\n",
            "112/112 [==============================] - 0s 244us/sample - loss: 0.1449 - accuracy: 0.9464 - val_loss: 0.0922 - val_accuracy: 1.0000\n",
            "Epoch 186/200\n",
            "112/112 [==============================] - 0s 178us/sample - loss: 0.1442 - accuracy: 0.9464 - val_loss: 0.0918 - val_accuracy: 1.0000\n",
            "Epoch 187/200\n",
            "112/112 [==============================] - 0s 188us/sample - loss: 0.1435 - accuracy: 0.9464 - val_loss: 0.0913 - val_accuracy: 1.0000\n",
            "Epoch 188/200\n",
            "112/112 [==============================] - 0s 209us/sample - loss: 0.1428 - accuracy: 0.9464 - val_loss: 0.0909 - val_accuracy: 1.0000\n",
            "Epoch 189/200\n",
            "112/112 [==============================] - 0s 213us/sample - loss: 0.1421 - accuracy: 0.9464 - val_loss: 0.0903 - val_accuracy: 1.0000\n",
            "Epoch 190/200\n",
            "112/112 [==============================] - 0s 230us/sample - loss: 0.1413 - accuracy: 0.9464 - val_loss: 0.0896 - val_accuracy: 1.0000\n",
            "Epoch 191/200\n",
            "112/112 [==============================] - 0s 243us/sample - loss: 0.1407 - accuracy: 0.9464 - val_loss: 0.0888 - val_accuracy: 1.0000\n",
            "Epoch 192/200\n",
            "112/112 [==============================] - 0s 227us/sample - loss: 0.1400 - accuracy: 0.9464 - val_loss: 0.0883 - val_accuracy: 1.0000\n",
            "Epoch 193/200\n",
            "112/112 [==============================] - 0s 253us/sample - loss: 0.1393 - accuracy: 0.9464 - val_loss: 0.0878 - val_accuracy: 1.0000\n",
            "Epoch 194/200\n",
            "112/112 [==============================] - 0s 198us/sample - loss: 0.1386 - accuracy: 0.9464 - val_loss: 0.0870 - val_accuracy: 1.0000\n",
            "Epoch 195/200\n",
            "112/112 [==============================] - 0s 183us/sample - loss: 0.1380 - accuracy: 0.9464 - val_loss: 0.0865 - val_accuracy: 1.0000\n",
            "Epoch 196/200\n",
            "112/112 [==============================] - 0s 182us/sample - loss: 0.1373 - accuracy: 0.9464 - val_loss: 0.0859 - val_accuracy: 1.0000\n",
            "Epoch 197/200\n",
            "112/112 [==============================] - 0s 216us/sample - loss: 0.1367 - accuracy: 0.9464 - val_loss: 0.0856 - val_accuracy: 1.0000\n",
            "Epoch 198/200\n",
            "112/112 [==============================] - 0s 212us/sample - loss: 0.1360 - accuracy: 0.9464 - val_loss: 0.0852 - val_accuracy: 1.0000\n",
            "Epoch 199/200\n",
            "112/112 [==============================] - 0s 193us/sample - loss: 0.1354 - accuracy: 0.9464 - val_loss: 0.0846 - val_accuracy: 1.0000\n",
            "Epoch 200/200\n",
            "112/112 [==============================] - 0s 196us/sample - loss: 0.1347 - accuracy: 0.9464 - val_loss: 0.0840 - val_accuracy: 1.0000\n"
          ],
          "name": "stdout"
        }
      ]
    },
    {
      "cell_type": "markdown",
      "metadata": {
        "id": "ZAwGY3Zj8QKJ",
        "colab_type": "text"
      },
      "source": [
        "## Computer Vision (recognize objects in images)\n"
      ]
    },
    {
      "cell_type": "markdown",
      "metadata": {
        "id": "ZB4ehCLYKKSd",
        "colab_type": "text"
      },
      "source": [
        "Load & prepare [MNIST](https://en.wikipedia.org/wiki/MNIST_database) dataset, which is many \"Labelled\" image files of hand-written digits.\n",
        "![MNIST dataset](https://miro.medium.com/max/479/1*yBdJCRwIJGoM7pwU-LNW6Q.png)"
      ]
    },
    {
      "cell_type": "code",
      "metadata": {
        "id": "2j3POc6RGPuI",
        "colab_type": "code",
        "colab": {}
      },
      "source": [
        "# Load MNIST dataset\n",
        "mnist = tf.keras.datasets.mnist\n",
        "\n",
        "(X_train, y_train), (X_test, y_test) = mnist.load_data()\n",
        "X_train, X_test = X_train / 255.0, X_test / 255.0\n"
      ],
      "execution_count": 0,
      "outputs": []
    },
    {
      "cell_type": "markdown",
      "metadata": {
        "id": "RC2Luan9LAC7",
        "colab_type": "text"
      },
      "source": [
        "Build \"Model\" using Keras, which calls TensorFlow implementation:"
      ]
    },
    {
      "cell_type": "code",
      "metadata": {
        "id": "Rw9oUjtELPyV",
        "colab_type": "code",
        "colab": {}
      },
      "source": [
        "model = tf.keras.models.Sequential(\n",
        "    [\n",
        "     tf.keras.layers.Flatten( input_shape=[28, 28] )\n",
        "    #  , tf.keras.layers.Dense( 128, activation='relu' )\n",
        "    #  , tf.keras.layers.Dropout( 0.2 )\n",
        "     , tf.keras.layers.Dense( 10, activation='softmax' )\n",
        "    ]\n",
        ")\n",
        "\n",
        "model.compile(\n",
        "    optimizer = 'adam'\n",
        "    , loss = 'sparse_categorical_crossentropy'\n",
        "    , metrics = [ 'accuracy' ]\n",
        ")\n",
        "\n",
        "model.summary()\n",
        "tf.keras.utils.plot_model( model, 'skip_connection.png', show_shapes=True )"
      ],
      "execution_count": 0,
      "outputs": []
    },
    {
      "cell_type": "markdown",
      "metadata": {
        "id": "QPi9Mlf9MlT7",
        "colab_type": "text"
      },
      "source": [
        "Train & evaluate model:"
      ]
    },
    {
      "cell_type": "code",
      "metadata": {
        "id": "AlBbIFpkMr1B",
        "colab_type": "code",
        "colab": {}
      },
      "source": [
        "history = model.fit( X_train, y_train, validation_data=(X_test, y_test), epochs=5 )\n"
      ],
      "execution_count": 0,
      "outputs": []
    },
    {
      "cell_type": "code",
      "metadata": {
        "id": "FY5becXlZ3ax",
        "colab_type": "code",
        "colab": {}
      },
      "source": [
        "eval_results = model.evaluate( X_test, y_test )\n",
        "eval_results"
      ],
      "execution_count": 0,
      "outputs": []
    },
    {
      "cell_type": "markdown",
      "metadata": {
        "id": "WnCxtqeaOu8m",
        "colab_type": "text"
      },
      "source": [
        "Chart the Model's \"Learning\" progress:"
      ]
    },
    {
      "cell_type": "code",
      "metadata": {
        "id": "ZgHN65-0OxW8",
        "colab_type": "code",
        "outputId": "4b5d5b6c-9b48-4f49-d717-8176322b0554",
        "colab": {
          "base_uri": "https://localhost:8080/",
          "height": 590
        }
      },
      "source": [
        "accuracy     = history.history[     'accuracy' ]\n",
        "val_accuracy = history.history[ 'val_accuracy' ]\n",
        "loss     = history.history[     'loss' ]\n",
        "val_loss = history.history[ 'val_loss' ]\n",
        "epochs = range( len( accuracy ) )\n",
        "\n",
        "plt.title( 'Training & Validation Accuracy' )\n",
        "plt.plot( epochs,     accuracy, color='green',   label='Training' )\n",
        "plt.plot( epochs, val_accuracy, color='orange', label='Validation' )\n",
        "plt.xlabel( 'Epoch' )\n",
        "plt.ylabel( 'Accuracy' )\n",
        "plt.legend()\n",
        "_ = plt.figure()\n",
        "\n",
        "plt.title( 'Training & Validation Loss' )\n",
        "plt.plot( epochs,     loss, color='red', label='Loss' )\n",
        "plt.plot( epochs, val_loss, color='orange', label='Validation' )\n",
        "plt.xlabel( 'Epoch' )\n",
        "plt.ylabel( 'Loss' )\n",
        "plt.legend()\n",
        "_ = plt.figure()\n"
      ],
      "execution_count": 12,
      "outputs": [
        {
          "output_type": "display_data",
          "data": {
            "image/png": "[encoded data removed]",
            "text/plain": [
              "<Figure size 432x288 with 1 Axes>"
            ]
          },
          "metadata": {
            "tags": []
          }
        },
        {
          "output_type": "display_data",
          "data": {
            "image/png": "[encoded data removed]",
            "text/plain": [
              "<Figure size 432x288 with 1 Axes>"
            ]
          },
          "metadata": {
            "tags": []
          }
        },
        {
          "output_type": "display_data",
          "data": {
            "text/plain": [
              "<Figure size 432x288 with 0 Axes>"
            ]
          },
          "metadata": {
            "tags": []
          }
        }
      ]
    },
    {
      "cell_type": "markdown",
      "metadata": {
        "id": "P9Iq7wPGSRov",
        "colab_type": "text"
      },
      "source": [
        "Visualize Learned Network \"Weights\":"
      ]
    },
    {
      "cell_type": "code",
      "metadata": {
        "id": "QxLgJiWfSXjq",
        "colab_type": "code",
        "colab": {}
      },
      "source": [
        "from  matplotlib.colors import LinearSegmentedColormap\n",
        "\n",
        "model.summary()\n",
        "\n",
        "def  show_layer_weights(p_digit_number):\n",
        "  dense_layer = model.layers[1]\n",
        "  weights_inspect = dense_layer.get_weights()[0]\n",
        "  dense_layer_weights = []\n",
        "  for connection in weights_inspect:\n",
        "    weight = connection[ p_digit_number ]\n",
        "    dense_layer_weights.append( weight )\n",
        "  dense_layer_weights\n",
        "  img = tf.reshape( dense_layer_weights, [28, 28] )\n",
        "  # plt.imshow( img, cmap = cmap )\n",
        "  return img\n",
        "\n",
        "fig, axes = plt.subplots( 2, 5, figsize=(10, 4) )\n",
        "fig.tight_layout()\n",
        "axes = axes.reshape(-1)\n",
        "for digit_number in range( 0, 10 ):\n",
        "  title = \"Digit \" + str( digit_number )\n",
        "  a = axes[ digit_number ]\n",
        "  img = show_layer_weights( digit_number )\n",
        "  cmap = LinearSegmentedColormap.from_list( 'rg', [\"red\", \"lightgray\", \"green\"], N=256 )\n",
        "  a.imshow( img, cmap = cmap )\n",
        "  a.set_title( title )\n",
        "  a.set_xticks(()) # ticks be gone\n",
        "  a.set_yticks(())\n",
        "plt.show()\n"
      ],
      "execution_count": 0,
      "outputs": []
    },
    {
      "cell_type": "markdown",
      "metadata": {
        "id": "QqqRNjbXZE5F",
        "colab_type": "text"
      },
      "source": [
        "## Convolution"
      ]
    },
    {
      "cell_type": "markdown",
      "metadata": {
        "id": "vpydVkfgZTE1",
        "colab_type": "text"
      },
      "source": [
        "Setup..."
      ]
    },
    {
      "cell_type": "code",
      "metadata": {
        "id": "4CSMzXHCZV5e",
        "colab_type": "code",
        "colab": {}
      },
      "source": [
        "import scipy\n",
        "from skimage  import color, data\n",
        "\n",
        "%matplotlib inline\n",
        "import matplotlib.pyplot as plt\n",
        "\n",
        "%tensorflow_version  2.x\n",
        "import  tensorflow  as  tf\n",
        "print( tf.__version__ )\n",
        "\n",
        "from  tensorflow.keras  import Model\n"
      ],
      "execution_count": 0,
      "outputs": []
    },
    {
      "cell_type": "markdown",
      "metadata": {
        "id": "6o37uPGIbeK5",
        "colab_type": "text"
      },
      "source": [
        "Load Data"
      ]
    },
    {
      "cell_type": "code",
      "metadata": {
        "id": "sFDwubQ5bl3T",
        "colab_type": "code",
        "colab": {}
      },
      "source": [
        "img = data.astronaut()\n",
        "img = color.rgb2gray( img )\n",
        "plt.axis( 'off' )\n",
        "plt.imshow( img, cmap=plt.cm.gray )\n",
        "plt.title( 'Eileen Collins, 1st Woman Shuttle Commander' )"
      ],
      "execution_count": 0,
      "outputs": []
    },
    {
      "cell_type": "markdown",
      "metadata": {
        "id": "k0hsav6XaqkH",
        "colab_type": "text"
      },
      "source": [
        "Build Model:"
      ]
    },
    {
      "cell_type": "code",
      "metadata": {
        "id": "FNZrxfGJavzn",
        "colab_type": "code",
        "colab": {}
      },
      "source": [
        "model = tf.keras.models.Sequential()\n",
        "\n",
        "model.add(\n",
        "    tf.keras.layers.Conv2D( name = 'Edges_from_Pixels'\n",
        "        , filters = 4\n",
        "        , kernel_size = ( 4, 4 )\n",
        "        , input_shape = ( 10, 10, 3 )\n",
        "    )\n",
        ")\n",
        "\n",
        "model.add(\n",
        "    tf.keras.layers.Conv2D( name = 'Shapes_from_Edges'\n",
        "        , filters = 8\n",
        "        , kernel_size = ( 3, 3 )\n",
        "    )\n",
        ")\n",
        "\n",
        "model.summary()\n",
        "tf.keras.utils.plot_model( model, 'skip_connection.png', show_shapes=True )\n"
      ],
      "execution_count": 0,
      "outputs": []
    }
  ]
}